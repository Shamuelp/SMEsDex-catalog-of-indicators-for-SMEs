{
 "cells": [
  {
   "cell_type": "markdown",
   "id": "c03ff2b4-6766-4675-ae9d-c24307526060",
   "metadata": {
    "jp-MarkdownHeadingCollapsed": true
   },
   "source": [
    "# Creación de la base de datos principal"
   ]
  },
  {
   "cell_type": "markdown",
   "id": "d987a91c-0715-4a7a-9b86-792e878cd21d",
   "metadata": {},
   "source": [
    "- Aqui hacemos el merge de todos los modulos en un gran dataframe llamado \"emicron2023\".\n",
    "- Este debe tener 330 columnas y 81018 obervaciones (filas)."
   ]
  },
  {
   "cell_type": "code",
   "execution_count": 1,
   "id": "b2b8b515-78eb-4530-b79d-070893fef5c0",
   "metadata": {},
   "outputs": [],
   "source": [
    "import pandas as pd\n",
    "import numpy as np\n",
    "from pathlib import Path\n",
    "import os\n",
    "pd.set_option('display.float_format', lambda x: '%.3f' % x)"
   ]
  },
  {
   "cell_type": "code",
   "execution_count": 2,
   "id": "9254a4f2-a22e-42f3-8eb2-1c2a974139f8",
   "metadata": {},
   "outputs": [
    {
     "name": "stdout",
     "output_type": "stream",
     "text": [
      "base: C:/Users/shamu/Documents/Jupyter/EmicronReplica/data\n",
      "ruta_csv: C:/Users/shamu/Documents/Jupyter/EmicronReplica/emicron23.csv\n"
     ]
    }
   ],
   "source": [
    "#PATHS\n",
    "#Ruta base donde están los archivos que descargamos usando el \"Downloader\"\n",
    "base = os.path.normpath(os.getcwd() + \"/data\").replace(\"\\\\\", \"/\")\n",
    "#Ruta donde se descargará el dataframe final\n",
    "ruta_csv = os.path.normpath(os.getcwd() + \"/emicron23.csv\").replace(\"\\\\\", \"/\")\n",
    "#Mostrar las rutas\n",
    "print(f\"base: {base}\")\n",
    "print(f\"ruta_csv: {ruta_csv}\")"
   ]
  },
  {
   "cell_type": "code",
   "execution_count": 3,
   "id": "9c371af5-f88a-4ba8-afb6-b228f1df149a",
   "metadata": {},
   "outputs": [],
   "source": [
    "#Modulo de capital social\n",
    "df_cs=pd.read_csv(base+'/Módulo de capital social.csv',\n",
    "                  encoding='utf-8',sep=',',low_memory=False)\n",
    "#Modulo de ventas o ingresos\n",
    "df_vi=pd.read_csv(base+'/Módulo de ventas o ingresos.csv',\n",
    "                  encoding='latin-1',sep=',',low_memory=False)\n",
    "#Módulo de características del micronegocio\n",
    "df_cm=pd.read_csv(base+'/Módulo de características del micronegocio.csv',\n",
    "                  encoding='latin-1',sep=',',low_memory=False)\n",
    "#Módulo de costos, gastos y activos.csv\n",
    "df_cga=pd.read_csv(base+'/Módulo de costos, gastos y activos.csv',\n",
    "                  encoding='latin-1',sep=',',low_memory=False)\n",
    "#Módulo de emprendimiento.csv\n",
    "df_me=pd.read_csv(base+'/Módulo de emprendimiento.csv',\n",
    "                  encoding='latin-1',sep=',',low_memory=False)\n",
    "#Módulo de identificación.csv\n",
    "df_mi=pd.read_csv(base+'/Módulo de identificación.csv',\n",
    "                  encoding='latin-1',sep=',',low_memory=False)\n",
    "#Módulo de inclusión financiera.csv\n",
    "df_if=pd.read_csv(base+'/Módulo de inclusión financiera.csv',\n",
    "                  encoding='latin-1',sep=',',low_memory=False)\n",
    "#Módulo de personal ocupado.csv\n",
    "df_po=pd.read_csv(base+'/Módulo de personal ocupado.csv',\n",
    "                  encoding='latin-1',sep=',',low_memory=False)\n",
    "#Módulo de sitio o ubicación.csv\n",
    "df_su=pd.read_csv(base+'/Módulo de sitio o ubicación.csv',\n",
    "                  encoding='latin-1',sep=',',low_memory=False)\n",
    "#Módulo de TIC.csv\n",
    "df_tic=pd.read_csv(base+'/Módulo de TIC.csv',\n",
    "                  encoding='latin-1',sep=',',low_memory=False)\n",
    "#Módulo personal ocupado (propietario(a)).csv\n",
    "df_pop=pd.read_csv(base+'/Módulo personal ocupado (propietario(a)).csv',\n",
    "                  encoding='latin-1',sep=',',low_memory=False)\n",
    "#factores de expansión departamentales\n",
    "df_fex_dep=pd.read_csv(base+'/factores_departamental_2023_proy_2018.csv',\n",
    "                  encoding='latin-1',sep=',',low_memory=False)\n",
    "df_list=['df_cs','df_vi','df_cm','df_cga','df_me','df_mi','df_if','df_po','df_su','df_tic','df_pop','df_fex_dep']"
   ]
  },
  {
   "cell_type": "code",
   "execution_count": 4,
   "id": "e1e31d13-a332-48fb-8cd0-1ebf49cfcd37",
   "metadata": {},
   "outputs": [],
   "source": [
    "columnas_cs=df_cs.columns.tolist()\n",
    "columnas_vi=df_vi.columns.tolist()\n",
    "columnas_cm=df_cm.columns.tolist()\n",
    "columnas_cga=df_cga.columns.tolist()\n",
    "columnas_me=df_me.columns.tolist()\n",
    "columnas_mi=df_mi.columns.tolist()\n",
    "columnas_if=df_if.columns.tolist()\n",
    "columnas_su=df_su.columns.tolist()\n",
    "columnas_tic=df_tic.columns.tolist()\n",
    "columnas_pop=df_pop.columns.tolist()\n",
    "columnas_fex_dep=df_fex_dep.columns.tolist()"
   ]
  },
  {
   "cell_type": "code",
   "execution_count": 5,
   "id": "283f6ac3-ec68-465a-962e-b4eafdf7169d",
   "metadata": {},
   "outputs": [],
   "source": [
    "#Lista de DataFrames a incluir en el merge (excluyendo df_po)\n",
    "df_list = [df_cs, df_vi, df_cm, df_cga, df_me, df_mi, df_if, df_su, df_tic, df_pop, df_fex_dep]\n",
    "\n",
    "#Identificar las columnas comunes\n",
    "columnas_comunes = set(df_list[0].columns)\n",
    "for df in df_list[1:]:\n",
    "    columnas_comunes &= set(df.columns)\n",
    "columnas_comunes = list(columnas_comunes)\n",
    "\n",
    "#Realizar el merge secuencialmente, evitando conflictos en las columnas duplicadas\n",
    "emicron23 = df_list[0]  #Inicializa con el primer DataFrame\n",
    "for df in df_list[1:]:\n",
    "    emicron23 = pd.merge(emicron23, df, on=columnas_comunes, how='outer', suffixes=('', '_dup'))"
   ]
  },
  {
   "cell_type": "code",
   "execution_count": 6,
   "id": "40027b96-f6d4-4548-9f72-d15c82901dd1",
   "metadata": {},
   "outputs": [
    {
     "data": {
      "text/html": [
       "<div>\n",
       "<style scoped>\n",
       "    .dataframe tbody tr th:only-of-type {\n",
       "        vertical-align: middle;\n",
       "    }\n",
       "\n",
       "    .dataframe tbody tr th {\n",
       "        vertical-align: top;\n",
       "    }\n",
       "\n",
       "    .dataframe thead th {\n",
       "        text-align: right;\n",
       "    }\n",
       "</style>\n",
       "<table border=\"1\" class=\"dataframe\">\n",
       "  <thead>\n",
       "    <tr style=\"text-align: right;\">\n",
       "      <th></th>\n",
       "      <th>DIRECTORIO</th>\n",
       "      <th>SECUENCIA_P</th>\n",
       "      <th>SECUENCIA_ENCUESTA</th>\n",
       "      <th>P3002</th>\n",
       "      <th>P3003_1</th>\n",
       "      <th>P3003_2</th>\n",
       "      <th>P3003_3</th>\n",
       "      <th>P3003_4</th>\n",
       "      <th>P3003_5</th>\n",
       "      <th>P3003_6</th>\n",
       "      <th>...</th>\n",
       "      <th>P2989</th>\n",
       "      <th>P3091</th>\n",
       "      <th>SUELDOS</th>\n",
       "      <th>PRESTACIONES</th>\n",
       "      <th>REMUNERACION_TOTAL</th>\n",
       "      <th>CLASE_TE_dup</th>\n",
       "      <th>COD_DEPTO_dup</th>\n",
       "      <th>AREA_dup</th>\n",
       "      <th>F_EXP_dup</th>\n",
       "      <th>FEX_C</th>\n",
       "    </tr>\n",
       "  </thead>\n",
       "  <tbody>\n",
       "    <tr>\n",
       "      <th>0</th>\n",
       "      <td>7277093</td>\n",
       "      <td>1</td>\n",
       "      <td>1</td>\n",
       "      <td>2</td>\n",
       "      <td>NaN</td>\n",
       "      <td>NaN</td>\n",
       "      <td>NaN</td>\n",
       "      <td>NaN</td>\n",
       "      <td>NaN</td>\n",
       "      <td>NaN</td>\n",
       "      <td>...</td>\n",
       "      <td>2</td>\n",
       "      <td>2</td>\n",
       "      <td>0.000</td>\n",
       "      <td>0</td>\n",
       "      <td>0</td>\n",
       "      <td>2</td>\n",
       "      <td>5</td>\n",
       "      <td>NaN</td>\n",
       "      <td>34.837</td>\n",
       "      <td>5.616</td>\n",
       "    </tr>\n",
       "    <tr>\n",
       "      <th>1</th>\n",
       "      <td>7277104</td>\n",
       "      <td>1</td>\n",
       "      <td>1</td>\n",
       "      <td>2</td>\n",
       "      <td>NaN</td>\n",
       "      <td>NaN</td>\n",
       "      <td>NaN</td>\n",
       "      <td>NaN</td>\n",
       "      <td>NaN</td>\n",
       "      <td>NaN</td>\n",
       "      <td>...</td>\n",
       "      <td>2</td>\n",
       "      <td>1</td>\n",
       "      <td>NaN</td>\n",
       "      <td>0</td>\n",
       "      <td>0</td>\n",
       "      <td>1</td>\n",
       "      <td>5</td>\n",
       "      <td>5.000</td>\n",
       "      <td>87.416</td>\n",
       "      <td>7.220</td>\n",
       "    </tr>\n",
       "    <tr>\n",
       "      <th>2</th>\n",
       "      <td>7277108</td>\n",
       "      <td>1</td>\n",
       "      <td>3</td>\n",
       "      <td>2</td>\n",
       "      <td>NaN</td>\n",
       "      <td>NaN</td>\n",
       "      <td>NaN</td>\n",
       "      <td>NaN</td>\n",
       "      <td>NaN</td>\n",
       "      <td>NaN</td>\n",
       "      <td>...</td>\n",
       "      <td>2</td>\n",
       "      <td>1</td>\n",
       "      <td>NaN</td>\n",
       "      <td>0</td>\n",
       "      <td>0</td>\n",
       "      <td>1</td>\n",
       "      <td>5</td>\n",
       "      <td>5.000</td>\n",
       "      <td>74.101</td>\n",
       "      <td>6.121</td>\n",
       "    </tr>\n",
       "    <tr>\n",
       "      <th>3</th>\n",
       "      <td>7277114</td>\n",
       "      <td>1</td>\n",
       "      <td>1</td>\n",
       "      <td>2</td>\n",
       "      <td>NaN</td>\n",
       "      <td>NaN</td>\n",
       "      <td>NaN</td>\n",
       "      <td>NaN</td>\n",
       "      <td>NaN</td>\n",
       "      <td>NaN</td>\n",
       "      <td>...</td>\n",
       "      <td>2</td>\n",
       "      <td>3</td>\n",
       "      <td>2600000.000</td>\n",
       "      <td>336000</td>\n",
       "      <td>2936000</td>\n",
       "      <td>1</td>\n",
       "      <td>5</td>\n",
       "      <td>5.000</td>\n",
       "      <td>132.473</td>\n",
       "      <td>10.942</td>\n",
       "    </tr>\n",
       "    <tr>\n",
       "      <th>4</th>\n",
       "      <td>7277119</td>\n",
       "      <td>1</td>\n",
       "      <td>1</td>\n",
       "      <td>2</td>\n",
       "      <td>NaN</td>\n",
       "      <td>NaN</td>\n",
       "      <td>NaN</td>\n",
       "      <td>NaN</td>\n",
       "      <td>NaN</td>\n",
       "      <td>NaN</td>\n",
       "      <td>...</td>\n",
       "      <td>2</td>\n",
       "      <td>1</td>\n",
       "      <td>NaN</td>\n",
       "      <td>0</td>\n",
       "      <td>0</td>\n",
       "      <td>2</td>\n",
       "      <td>5</td>\n",
       "      <td>NaN</td>\n",
       "      <td>14.785</td>\n",
       "      <td>3.015</td>\n",
       "    </tr>\n",
       "  </tbody>\n",
       "</table>\n",
       "<p>5 rows × 330 columns</p>\n",
       "</div>"
      ],
      "text/plain": [
       "   DIRECTORIO  SECUENCIA_P  SECUENCIA_ENCUESTA  P3002  P3003_1  P3003_2  \\\n",
       "0     7277093            1                   1      2      NaN      NaN   \n",
       "1     7277104            1                   1      2      NaN      NaN   \n",
       "2     7277108            1                   3      2      NaN      NaN   \n",
       "3     7277114            1                   1      2      NaN      NaN   \n",
       "4     7277119            1                   1      2      NaN      NaN   \n",
       "\n",
       "   P3003_3  P3003_4  P3003_5  P3003_6  ...  P2989  P3091     SUELDOS  \\\n",
       "0      NaN      NaN      NaN      NaN  ...      2      2       0.000   \n",
       "1      NaN      NaN      NaN      NaN  ...      2      1         NaN   \n",
       "2      NaN      NaN      NaN      NaN  ...      2      1         NaN   \n",
       "3      NaN      NaN      NaN      NaN  ...      2      3 2600000.000   \n",
       "4      NaN      NaN      NaN      NaN  ...      2      1         NaN   \n",
       "\n",
       "   PRESTACIONES  REMUNERACION_TOTAL  CLASE_TE_dup  COD_DEPTO_dup  AREA_dup  \\\n",
       "0             0                   0             2              5       NaN   \n",
       "1             0                   0             1              5     5.000   \n",
       "2             0                   0             1              5     5.000   \n",
       "3        336000             2936000             1              5     5.000   \n",
       "4             0                   0             2              5       NaN   \n",
       "\n",
       "   F_EXP_dup  FEX_C  \n",
       "0     34.837  5.616  \n",
       "1     87.416  7.220  \n",
       "2     74.101  6.121  \n",
       "3    132.473 10.942  \n",
       "4     14.785  3.015  \n",
       "\n",
       "[5 rows x 330 columns]"
      ]
     },
     "execution_count": 6,
     "metadata": {},
     "output_type": "execute_result"
    }
   ],
   "source": [
    "emicron23.head()"
   ]
  },
  {
   "cell_type": "code",
   "execution_count": 7,
   "id": "fbb63a94-0e2a-47be-8d6b-51d09de163e0",
   "metadata": {},
   "outputs": [
    {
     "name": "stdout",
     "output_type": "stream",
     "text": [
      "El DataFrame 'emicron23' tiene 81018 observaciones.\n"
     ]
    }
   ],
   "source": [
    "filas, columnas = emicron23.shape\n",
    "print(f\"El DataFrame 'emicron23' tiene {filas} observaciones.\")"
   ]
  },
  {
   "cell_type": "markdown",
   "id": "8a6c70c3-6156-4ca9-aa79-b6d834087816",
   "metadata": {},
   "source": [
    "Si el dataframe se ha creado correctamente, lo descargamos."
   ]
  },
  {
   "cell_type": "code",
   "execution_count": 8,
   "id": "68ca85c6-03cd-4e8b-916d-4848b1fb146a",
   "metadata": {},
   "outputs": [
    {
     "name": "stdout",
     "output_type": "stream",
     "text": [
      "El DataFrame 'emicron23' se ha guardado correctamente en C:/Users/shamu/Documents/Jupyter/EmicronReplica/emicron23.csv\n"
     ]
    }
   ],
   "source": [
    "emicron23.to_csv(ruta_csv, index=False, encoding='utf-8')\n",
    "print(f\"El DataFrame 'emicron23' se ha guardado correctamente en {ruta_csv}\")"
   ]
  }
 ],
 "metadata": {
  "kernelspec": {
   "display_name": "Python 3 (ipykernel)",
   "language": "python",
   "name": "python3"
  },
  "language_info": {
   "codemirror_mode": {
    "name": "ipython",
    "version": 3
   },
   "file_extension": ".py",
   "mimetype": "text/x-python",
   "name": "python",
   "nbconvert_exporter": "python",
   "pygments_lexer": "ipython3",
   "version": "3.12.7"
  }
 },
 "nbformat": 4,
 "nbformat_minor": 5
}
