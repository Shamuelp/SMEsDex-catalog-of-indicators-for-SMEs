{
 "cells": [
  {
   "cell_type": "markdown",
   "id": "70e00641-9e7f-455a-bda1-da5bf81231a5",
   "metadata": {},
   "source": [
    "# Nociones iniciales"
   ]
  },
  {
   "cell_type": "code",
   "execution_count": 1,
   "id": "55bb1033-2795-4014-8d46-d9b1469af9a4",
   "metadata": {},
   "outputs": [],
   "source": [
    "import os\n",
    "import pandas as pd"
   ]
  },
  {
   "cell_type": "code",
   "execution_count": 2,
   "id": "5809e6ae-50ad-496b-a638-040dc479495d",
   "metadata": {},
   "outputs": [],
   "source": [
    "pd.options.mode.chained_assignment = None  # Desactiva las advertencias"
   ]
  },
  {
   "cell_type": "code",
   "execution_count": 3,
   "id": "92768ea0-9e9c-4a58-8d8f-d7e7b918cf44",
   "metadata": {},
   "outputs": [],
   "source": [
    "emicron23_path = os.path.normpath(os.getcwd() + \"/emicron23.csv\").replace(\"\\\\\", \"/\")\n",
    "emicron23 = pd.read_csv(emicron23_path)"
   ]
  },
  {
   "cell_type": "code",
   "execution_count": 4,
   "id": "586a421a-30c8-45ac-b48c-f53d6034de78",
   "metadata": {
    "collapsed": true,
    "jupyter": {
     "outputs_hidden": true,
     "source_hidden": true
    }
   },
   "outputs": [
    {
     "name": "stdout",
     "output_type": "stream",
     "text": [
      "['DIRECTORIO', 'SECUENCIA_P', 'SECUENCIA_ENCUESTA', 'P3002', 'P3003_1', 'P3003_2', 'P3003_3', 'P3003_4', 'P3003_5', 'P3003_6']\n",
      "['P3003_7', 'P3003_8', 'P3004', 'P3005_1', 'P3005_2', 'P3005_3', 'P3005_4', 'P3005_5', 'P3005_6', 'P3005_7']\n",
      "['P3005_8', 'P3006', 'P3007_1', 'P3007_2', 'P3007_3', 'P3007_4', 'P3007_5', 'P3007_6', 'P3007_7', 'P3007_8']\n",
      "['P3008', 'P3009_1', 'P3009_2', 'P3009_3', 'P3009_4', 'P3009_5', 'P3009_6', 'P3009_7', 'P3009_8', 'P3010']\n",
      "['P3011_1', 'P3011_2', 'P3011_3', 'P3011_4', 'P3011_5', 'P3011_6', 'P3011_7', 'P3011_8', 'P3012', 'P3013_1']\n",
      "['P3013_2', 'P3013_3', 'P3013_4', 'P3013_5', 'P3013_6', 'P3013_7', 'P3013_8', 'P3022', 'P3015_1', 'P3015_2']\n",
      "['P3015_3', 'P3015_4', 'P3015_5', 'P3015_6', 'P3015_7', 'P3015_8', 'P3016', 'P3021_1', 'P3021_2', 'P3021_3']\n",
      "['P3021_4', 'P3021_5', 'P3021_6', 'P3021_7', 'P3021_8', 'P4003', 'CLASE_TE', 'COD_DEPTO', 'AREA', 'F_EXP']\n",
      "['P3057', 'P3058', 'P3059', 'P3060', 'P3061', 'P3062', 'P4002', 'P3063', 'P3064', 'P3065']\n",
      "['P3066', 'P3067', 'P3092', 'P3093', 'P4036', 'P4005', 'P4006', 'P4007', 'P4008', 'P4009']\n",
      "['P4010', 'P4011', 'P4012', 'P4013', 'P4014', 'P4015', 'P4016', 'P4017', 'P4018', 'P4037']\n",
      "['P3068_ENE', 'P3068_FEB', 'P3068_MAR', 'P3068_ABR', 'P3068_MAY', 'P3068_JUN', 'P3068_JUL', 'P3068_AGO', 'P3068_SEP', 'P3068_OCT']\n",
      "['P3068_NOV', 'P3068_DIC', 'P3068_TOD', 'P3068_NIN', 'P4019', 'P4020', 'P4021', 'P4022', 'P4023', 'P4024']\n",
      "['P4025', 'P4026', 'P4027', 'P4028', 'P4029', 'P4030', 'P4031', 'P4032', 'P4038', 'P3072']\n",
      "['VENTAS_MES_ANTERIOR', 'VENTAS_MES_ANIO_ANTERIOR', 'VENTAS_ANIO_ANTERIOR', 'VALOR_AGREGADO', 'INGRESO_MIXTO', 'CLASE_TE_dup', 'COD_DEPTO_dup', 'AREA_dup', 'F_EXP_dup', 'P1633']\n",
      "['P986', 'P640', 'P4000', 'P1055', 'P1056', 'P661', 'P1057', 'P4004', 'P2991', 'P2992']\n",
      "['P2993', 'CLASE_TE_dup.1', 'COD_DEPTO_dup.1', 'AREA_dup.1', 'F_EXP_dup.1', 'P3056_A', 'P3056_B', 'P3056_C', 'P3056_D', 'P3056_E']\n",
      "['P3057_A', 'P3057_B', 'P3057_C', 'P3057_D', 'P3057_E', 'P3017_A', 'P3017_B', 'P3017_C', 'P3017_D', 'P3017_E']\n",
      "['P3017_F', 'P3017_G', 'P3017_H', 'P3017_K', 'P3017_I', 'P3017_J', 'P3017_L', 'P3018_1', 'P3018_2', 'P3018_3']\n",
      "['P3018_4', 'P3018_5', 'P3018_6', 'P3018_7', 'P3018_A', 'P3018_B', 'P3018_C', 'P3018_D', 'P3018_E', 'P3018_F']\n",
      "['P3019', 'COSTOS_MES_ANTERIOR', 'COSTOS_ANIO_ANTERIOR', 'GASTOS_MES', 'CONSUMO_INTERMEDIO', 'CLASE_TE_dup.2', 'COD_DEPTO_dup.2', 'AREA_dup.2', 'F_EXP_dup.2', 'P3050']\n",
      "['P3051', 'P639', 'P3052', 'CLASE_TE_dup.3', 'COD_DEPTO_dup.3', 'AREA_dup.3', 'F_EXP_dup.3', 'COD_DEPTO_dup.4', 'AREA_dup.4', 'CLASE_TE_dup.4']\n",
      "['P35', 'P241', 'MES_REF', 'P3031', 'P3032_1', 'P3032_2', 'P3032_3', 'P3033', 'P3034', 'P3035']\n",
      "['P3000', 'GRUPOS4', 'GRUPOS12', 'F_EXP_dup.4', 'P1764_1', 'P1764_2', 'P1764_3', 'P1764_4', 'P1764_5', 'P1764_6']\n",
      "['P1764_7', 'P1765', 'P1567', 'P1569', 'P1568', 'P1571_1', 'P1571_2', 'P1571_3', 'P1571_4', 'P1571_5']\n",
      "['P1571_6', 'P1570', 'P1570_1', 'P1570_2', 'P1572_1', 'P1572_2', 'P1572_3', 'P1572_4', 'P1572_5', 'P1572_6']\n",
      "['P3014', 'P1573_1', 'P1573_2', 'P1573_3', 'P1573_4', 'P1573_5', 'P1573_6', 'P1574', 'P1771', 'CLASE_TE_dup.5']\n",
      "['COD_DEPTO_dup.5', 'AREA_dup.5', 'F_EXP_dup.5', 'P3053', 'P3095', 'P3096', 'P3097', 'P3098', 'P3054', 'P3055']\n",
      "['P469', 'CLASE_TE_dup.6', 'COD_DEPTO_dup.6', 'AREA_dup.6', 'F_EXP_dup.6', 'P4001', 'P1087', 'P1088', 'P977', 'P976']\n",
      "['P978', 'P979', 'P994', 'P2532', 'P1559', 'P2524', 'P1093', 'P2528', 'P1095', 'P980']\n",
      "['P1006_1', 'P1006_2', 'P1006_3', 'P1006_4', 'P1006_5', 'P1006_6', 'P1006_7', 'P1006_8', 'P1006_9', 'P1006_10']\n",
      "['P1006_11', 'P1006_12', 'P1006_13', 'CLASE_TE_dup.7', 'COD_DEPTO_dup.7', 'AREA_dup.7', 'F_EXP_dup.7', 'P3088', 'P3089', 'P3090']\n",
      "['P2989', 'P3091', 'SUELDOS', 'PRESTACIONES', 'REMUNERACION_TOTAL', 'CLASE_TE_dup.8', 'COD_DEPTO_dup.8', 'AREA_dup.8', 'F_EXP_dup.8', 'FEX_C']\n"
     ]
    }
   ],
   "source": [
    "columns = emicron23.columns\n",
    "for i in range(0, len(columns), 10):\n",
    "    print(columns[i:i+10].tolist())"
   ]
  },
  {
   "cell_type": "markdown",
   "id": "e6f8727b-9edf-4f6c-b8b2-e4b77eca3894",
   "metadata": {},
   "source": [
    "# Indicadores Principales"
   ]
  },
  {
   "cell_type": "code",
   "execution_count": 4,
   "id": "5ef27f39-eb65-45ab-8a04-0962d52389aa",
   "metadata": {},
   "outputs": [
    {
     "name": "stdout",
     "output_type": "stream",
     "text": [
      "Hay un total de 5,188,402 micronegocios\n"
     ]
    }
   ],
   "source": [
    "#Total de micronegocios. total_micronegocios_nacional\n",
    "total_micronegocios_nacional_2023 = int(emicron23['F_EXP'].sum())\n",
    "print(f\"Hay un total de {total_micronegocios_nacional_2023:,} micronegocios\")"
   ]
  },
  {
   "cell_type": "code",
   "execution_count": 6,
   "id": "c5bfb876-9b19-4b30-846a-9274f824c4d8",
   "metadata": {},
   "outputs": [
    {
     "name": "stdout",
     "output_type": "stream",
     "text": [
      "Se generaron 77,221 billones en valor agregado en el año\n"
     ]
    }
   ],
   "source": [
    "#Generación de valor agregado. valor_agregado_nacional_billones\n",
    "valor_agregado_micronegocios_nacional_2023 = int((((emicron23['VALOR_AGREGADO']*emicron23['F_EXP']).sum())*12)/1000000000)\n",
    "valor_agregado_nacional_billones_2023 = f\"Se generaron {valor_agregado_micronegocios_nacional_2023:,} billones en valor agregado en el año\"\n",
    "print(valor_agregado_nacional_billones_2023)"
   ]
  },
  {
   "cell_type": "code",
   "execution_count": 8,
   "id": "f8d41d51-ce85-41f8-9316-140894242e16",
   "metadata": {},
   "outputs": [
    {
     "name": "stdout",
     "output_type": "stream",
     "text": [
      "                                                                              Nombre_Grupo  Porcentaje\n",
      "                             Comercio y reparación de vehículos automotores y motocicletas   26.561461\n",
      "                                        Agricultura, ganadería, caza, silvicultura y pesca   14.032822\n",
      "                                                                   Industria manufacturera   12.737639\n",
      "                                                               Transporte y almacenamiento   10.833714\n",
      "                      Actividades inmobiliarias, profesionales y servicios administrativos   10.350888\n",
      "                                                         Alojamiento y servicios de comida    7.466962\n",
      "                                                                              Construcción    7.209325\n",
      "Actividades artísticas, de entretenimiento, de recreación y otras actividades de servicios    5.888810\n",
      "                          Actividades de atención a la salud humana y de asistencia social    1.799222\n",
      "                                                              Información y comunicaciones    1.414092\n",
      "                                                                                 Educación    0.976933\n",
      "                                                                                   Minería    0.721377\n",
      "                                                                                       NaN    0.006754\n"
     ]
    }
   ],
   "source": [
    "#Participación de valor agregado por actividad económica  (porcentaje). participacion_valor_agregado_por_grupo\n",
    "nombres_grupos_2023 = {\n",
    "    '01': 'Agricultura, ganadería, caza, silvicultura y pesca',\n",
    "    '02': 'Minería',\n",
    "    '03': 'Industria manufacturera',\n",
    "    '04': 'Construcción',\n",
    "    '05': 'Comercio y reparación de vehículos automotores y motocicletas',\n",
    "    '06': 'Transporte y almacenamiento',\n",
    "    '07': 'Alojamiento y servicios de comida',\n",
    "    '08': 'Información y comunicaciones',\n",
    "    '09': 'Actividades inmobiliarias, profesionales y servicios administrativos',\n",
    "    '10': 'Educación',\n",
    "    '11': 'Actividades de atención a la salud humana y de asistencia social',\n",
    "    '12': 'Actividades artísticas, de entretenimiento, de recreación y otras actividades de servicios'\n",
    "}\n",
    "emicron23['GRUPOS12'] = emicron23['GRUPOS12'].astype(str).str.zfill(2)\n",
    "valor_agregado_total_2023 = (emicron23['VALOR_AGREGADO'] * emicron23['F_EXP']).sum()\n",
    "valor_agregado_por_grupo_2023 = emicron23.groupby('GRUPOS12').agg(\n",
    "    Valor_Agregado_2023=('VALOR_AGREGADO', lambda x: (x * emicron23.loc[x.index, 'F_EXP']).sum())\n",
    ").reset_index()\n",
    "valor_agregado_por_grupo_2023['Porcentaje'] = (valor_agregado_por_grupo_2023['Valor_Agregado_2023'] / valor_agregado_total_2023) * 100\n",
    "valor_agregado_por_grupo_2023['Nombre_Grupo'] = valor_agregado_por_grupo_2023['GRUPOS12'].map(nombres_grupos_2023)\n",
    "participacion_valor_agregado_por_grupo_2023 = valor_agregado_por_grupo_2023[['Nombre_Grupo', 'Porcentaje']]\n",
    "participacion_valor_agregado_por_grupo_2023 = participacion_valor_agregado_por_grupo_2023.sort_values(by='Porcentaje', ascending=False)\n",
    "print(participacion_valor_agregado_por_grupo_2023.to_string(index=False))"
   ]
  },
  {
   "cell_type": "code",
   "execution_count": 9,
   "id": "6d56c810-ab72-4784-96d0-fe76cbeb6444",
   "metadata": {},
   "outputs": [
    {
     "name": "stdout",
     "output_type": "stream",
     "text": [
      "                                                                              Nombre_Grupo  Porcentaje\n",
      "                             Comercio y reparación de vehículos automotores y motocicletas   24.338072\n",
      "                                        Agricultura, ganadería, caza, silvicultura y pesca   20.241043\n",
      "                                                               Transporte y almacenamiento   12.047480\n",
      "                                                                   Industria manufacturera   10.166770\n",
      "Actividades artísticas, de entretenimiento, de recreación y otras actividades de servicios    9.647971\n",
      "                                                         Alojamiento y servicios de comida    8.461346\n",
      "                                                                              Construcción    5.906101\n",
      "                      Actividades inmobiliarias, profesionales y servicios administrativos    5.273133\n",
      "                          Actividades de atención a la salud humana y de asistencia social    1.145125\n",
      "                                                                                   Minería    1.096944\n",
      "                                                                                 Educación    0.973704\n",
      "                                                              Información y comunicaciones    0.681969\n",
      "                                                                                       NaN    0.020342\n"
     ]
    }
   ],
   "source": [
    "#Distribución de micro negocios según actividad económica (porcentaje). micronegocios_por_grupo\n",
    "conteo_por_grupo_2023 = emicron23.groupby('GRUPOS12').agg(Cantidad=('F_EXP', 'sum')).reset_index()\n",
    "total_micronegocios_2023 = conteo_por_grupo_2023['Cantidad'].sum()\n",
    "conteo_por_grupo_2023['Porcentaje'] = (conteo_por_grupo_2023['Cantidad'] / total_micronegocios_2023) * 100\n",
    "conteo_por_grupo_2023['Nombre_Grupo'] = conteo_por_grupo_2023['GRUPOS12'].map(nombres_grupos_2023)\n",
    "micronegocios_por_grupo_2023 = conteo_por_grupo_2023[['Nombre_Grupo', 'Porcentaje']]\n",
    "micronegocios_por_grupo_2023 = micronegocios_por_grupo_2023.sort_values(by='Porcentaje', ascending=False)\n",
    "print(micronegocios_por_grupo_2023.to_string(index=False))"
   ]
  },
  {
   "cell_type": "markdown",
   "id": "6e7729de-4bdb-46eb-b009-bb90a54eaa84",
   "metadata": {},
   "source": [
    "# Resultados total nacional - cabeceras municipales - centros poblados y rural disperso"
   ]
  },
  {
   "cell_type": "code",
   "execution_count": 11,
   "id": "cdf31e90-a7d0-4107-9386-587ef3d2501f",
   "metadata": {},
   "outputs": [
    {
     "name": "stdout",
     "output_type": "stream",
     "text": [
      "                                   Propietario  Trabajador  Total_Clase  \\\n",
      "Cabeceras Municipales                 339087.9   3320889.7    3659977.7   \n",
      "Centros Poblados y Rural Disperso     135883.5   1392541.3    1528424.8   \n",
      "Total Nacional                        474971.4   4713431.0    5188402.4   \n",
      "\n",
      "                                   %_Propietarios  %_Trabajadores  \n",
      "Cabeceras Municipales                         9.3            90.7  \n",
      "Centros Poblados y Rural Disperso             8.9            91.1  \n",
      "Total Nacional                                9.2            90.8  \n"
     ]
    }
   ],
   "source": [
    "#Micronegocios según situación en el empleo del propietario(a). micronegocios_segun_situacion_empleo_propietario\n",
    "df_filtered = emicron23[['P3033', 'CLASE_TE', 'F_EXP']]\n",
    "grouped = df_filtered.groupby(['CLASE_TE', 'P3033']).sum().reset_index()\n",
    "pivot_table = grouped.pivot_table(index='CLASE_TE', columns='P3033', values='F_EXP', aggfunc='sum')\n",
    "pivot_table.columns = ['Propietario', 'Trabajador']\n",
    "pivot_table['Total_Clase'] = pivot_table['Propietario'] + pivot_table['Trabajador']\n",
    "pivot_table['%_Propietarios'] = (pivot_table['Propietario'] / pivot_table['Total_Clase']) * 100\n",
    "pivot_table['%_Trabajadores'] = (pivot_table['Trabajador'] / pivot_table['Total_Clase']) * 100\n",
    "total_propietario_2023 = df_filtered[df_filtered['P3033'] == 1]['F_EXP'].sum()\n",
    "total_trabajador_2023 = df_filtered[df_filtered['P3033'] == 2]['F_EXP'].sum()\n",
    "total_general_2023 = total_propietario_2023 + total_trabajador_2023\n",
    "total_df = pd.DataFrame({\n",
    "    'Propietario': [total_propietario_2023],\n",
    "    'Trabajador': [total_trabajador_2023],\n",
    "    'Total_Clase': [total_general_2023],\n",
    "    '%_Propietarios': [(total_propietario_2023 / total_general_2023) * 100],\n",
    "    '%_Trabajadores': [(total_trabajador_2023 / total_general_2023) * 100]\n",
    "})\n",
    "micronegocios_segun_situacion_empleo_propietario_2023 = pd.concat([pivot_table, total_df], axis=0)\n",
    "micronegocios_segun_situacion_empleo_propietario_2023.index = ['Cabeceras Municipales', 'Centros Poblados y Rural Disperso', 'Total Nacional']\n",
    "print(micronegocios_segun_situacion_empleo_propietario_2023.round(1))"
   ]
  },
  {
   "cell_type": "code",
   "execution_count": 12,
   "id": "850918ae-f4d3-4c86-a7ce-d2fdbbf9f32f",
   "metadata": {},
   "outputs": [
    {
     "name": "stdout",
     "output_type": "stream",
     "text": [
      "                                   Hombres  Mujeres\n",
      "CLASE_TE                                           \n",
      "Cabeceras Municipales                 62.0     38.0\n",
      "Centros Poblados y Rural Disperso     70.4     29.6\n",
      "Total Nacional                        64.5     35.5\n"
     ]
    }
   ],
   "source": [
    "#Propietarios de micronegocios según sexo (porcentaje). propietarios_sex\n",
    "conteo_expansion = emicron23.groupby(['CLASE_TE', 'P35'])['F_EXP'].sum().unstack(fill_value=0)\n",
    "conteo_expansion.columns = ['Hombres', 'Mujeres']\n",
    "conteo_expansion.index = conteo_expansion.index.map({\n",
    "    1: 'Cabeceras Municipales',\n",
    "    2: 'Centros Poblados y Rural Disperso'\n",
    "})\n",
    "total_nacional_expansion_2023 = conteo_expansion.sum()\n",
    "conteo_expansion.loc['Total Nacional'] = total_nacional_expansion_2023\n",
    "propietarios_sex_2023 = conteo_expansion.div(conteo_expansion.sum(axis=1), axis=0) * 100\n",
    "print(propietarios_sex_2023.round(1))"
   ]
  },
  {
   "cell_type": "code",
   "execution_count": 13,
   "id": "2993319d-c027-4173-9401-dc30b6b2a8d9",
   "metadata": {},
   "outputs": [
    {
     "name": "stdout",
     "output_type": "stream",
     "text": [
      "Rango_Personal_Ocupado             1 persona  2-3 personas  4-9 personas\n",
      "CLASE_TE                                                                \n",
      "Cabeceras Municipales                   83.9          13.8           2.3\n",
      "Centros Poblados y Rural Disperso       79.2          17.6           3.3\n",
      "Total Nacional                          82.5          14.9           2.6\n",
      "NO empleamos los datos expandidos con proyecciones con base en los resultados del CNPV 2018\n"
     ]
    }
   ],
   "source": [
    "#Micronegocios según rangos de personal ocupado (porcentaje). rangos_personal_ocup\n",
    "bins = [0, 1, 3, 9] \n",
    "labels = ['1 persona', '2-3 personas', '4-9 personas']  \n",
    "emicron23['Rango_Personal_Ocupado'] = pd.cut(emicron23['P3091'], bins=bins, labels=labels, right=True)\n",
    "conteo_expansion = emicron23.groupby(['CLASE_TE', 'Rango_Personal_Ocupado'], observed=False)['F_EXP'].sum().unstack(fill_value=0)\n",
    "conteo_expansion.index = conteo_expansion.index.map({\n",
    "    1: 'Cabeceras Municipales',\n",
    "    2: 'Centros Poblados y Rural Disperso'\n",
    "})\n",
    "total_nacional_expansion_2023 = conteo_expansion.sum()\n",
    "conteo_expansion.loc['Total Nacional'] = total_nacional_expansion_2023\n",
    "rangos_personal_ocup_2023 = conteo_expansion.div(conteo_expansion.sum(axis=1), axis=0) * 100\n",
    "print(rangos_personal_ocup_2023.round(1))\n",
    "print(\"NO empleamos los datos expandidos con proyecciones con base en los resultados del CNPV 2018\")"
   ]
  },
  {
   "cell_type": "markdown",
   "id": "73d0d452-1013-4fc3-adfa-2f6f76f9f066",
   "metadata": {},
   "source": [
    "# Formalidad"
   ]
  },
  {
   "cell_type": "code",
   "execution_count": 14,
   "id": "e8378a14-d5b7-47c1-b211-94685c1637e6",
   "metadata": {},
   "outputs": [
    {
     "name": "stdout",
     "output_type": "stream",
     "text": [
      "En Colombia, el 23.8% de los micronegocios cuentan con RUT.\n"
     ]
    }
   ],
   "source": [
    "#Formalidad empresarial (Registro único tributario RUT). formalidad\n",
    "total_exp = emicron23['F_EXP'].sum()\n",
    "rut_exp = emicron23[emicron23['P1633'] == 1]['F_EXP'].sum()\n",
    "porcentaje_rut = (rut_exp / total_exp) * 100\n",
    "formalidad_2023 = round(porcentaje_rut, 1)\n",
    "print(f\"En Colombia, el {formalidad_2023}% de los micronegocios cuentan con RUT.\")"
   ]
  },
  {
   "cell_type": "code",
   "execution_count": 15,
   "id": "e525eb31-4087-4889-a3a3-9c40ec542b97",
   "metadata": {},
   "outputs": [
    {
     "name": "stdout",
     "output_type": "stream",
     "text": [
      "                                   Porcentaje con RUT  Porcentaje sin RUT\n",
      "Total Nacional                                   23.8                76.2\n",
      "Cabeceras Municipales                            31.2                68.8\n",
      "Centros Poblados y Rural Disperso                 6.2                93.8\n"
     ]
    }
   ],
   "source": [
    "#Distribución según tenencia de RUT (porcentaje). formalidad_rut_tipo\n",
    "cabeceras = emicron23[emicron23['CLASE_TE'] == 1]\n",
    "centros_poblados = emicron23[emicron23['CLASE_TE'] == 2]\n",
    "def calcular_porcentaje_rut_comparacion(sub_df):\n",
    "    total_exp = sub_df['F_EXP'].sum()\n",
    "    rut_si_exp = sub_df[sub_df['P1633'] == 1]['F_EXP'].sum()  # Negocios con RUT\n",
    "    rut_no_exp = sub_df[sub_df['P1633'] == 2]['F_EXP'].sum()  # Negocios sin RUT   \n",
    "    porcentaje_rut_si = (rut_si_exp / total_exp) * 100\n",
    "    porcentaje_rut_no = (rut_no_exp / total_exp) * 100    \n",
    "    return round(porcentaje_rut_si, 1), round(porcentaje_rut_no, 1)\n",
    "porcentaje_rut_si_no_cabeceras = calcular_porcentaje_rut_comparacion(cabeceras)\n",
    "porcentaje_rut_si_no_centros = calcular_porcentaje_rut_comparacion(centros_poblados)\n",
    "total_nacional = pd.concat([cabeceras, centros_poblados])\n",
    "porcentaje_rut_si_no_nacional = calcular_porcentaje_rut_comparacion(total_nacional)\n",
    "formalidad_rut_tipo_2023 = pd.DataFrame({\n",
    "    'Porcentaje con RUT': [porcentaje_rut_si_no_nacional[0], porcentaje_rut_si_no_cabeceras[0], porcentaje_rut_si_no_centros[0]],\n",
    "    'Porcentaje sin RUT': [porcentaje_rut_si_no_nacional[1], porcentaje_rut_si_no_cabeceras[1], porcentaje_rut_si_no_centros[1]]\n",
    "}, index=['Total Nacional', 'Cabeceras Municipales', 'Centros Poblados y Rural Disperso'])\n",
    "print(formalidad_rut_tipo_2023)"
   ]
  },
  {
   "cell_type": "code",
   "execution_count": 16,
   "id": "7c609da0-10ce-4d4e-bc2a-8e1ad25f6320",
   "metadata": {},
   "outputs": [
    {
     "name": "stdout",
     "output_type": "stream",
     "text": [
      "                                   Porcentaje con Cámara de Comercio  \\\n",
      "Total Nacional                                                  10.5   \n",
      "Cabeceras Municipales                                           13.9   \n",
      "Centros Poblados y Rural Disperso                                2.4   \n",
      "\n",
      "                                   Porcentaje sin Cámara de Comercio  \n",
      "Total Nacional                                                  89.5  \n",
      "Cabeceras Municipales                                           86.1  \n",
      "Centros Poblados y Rural Disperso                               97.6  \n"
     ]
    }
   ],
   "source": [
    "#Distribución según tenencia de registro en Cámara de Comercio (porcentaje). formalidad_rcc_tipo\n",
    "cabeceras = emicron23[emicron23['CLASE_TE'] == 1]\n",
    "centros_poblados = emicron23[emicron23['CLASE_TE'] == 2]\n",
    "def calcular_porcentaje_camara_comercio_comparacion(sub_df):\n",
    "    total_exp = sub_df['F_EXP'].sum()\n",
    "    camara_comercio_si_exp = sub_df[sub_df['P1055'] == 1]['F_EXP'].sum()  # Negocios registrados en Cámara de Comercio\n",
    "    camara_comercio_no_exp = sub_df[sub_df['P1055'] == 2]['F_EXP'].sum()  # Negocios no registrados en Cámara de Comercio   \n",
    "    porcentaje_camara_comercio_si = (camara_comercio_si_exp / total_exp) * 100 if total_exp > 0 else 0\n",
    "    porcentaje_camara_comercio_no = (camara_comercio_no_exp / total_exp) * 100 if total_exp > 0 else 0    \n",
    "    return round(porcentaje_camara_comercio_si, 1), round(porcentaje_camara_comercio_no, 1)\n",
    "porcentaje_camara_comercio_si_no_cabeceras = calcular_porcentaje_camara_comercio_comparacion(cabeceras)\n",
    "porcentaje_camara_comercio_si_no_centros = calcular_porcentaje_camara_comercio_comparacion(centros_poblados)\n",
    "total_nacional = pd.concat([cabeceras, centros_poblados])\n",
    "porcentaje_camara_comercio_si_no_nacional = calcular_porcentaje_camara_comercio_comparacion(total_nacional)\n",
    "formalidad_rcc_tipo_2023 = pd.DataFrame({\n",
    "    'Porcentaje con Cámara de Comercio': [porcentaje_camara_comercio_si_no_nacional[0], porcentaje_camara_comercio_si_no_cabeceras[0], porcentaje_camara_comercio_si_no_centros[0]],\n",
    "    'Porcentaje sin Cámara de Comercio': [porcentaje_camara_comercio_si_no_nacional[1], porcentaje_camara_comercio_si_no_cabeceras[1], porcentaje_camara_comercio_si_no_centros[1]]\n",
    "}, index=['Total Nacional', 'Cabeceras Municipales', 'Centros Poblados y Rural Disperso'])\n",
    "print(formalidad_rcc_tipo_2023)"
   ]
  },
  {
   "cell_type": "code",
   "execution_count": 17,
   "id": "52d91048-cd9b-475f-95bc-aaba819743e2",
   "metadata": {},
   "outputs": [
    {
     "name": "stdout",
     "output_type": "stream",
     "text": [
      "                                   Porcentaje que pagó salud y pensión  \\\n",
      "Total Nacional                                                     9.4   \n",
      "Cabeceras Municipales                                             12.7   \n",
      "Centros Poblados y Rural Disperso                                  1.6   \n",
      "\n",
      "                                   Porcentaje que no pagó  \\\n",
      "Total Nacional                                       87.4   \n",
      "Cabeceras Municipales                                83.2   \n",
      "Centros Poblados y Rural Disperso                    97.6   \n",
      "\n",
      "                                   Porcentaje que solo pagó salud  \\\n",
      "Total Nacional                                                3.0   \n",
      "Cabeceras Municipales                                         4.0   \n",
      "Centros Poblados y Rural Disperso                             0.7   \n",
      "\n",
      "                                   Porcentaje que solo pagó pensión  \n",
      "Total Nacional                                                  0.2  \n",
      "Cabeceras Municipales                                           0.2  \n",
      "Centros Poblados y Rural Disperso                               0.1  \n"
     ]
    }
   ],
   "source": [
    "#Distribución de propietarios según aportes a salud y pensión (porcentaje). prop_aport_salud_pens_tipo\n",
    "cabeceras = emicron23[emicron23['CLASE_TE'] == 1]\n",
    "centros_poblados = emicron23[emicron23['CLASE_TE'] == 2]\n",
    "def calcular_porcentaje_salud_pension_comparacion(sub_df):\n",
    "    total_exp = sub_df['F_EXP'].sum()\n",
    "    pagado_exp = sub_df[sub_df['P3088'] == 1]['F_EXP'].sum()  # Pagó salud y pensión\n",
    "    no_pagado_exp = sub_df[sub_df['P3088'] == 2]['F_EXP'].sum()  # No pagó\n",
    "    solo_salud_exp = sub_df[sub_df['P3088'] == 3]['F_EXP'].sum()  # Solo pagó salud\n",
    "    solo_pension_exp = sub_df[sub_df['P3088'] == 4]['F_EXP'].sum()  # Solo pagó pensión\n",
    "    porcentaje_pagado = (pagado_exp / total_exp) * 100 if total_exp > 0 else 0\n",
    "    porcentaje_no_pagado = (no_pagado_exp / total_exp) * 100 if total_exp > 0 else 0\n",
    "    porcentaje_solo_salud = (solo_salud_exp / total_exp) * 100 if total_exp > 0 else 0\n",
    "    porcentaje_solo_pension = (solo_pension_exp / total_exp) * 100 if total_exp > 0 else 0\n",
    "    return round(porcentaje_pagado, 1), round(porcentaje_no_pagado, 1), round(porcentaje_solo_salud, 1), round(porcentaje_solo_pension, 1)\n",
    "porcentaje_salud_y_pension_cabeceras = calcular_porcentaje_salud_pension_comparacion(cabeceras)\n",
    "porcentaje_salud_y_pension_centros = calcular_porcentaje_salud_pension_comparacion(centros_poblados)\n",
    "total_nacional = pd.concat([cabeceras, centros_poblados])\n",
    "porcentaje_salud_y_pension_nacional = calcular_porcentaje_salud_pension_comparacion(total_nacional)\n",
    "prop_aport_salud_pens_tipo_2023 = pd.DataFrame({\n",
    "    'Porcentaje que pagó salud y pensión': [porcentaje_salud_y_pension_nacional[0], porcentaje_salud_y_pension_cabeceras[0], porcentaje_salud_y_pension_centros[0]],\n",
    "    'Porcentaje que no pagó': [porcentaje_salud_y_pension_nacional[1], porcentaje_salud_y_pension_cabeceras[1], porcentaje_salud_y_pension_centros[1]],\n",
    "    'Porcentaje que solo pagó salud': [porcentaje_salud_y_pension_nacional[2], porcentaje_salud_y_pension_cabeceras[2], porcentaje_salud_y_pension_centros[2]],\n",
    "    'Porcentaje que solo pagó pensión': [porcentaje_salud_y_pension_nacional[3], porcentaje_salud_y_pension_cabeceras[3], porcentaje_salud_y_pension_centros[3]]\n",
    "}, index=['Total Nacional', 'Cabeceras Municipales', 'Centros Poblados y Rural Disperso'])\n",
    "print(prop_aport_salud_pens_tipo_2023)"
   ]
  },
  {
   "cell_type": "code",
   "execution_count": 18,
   "id": "4affd7e0-b048-4af2-9100-0fbe938cdf00",
   "metadata": {},
   "outputs": [
    {
     "name": "stdout",
     "output_type": "stream",
     "text": [
      "                                   Porcentaje que pagó ARL  \\\n",
      "Total Nacional                                         6.9   \n",
      "Cabeceras Municipales                                  9.3   \n",
      "Centros Poblados y Rural Disperso                      1.0   \n",
      "\n",
      "                                   Porcentaje que no pagó ARL  \n",
      "Total Nacional                                           93.1  \n",
      "Cabeceras Municipales                                    90.7  \n",
      "Centros Poblados y Rural Disperso                        99.0  \n"
     ]
    }
   ],
   "source": [
    "#Distribución de propietarios según aportes a ARL (porcentaje). prop_aport_arl_tipo\n",
    "cabeceras = emicron23[emicron23['CLASE_TE'] == 1]\n",
    "centros_poblados = emicron23[emicron23['CLASE_TE'] == 2]\n",
    "def calcular_porcentaje_arl_comparacion(sub_df):\n",
    "    total_exp = sub_df['F_EXP'].sum()\n",
    "    arl_pagado_exp = sub_df[sub_df['P3090'] == 1]['F_EXP'].sum()  # Pagó ARL\n",
    "    arl_no_pagado_exp = sub_df[sub_df['P3090'] == 2]['F_EXP'].sum()  # No pagó ARL\n",
    "    porcentaje_arl_pagado = (arl_pagado_exp / total_exp) * 100 if total_exp > 0 else 0\n",
    "    porcentaje_arl_no_pagado = (arl_no_pagado_exp / total_exp) * 100 if total_exp > 0 else 0\n",
    "    return round(porcentaje_arl_pagado, 1), round(porcentaje_arl_no_pagado, 1)\n",
    "porcentaje_arl_cabeceras = calcular_porcentaje_arl_comparacion(cabeceras)\n",
    "porcentaje_arl_centros = calcular_porcentaje_arl_comparacion(centros_poblados)\n",
    "total_nacional = pd.concat([cabeceras, centros_poblados])\n",
    "porcentaje_arl_nacional = calcular_porcentaje_arl_comparacion(total_nacional)\n",
    "prop_aport_arl_tipo_2023 = pd.DataFrame({\n",
    "    'Porcentaje que pagó ARL': [porcentaje_arl_nacional[0], porcentaje_arl_cabeceras[0], porcentaje_arl_centros[0]],\n",
    "    'Porcentaje que no pagó ARL': [porcentaje_arl_nacional[1], porcentaje_arl_cabeceras[1], porcentaje_arl_centros[1]]\n",
    "}, index=['Total Nacional', 'Cabeceras Municipales', 'Centros Poblados y Rural Disperso'])\n",
    "print(prop_aport_arl_tipo_2023)"
   ]
  },
  {
   "cell_type": "code",
   "execution_count": 19,
   "id": "232f5ad9-19be-4c73-8e79-cc133fcb9ce2",
   "metadata": {
    "scrolled": true
   },
   "outputs": [
    {
     "name": "stdout",
     "output_type": "stream",
     "text": [
      "                                   No Renovó (%)  Renovó (%)\n",
      "Cabeceras Municipales                       74.1        25.9\n",
      "Centros Poblados y Rural Disperso           74.7        25.3\n",
      "Total Nacional                              74.1        25.9\n"
     ]
    }
   ],
   "source": [
    "#Distribución de la cantidad de micronegocios según solicitud o renovación del registro ante Cámara de Comercio durante el año 2023 (porcentaje). \n",
    "#solicitud_rcc_tipo\n",
    "emicron23['peso'] = emicron23['F_EXP']\n",
    "resultados = emicron23.groupby(['CLASE_TE', 'P661'])['peso'].sum().unstack(fill_value=0)\n",
    "resultados['Total'] = resultados.sum(axis=1)\n",
    "resultados_percentage = resultados.div(resultados['Total'], axis=0) * 100\n",
    "total_nacional_no_renovo = resultados.loc[:, 2].sum()  # Suma de quienes NO renovaron (P661 == 2)\n",
    "total_nacional_renovo = resultados.loc[:, 1].sum()    # Suma de quienes RENOVARON (P661 == 1)\n",
    "total_nacional = pd.Series({\n",
    "    1: total_nacional_renovo,\n",
    "    2: total_nacional_no_renovo\n",
    "})\n",
    "total_nacional_percentage = total_nacional / total_nacional.sum() * 100\n",
    "resultados_percentage.loc['Total Nacional'] = total_nacional_percentage\n",
    "resultados_percentage = resultados_percentage.drop(columns='Total')\n",
    "resultados_percentage.index = ['Cabeceras Municipales', 'Centros Poblados y Rural Disperso', 'Total Nacional']\n",
    "resultados_percentage.columns = ['No Renovó (%)', 'Renovó (%)']\n",
    "solicitud_rcc_tipo_2023 = resultados_percentage.round(1)\n",
    "print(solicitud_rcc_tipo_2023)"
   ]
  },
  {
   "cell_type": "code",
   "execution_count": 20,
   "id": "1c52932a-8575-4f25-814f-afbb0512c988",
   "metadata": {},
   "outputs": [
    {
     "name": "stdout",
     "output_type": "stream",
     "text": [
      "                                   Balance General o P&G (%)  \\\n",
      "Cabeceras Municipales                                    2.3   \n",
      "Centros Poblados y Rural Disperso                        0.4   \n",
      "Total Nacional                                           1.7   \n",
      "\n",
      "                                   Libro de Registro Diario (%)  \\\n",
      "Cabeceras Municipales                                       3.7   \n",
      "Centros Poblados y Rural Disperso                           1.2   \n",
      "Total Nacional                                              3.0   \n",
      "\n",
      "                                   Otro Tipo de Cuentas (%)  \\\n",
      "Cabeceras Municipales                                  34.7   \n",
      "Centros Poblados y Rural Disperso                      16.9   \n",
      "Total Nacional                                         29.5   \n",
      "\n",
      "                                   Informes Financieros (%)  \\\n",
      "Cabeceras Municipales                                   0.4   \n",
      "Centros Poblados y Rural Disperso                       0.1   \n",
      "Total Nacional                                          0.3   \n",
      "\n",
      "                                   No Lleva Registros (%)  \n",
      "Cabeceras Municipales                                59.0  \n",
      "Centros Poblados y Rural Disperso                    81.3  \n",
      "Total Nacional                                       65.5  \n"
     ]
    }
   ],
   "source": [
    "#Distribución de micronegocios según tipo de registro contable (porcentaje). registro_contable_tipo\n",
    "emicron23['peso'] = emicron23['F_EXP']\n",
    "resultados = emicron23.groupby(['CLASE_TE', 'P640'])['peso'].sum().unstack(fill_value=0)\n",
    "resultados['Total'] = resultados.sum(axis=1)\n",
    "resultados_percentage = resultados.div(resultados['Total'], axis=0) * 100\n",
    "total_nacional_1 = resultados.loc[:, 1].sum()  # Suma de Balance general o P&G\n",
    "total_nacional_2 = resultados.loc[:, 2].sum()  # Suma de Libro de registro diario\n",
    "total_nacional_3 = resultados.loc[:, 3].sum()  # Suma de Otro tipo de cuentas\n",
    "total_nacional_4 = resultados.loc[:, 4].sum()  # Suma de Informes financieros\n",
    "total_nacional_5 = resultados.loc[:, 5].sum()  # Suma de No lleva registros\n",
    "total_nacional = pd.Series({\n",
    "    1: total_nacional_1,\n",
    "    2: total_nacional_2,\n",
    "    3: total_nacional_3,\n",
    "    4: total_nacional_4,\n",
    "    5: total_nacional_5\n",
    "})\n",
    "total_nacional_percentage = total_nacional / total_nacional.sum() * 100\n",
    "resultados_percentage.loc['Total Nacional'] = total_nacional_percentage\n",
    "resultados_percentage = resultados_percentage.drop(columns='Total')\n",
    "resultados_percentage.index = ['Cabeceras Municipales', 'Centros Poblados y Rural Disperso', 'Total Nacional']\n",
    "resultados_percentage.columns = ['Balance General o P&G (%)', 'Libro de Registro Diario (%)', \n",
    "                                 'Otro Tipo de Cuentas (%)', 'Informes Financieros (%)', 'No Lleva Registros (%)']\n",
    "registro_contable_tipo_2023 = resultados_percentage.round(1)\n",
    "print(registro_contable_tipo_2023)"
   ]
  },
  {
   "cell_type": "code",
   "execution_count": 21,
   "id": "ff20f511-c8f8-4806-8dbb-86fc6d6f9cef",
   "metadata": {},
   "outputs": [
    {
     "name": "stdout",
     "output_type": "stream",
     "text": [
      "Sí (%)              23.3\n",
      "No (%)              12.4\n",
      "No Responsable (%)  59.8\n",
      "No Informa (%)       4.5\n"
     ]
    }
   ],
   "source": [
    "#Micronegocios según declaración de impuestos renta (porcentaje). declaracion_tx\n",
    "emicron23['peso'] = emicron23['F_EXP']\n",
    "resultados = emicron23.groupby('P2991')['peso'].sum()\n",
    "resultados_percentage = (resultados / resultados.sum()) * 100\n",
    "resultados_percentage.index = ['Sí (%)', 'No (%)', 'No Responsable (%)', 'No Informa (%)']\n",
    "resultados_percentage = resultados_percentage.round(1)\n",
    "declaracion_tx_2023 = pd.DataFrame(resultados_percentage)\n",
    "print(declaracion_tx_2023.to_string(header=False))"
   ]
  },
  {
   "cell_type": "code",
   "execution_count": 22,
   "id": "535cbec4-1c66-4946-b318-bba41b895967",
   "metadata": {},
   "outputs": [
    {
     "name": "stdout",
     "output_type": "stream",
     "text": [
      "Sí (%)               5.5\n",
      "No (%)               1.2\n",
      "No Responsable (%)  92.9\n",
      "No Informa (%)       0.4\n"
     ]
    }
   ],
   "source": [
    "#Micronegocios según declaración de impuestos iva (porcentaje). declaracion_iva\n",
    "emicron23['peso'] = emicron23['F_EXP']\n",
    "resultados = emicron23.groupby('P2992')['peso'].sum()\n",
    "resultados_percentage = (resultados / resultados.sum()) * 100\n",
    "resultados_percentage.index = ['Sí (%)', 'No (%)', 'No Responsable (%)', 'No Informa (%)']\n",
    "resultados_percentage = resultados_percentage.round(1)\n",
    "declaracion_iva_2023 = pd.DataFrame(resultados_percentage)\n",
    "print(declaracion_iva_2023.to_string(header=False))"
   ]
  },
  {
   "cell_type": "code",
   "execution_count": 23,
   "id": "beb3558f-b99a-4a53-86e2-ce39ea8d30ff",
   "metadata": {
    "scrolled": true
   },
   "outputs": [
    {
     "name": "stdout",
     "output_type": "stream",
     "text": [
      "Sí (%)              14.6\n",
      "No (%)              11.4\n",
      "No Responsable (%)  69.2\n",
      "No Informa (%)       4.7\n"
     ]
    }
   ],
   "source": [
    "#Micronegocios según declaración de impuestos ica (porcentaje). declaracion_ica\n",
    "emicron23['peso'] = emicron23['F_EXP']\n",
    "resultados = emicron23.groupby('P2993')['peso'].sum()\n",
    "resultados_percentage = (resultados / resultados.sum()) * 100\n",
    "resultados_percentage.index = ['Sí (%)', 'No (%)', 'No Responsable (%)', 'No Informa (%)']\n",
    "resultados_percentage = resultados_percentage.round(1)\n",
    "declaracion_ica_2023 = pd.DataFrame(resultados_percentage)\n",
    "print(declaracion_ica_2023.to_string(header=False))"
   ]
  },
  {
   "cell_type": "markdown",
   "id": "3a370786-f53a-4a31-8af6-f33c7c42f490",
   "metadata": {},
   "source": [
    "# Emprendimiento"
   ]
  },
  {
   "cell_type": "code",
   "execution_count": 24,
   "id": "e37e4558-9b5f-4945-b913-5e9c4161d0ed",
   "metadata": {},
   "outputs": [
    {
     "name": "stdout",
     "output_type": "stream",
     "text": [
      "                                      Cabeceras Municipales (%)  \\\n",
      "Contitucion                                                       \n",
      "Otras personas, un familiar y otro                          1.2   \n",
      "Usted solo                                                 88.2   \n",
      "Usted y otras personas no familiares                        2.1   \n",
      "Usted y otros familiares                                    8.5   \n",
      "\n",
      "                                      Centros Poblados y Rural Disperso (%)  \\\n",
      "Contitucion                                                                   \n",
      "Otras personas, un familiar y otro                                      5.8   \n",
      "Usted solo                                                             72.1   \n",
      "Usted y otras personas no familiares                                    2.5   \n",
      "Usted y otros familiares                                               19.6   \n",
      "\n",
      "                                      Total Nacional (%)  \n",
      "Contitucion                                               \n",
      "Otras personas, un familiar y otro                   2.5  \n",
      "Usted solo                                          83.5  \n",
      "Usted y otras personas no familiares                 2.2  \n",
      "Usted y otros familiares                            11.7  \n"
     ]
    }
   ],
   "source": [
    "#Distribución de micronegocios según quién creó o constituyó el negocio (porcentaje). const_micron_tipo\n",
    "emicron23['Contitucion'] = emicron23['P3050'].replace({4: 'Otras personas, un familiar y otro',\n",
    "                                                           5: 'Otras personas, un familiar y otro',\n",
    "                                                           6: 'Otras personas, un familiar y otro'})\n",
    "emicron23['Contitucion'] = emicron23['Contitucion'].replace({1: 'Usted solo',\n",
    "                                                                   2: 'Usted y otros familiares',\n",
    "                                                                   3: 'Usted y otras personas no familiares'})\n",
    "def calcular_porcentajes(df, clase_te=None):\n",
    "    if clase_te is not None:\n",
    "        df = df[df['CLASE_TE'] == clase_te]\n",
    "    tabla = df.groupby('Contitucion')['F_EXP'].sum()\n",
    "    tabla_porcentajes = (tabla / tabla.sum()) * 100  \n",
    "    return tabla_porcentajes.round(1)\n",
    "porcentajes_cabeceras = calcular_porcentajes(emicron23, clase_te=1)\n",
    "porcentajes_rural = calcular_porcentajes(emicron23, clase_te=2)\n",
    "porcentajes_nacional = calcular_porcentajes(emicron23)\n",
    "const_micron_tipo_2023 = pd.DataFrame({\n",
    "    'Cabeceras Municipales (%)': porcentajes_cabeceras,\n",
    "    'Centros Poblados y Rural Disperso (%)': porcentajes_rural,\n",
    "    'Total Nacional (%)': porcentajes_nacional\n",
    "})\n",
    "print(const_micron_tipo_2023)"
   ]
  },
  {
   "cell_type": "code",
   "execution_count": 25,
   "id": "3c5ffa8a-ade2-44cb-85bd-a3400b569a15",
   "metadata": {},
   "outputs": [
    {
     "name": "stdout",
     "output_type": "stream",
     "text": [
      "                                             Cabeceras Municipales (%)  \\\n",
      "Motivo                                                                   \n",
      "Complementar o mejorar el ingreso familiar                         9.9   \n",
      "No experiencia o capacitación / Otro                               2.4   \n",
      "No tiene otra alternativa de ingresos                             34.5   \n",
      "Oportunidad de negocio en el mercado                              33.2   \n",
      "Para ejercer su oficio, carrera o profesión                       15.2   \n",
      "Por tradición familiar o lo heredó                                 4.8   \n",
      "\n",
      "                                             Centros Poblados y Rural Disperso (%)  \\\n",
      "Motivo                                                                               \n",
      "Complementar o mejorar el ingreso familiar                                     7.0   \n",
      "No experiencia o capacitación / Otro                                           2.5   \n",
      "No tiene otra alternativa de ingresos                                         38.0   \n",
      "Oportunidad de negocio en el mercado                                          26.0   \n",
      "Para ejercer su oficio, carrera o profesión                                    3.4   \n",
      "Por tradición familiar o lo heredó                                            23.2   \n",
      "\n",
      "                                             Total Nacional (%)  \n",
      "Motivo                                                           \n",
      "Complementar o mejorar el ingreso familiar                  9.0  \n",
      "No experiencia o capacitación / Otro                        2.4  \n",
      "No tiene otra alternativa de ingresos                      35.5  \n",
      "Oportunidad de negocio en el mercado                       31.1  \n",
      "Para ejercer su oficio, carrera o profesión                11.7  \n",
      "Por tradición familiar o lo heredó                         10.2  \n"
     ]
    }
   ],
   "source": [
    "#Distribución de micronegocios según motivo principal para la creación o constitución del negocio (porcentaje). motivo_const_tipo\n",
    "emicron23['Motivo'] = emicron23['P3051'].replace({6: 'No experiencia o capacitación / Otro',\n",
    "                                                           7: 'No experiencia o capacitación / Otro'})\n",
    "emicron23['Motivo'] = emicron23['Motivo'].replace({\n",
    "    1: 'No tiene otra alternativa de ingresos',\n",
    "    2: 'Oportunidad de negocio en el mercado',\n",
    "    3: 'Por tradición familiar o lo heredó',\n",
    "    4: 'Complementar o mejorar el ingreso familiar',\n",
    "    5: 'Para ejercer su oficio, carrera o profesión'\n",
    "})\n",
    "def calcular_porcentajes(df, clase_te=None):\n",
    "    if clase_te is not None:\n",
    "        df = df[df['CLASE_TE'] == clase_te]\n",
    "    tabla = df.groupby('Motivo')['F_EXP'].sum()\n",
    "    tabla_porcentajes = (tabla / tabla.sum()) * 100   \n",
    "    return tabla_porcentajes.round(1)\n",
    "porcentajes_cabeceras = calcular_porcentajes(emicron23, clase_te=1)\n",
    "porcentajes_rural = calcular_porcentajes(emicron23, clase_te=2)\n",
    "porcentajes_nacional = calcular_porcentajes(emicron23)\n",
    "motivo_const_tipo_2023 = pd.DataFrame({\n",
    "    'Cabeceras Municipales (%)': porcentajes_cabeceras,\n",
    "    'Centros Poblados y Rural Disperso (%)': porcentajes_rural,\n",
    "    'Total Nacional (%)': porcentajes_nacional\n",
    "})\n",
    "print(motivo_const_tipo_2023)"
   ]
  },
  {
   "cell_type": "code",
   "execution_count": 26,
   "id": "c855d05a-645f-4237-844b-9811093bef04",
   "metadata": {},
   "outputs": [
    {
     "name": "stdout",
     "output_type": "stream",
     "text": [
      "                         Cabeceras Municipales (%)  \\\n",
      "Tiempo                                               \n",
      "10 años y más                                 41.6   \n",
      "De 1 a menos de 3 años                        15.7   \n",
      "De 3 a menos de 5 años                        14.9   \n",
      "De 5 a menos de 10 años                       19.1   \n",
      "Menos de un año                                8.7   \n",
      "\n",
      "                         Centros Poblados y Rural Disperso (%)  \\\n",
      "Tiempo                                                           \n",
      "10 años y más                                             58.0   \n",
      "De 1 a menos de 3 años                                    11.8   \n",
      "De 3 a menos de 5 años                                    10.1   \n",
      "De 5 a menos de 10 años                                   14.4   \n",
      "Menos de un año                                            5.7   \n",
      "\n",
      "                         Total Nacional (%)  \n",
      "Tiempo                                       \n",
      "10 años y más                          46.4  \n",
      "De 1 a menos de 3 años                 14.6  \n",
      "De 3 a menos de 5 años                 13.5  \n",
      "De 5 a menos de 10 años                17.7  \n",
      "Menos de un año                         7.8  \n"
     ]
    }
   ],
   "source": [
    "#Distribución de micronegocios según tiempo de funcionamiento (porcentaje). micron_t_tipo\n",
    "emicron23['Tiempo'] = emicron23['P639'].replace({\n",
    "    1: 'Menos de un año',\n",
    "    2: 'De 1 a menos de 3 años',\n",
    "    3: 'De 3 a menos de 5 años',\n",
    "    4: 'De 5 a menos de 10 años',\n",
    "    5: '10 años y más'\n",
    "})\n",
    "def calcular_porcentajes(df, clase_te=None):\n",
    "    if clase_te is not None:\n",
    "        df = df[df['CLASE_TE'] == clase_te]\n",
    "    tabla = df.groupby('Tiempo')['F_EXP'].sum()\n",
    "    tabla_porcentajes = (tabla / tabla.sum()) * 100   \n",
    "    return tabla_porcentajes.round(1)\n",
    "porcentajes_cabeceras = calcular_porcentajes(emicron23, clase_te=1)\n",
    "porcentajes_rural = calcular_porcentajes(emicron23, clase_te=2)\n",
    "porcentajes_nacional = calcular_porcentajes(emicron23)\n",
    "micron_t_tipo_2023 = pd.DataFrame({\n",
    "    'Cabeceras Municipales (%)': porcentajes_cabeceras,\n",
    "    'Centros Poblados y Rural Disperso (%)': porcentajes_rural,\n",
    "    'Total Nacional (%)': porcentajes_nacional\n",
    "})\n",
    "print(micron_t_tipo_2023)"
   ]
  },
  {
   "cell_type": "code",
   "execution_count": 27,
   "id": "1b350bb8-7134-4bed-8996-cfba9b8f1093",
   "metadata": {},
   "outputs": [
    {
     "name": "stdout",
     "output_type": "stream",
     "text": [
      "                                  Cabeceras Municipales (%)  \\\n",
      "Fuente                                                        \n",
      "Ahorros personales                                     56.8   \n",
      "Capital semilla / No sabe / Otro                        1.5   \n",
      "No requirió financiación                               18.8   \n",
      "Prestamistas                                            2.9   \n",
      "Préstamos bancarios                                     7.9   \n",
      "Préstamos familiares                                   12.1   \n",
      "\n",
      "                                  Centros Poblados y Rural Disperso (%)  \\\n",
      "Fuente                                                                    \n",
      "Ahorros personales                                                 59.3   \n",
      "Capital semilla / No sabe / Otro                                    2.3   \n",
      "No requirió financiación                                           16.0   \n",
      "Prestamistas                                                        1.5   \n",
      "Préstamos bancarios                                                10.1   \n",
      "Préstamos familiares                                               10.7   \n",
      "\n",
      "                                  Total Nacional (%)  \n",
      "Fuente                                                \n",
      "Ahorros personales                              57.6  \n",
      "Capital semilla / No sabe / Otro                 1.7  \n",
      "No requirió financiación                        18.0  \n",
      "Prestamistas                                     2.5  \n",
      "Préstamos bancarios                              8.5  \n",
      "Préstamos familiares                            11.7  \n"
     ]
    }
   ],
   "source": [
    "#Distribución de micronegocios según mayor fuente de recursos para la creación o constitución del negocio  (porcentaje). micron_financ\n",
    "emicron23['Fuente'] = emicron23['P3052'].replace({\n",
    "    5: 'Capital semilla / No sabe / Otro',\n",
    "    7: 'Capital semilla / No sabe / Otro',\n",
    "    8: 'Capital semilla / No sabe / Otro'\n",
    "})\n",
    "emicron23['Fuente'] = emicron23['Fuente'].replace({\n",
    "    1: 'Ahorros personales',\n",
    "    2: 'Préstamos familiares',\n",
    "    3: 'Préstamos bancarios',\n",
    "    4: 'Prestamistas',\n",
    "    6: 'No requirió financiación'\n",
    "})\n",
    "def calcular_porcentajes(df, clase_te=None):\n",
    "    if clase_te is not None:\n",
    "        df = df[df['CLASE_TE'] == clase_te]\n",
    "    tabla = df.groupby('Fuente')['F_EXP'].sum()\n",
    "    tabla_porcentajes = (tabla / tabla.sum()) * 100\n",
    "    return tabla_porcentajes.round(1)\n",
    "porcentajes_cabeceras = calcular_porcentajes(emicron23, clase_te=1)\n",
    "porcentajes_rural = calcular_porcentajes(emicron23, clase_te=2)\n",
    "porcentajes_nacional = calcular_porcentajes(emicron23)\n",
    "micron_financ_2023 = pd.DataFrame({\n",
    "    'Cabeceras Municipales (%)': porcentajes_cabeceras,\n",
    "    'Centros Poblados y Rural Disperso (%)': porcentajes_rural,\n",
    "    'Total Nacional (%)': porcentajes_nacional\n",
    "})\n",
    "print(micron_financ_2023)"
   ]
  },
  {
   "cell_type": "markdown",
   "id": "01bd9cd9-e561-43b5-814a-a7677b4b3152",
   "metadata": {},
   "source": [
    "# Sitio o Ubicación"
   ]
  },
  {
   "cell_type": "code",
   "execution_count": 28,
   "id": "acf96825-86ef-4abc-a93a-fd20f5677259",
   "metadata": {},
   "outputs": [
    {
     "name": "stdout",
     "output_type": "stream",
     "text": [
      "                                                    Cabeceras Municipales (%)  \\\n",
      "Ubicacion                                                                       \n",
      "Ambulante - sitio al descubierto                                         11.4   \n",
      "De puerta en puerta (a domicilio)                                        20.3   \n",
      "En su vivienda o en otra vivienda                                        31.0   \n",
      "Finca                                                                     2.7   \n",
      "Local, tienda, taller, fábrica, oficina, consul...                       16.0   \n",
      "Obra y construcción                                                       2.7   \n",
      "Otra                                                                      1.5   \n",
      "Vehículo con o sin motor                                                 14.3   \n",
      "\n",
      "                                                    Centros Poblados y Rural Disperso (%)  \\\n",
      "Ubicacion                                                                                   \n",
      "Ambulante - sitio al descubierto                                                      4.3   \n",
      "De puerta en puerta (a domicilio)                                                    15.7   \n",
      "En su vivienda o en otra vivienda                                                    22.3   \n",
      "Finca                                                                                39.1   \n",
      "Local, tienda, taller, fábrica, oficina, consul...                                    4.1   \n",
      "Obra y construcción                                                                   1.4   \n",
      "Otra                                                                                  8.2   \n",
      "Vehículo con o sin motor                                                              5.0   \n",
      "\n",
      "                                                    Total Nacional (%)  \n",
      "Ubicacion                                                               \n",
      "Ambulante - sitio al descubierto                                   9.3  \n",
      "De puerta en puerta (a domicilio)                                 19.0  \n",
      "En su vivienda o en otra vivienda                                 28.4  \n",
      "Finca                                                             13.4  \n",
      "Local, tienda, taller, fábrica, oficina, consul...                12.5  \n",
      "Obra y construcción                                                2.3  \n",
      "Otra                                                               3.5  \n",
      "Vehículo con o sin motor                                          11.6  \n"
     ]
    }
   ],
   "source": [
    "#Distribución de micronegocios según sitio o ubicación (porcentaje). emicron_ubic_tipo\n",
    "emicron23['Ubicacion'] = emicron23['P3053'].replace({\n",
    "    1: 'En su vivienda o en otra vivienda',\n",
    "    2: 'Local, tienda, taller, fábrica, oficina, consultorio',\n",
    "    3: 'De puerta en puerta (a domicilio)',\n",
    "    4: 'Ambulante - sitio al descubierto',\n",
    "    5: 'Vehículo con o sin motor',\n",
    "    6: 'Obra y construcción',\n",
    "    7: 'Finca',\n",
    "    8: 'Otra'\n",
    "})\n",
    "def calcular_porcentajes(df, clase_te=None):\n",
    "    if clase_te is not None:\n",
    "        df = df[df['CLASE_TE'] == clase_te]\n",
    "    tabla = df.groupby('Ubicacion')['F_EXP'].sum()\n",
    "    tabla_porcentajes = (tabla / tabla.sum()) * 100   \n",
    "    return tabla_porcentajes.round(1)\n",
    "porcentajes_cabeceras = calcular_porcentajes(emicron23, clase_te=1)\n",
    "porcentajes_rural = calcular_porcentajes(emicron23, clase_te=2)\n",
    "porcentajes_nacional = calcular_porcentajes(emicron23)\n",
    "emicron_ubic_tipo_2023 = pd.DataFrame({\n",
    "    'Cabeceras Municipales (%)': porcentajes_cabeceras,\n",
    "    'Centros Poblados y Rural Disperso (%)': porcentajes_rural,\n",
    "    'Total Nacional (%)': porcentajes_nacional\n",
    "})\n",
    "print(emicron_ubic_tipo_2023)"
   ]
  },
  {
   "cell_type": "markdown",
   "id": "c818b8f3-92d8-42be-bc80-b463f97f038e",
   "metadata": {},
   "source": [
    "# Tecnologías de la Información y la Comunicación"
   ]
  },
  {
   "cell_type": "code",
   "execution_count": 29,
   "id": "b7da1608-f2ed-4409-ac6b-c9d4475e3a7a",
   "metadata": {},
   "outputs": [
    {
     "name": "stdout",
     "output_type": "stream",
     "text": [
      "                                  Cabeceras Municipales (%)  \\\n",
      "Uso de Dispositivos Electronicos                              \n",
      "No                                                     84.7   \n",
      "Sí                                                     15.3   \n",
      "\n",
      "                                  Centros Poblados y Rural Disperso (%)  \\\n",
      "Uso de Dispositivos Electronicos                                          \n",
      "No                                                                 98.6   \n",
      "Sí                                                                  1.4   \n",
      "\n",
      "                                  Total Nacional (%)  \n",
      "Uso de Dispositivos Electronicos                      \n",
      "No                                              88.8  \n",
      "Sí                                              11.2  \n"
     ]
    }
   ],
   "source": [
    "#Distribución de micronegocios según uso de dispositivos electrónicos (porcentaje). uso_electr_tipo\n",
    "emicron23['Uso de Dispositivos Electronicos'] = emicron23['P4001'].replace({\n",
    "    1: 'Sí',\n",
    "    2: 'No'\n",
    "})\n",
    "def calcular_porcentajes(df, clase_te=None):\n",
    "    if clase_te is not None:\n",
    "        df = df[df['CLASE_TE'] == clase_te]\n",
    "    tabla = df.groupby('Uso de Dispositivos Electronicos')['F_EXP'].sum()\n",
    "    tabla_porcentajes = (tabla / tabla.sum()) * 100  \n",
    "    return tabla_porcentajes.round(1)\n",
    "porcentajes_cabeceras = calcular_porcentajes(emicron23, clase_te=1)\n",
    "porcentajes_rural = calcular_porcentajes(emicron23, clase_te=2)\n",
    "porcentajes_nacional = calcular_porcentajes(emicron23)\n",
    "uso_electr_tipo_2023 = pd.DataFrame({\n",
    "    'Cabeceras Municipales (%)': porcentajes_cabeceras,\n",
    "    'Centros Poblados y Rural Disperso (%)': porcentajes_rural,\n",
    "    'Total Nacional (%)': porcentajes_nacional\n",
    "})\n",
    "print(uso_electr_tipo_2023)"
   ]
  },
  {
   "cell_type": "code",
   "execution_count": 30,
   "id": "d8dfacaf-e368-4f9b-8217-149e7a226378",
   "metadata": {},
   "outputs": [
    {
     "name": "stdout",
     "output_type": "stream",
     "text": [
      "                         Cabeceras Municipales (%)  \\\n",
      "Uso de Telefono Celular                              \n",
      "No                                            23.5   \n",
      "Sí                                            76.5   \n",
      "\n",
      "                         Centros Poblados y Rural Disperso (%)  \\\n",
      "Uso de Telefono Celular                                          \n",
      "No                                                        51.3   \n",
      "Sí                                                        48.7   \n",
      "\n",
      "                         Total Nacional (%)  \n",
      "Uso de Telefono Celular                      \n",
      "No                                     31.6  \n",
      "Sí                                     68.4  \n"
     ]
    }
   ],
   "source": [
    "#Distribución de micronegocios según uso del teléfono celular (porcentaje). uso_cel_tipo\n",
    "emicron23['Uso de Telefono Celular'] = emicron23['P976'].replace({\n",
    "    1: 'Sí',\n",
    "    2: 'No'\n",
    "})\n",
    "def calcular_porcentajes(df, clase_te=None):\n",
    "    if clase_te is not None:\n",
    "        df = df[df['CLASE_TE'] == clase_te]\n",
    "    tabla = df.groupby('Uso de Telefono Celular')['F_EXP'].sum()\n",
    "    tabla_porcentajes = (tabla / tabla.sum()) * 100\n",
    "    return tabla_porcentajes.round(1)\n",
    "porcentajes_cabeceras = calcular_porcentajes(emicron23, clase_te=1)\n",
    "porcentajes_rural = calcular_porcentajes(emicron23, clase_te=2)\n",
    "porcentajes_nacional = calcular_porcentajes(emicron23)\n",
    "uso_cel_tipo_2023 = pd.DataFrame({\n",
    "    'Cabeceras Municipales (%)': porcentajes_cabeceras,\n",
    "    'Centros Poblados y Rural Disperso (%)': porcentajes_rural,\n",
    "    'Total Nacional (%)': porcentajes_nacional\n",
    "})\n",
    "print(uso_cel_tipo_2023)"
   ]
  },
  {
   "cell_type": "code",
   "execution_count": 31,
   "id": "afb0787a-ca73-4667-8e42-df0d88582d65",
   "metadata": {},
   "outputs": [
    {
     "name": "stdout",
     "output_type": "stream",
     "text": [
      "                         Cabeceras Municipales (%)  \\\n",
      "Tiene Acceso a Internet                              \n",
      "No                                            44.3   \n",
      "Sí                                            55.7   \n",
      "\n",
      "                         Centros Poblados y Rural Disperso (%)  \\\n",
      "Tiene Acceso a Internet                                          \n",
      "No                                                        83.5   \n",
      "Sí                                                        16.5   \n",
      "\n",
      "                         Total Nacional (%)  \n",
      "Tiene Acceso a Internet                      \n",
      "No                                     55.8  \n",
      "Sí                                     44.2  \n"
     ]
    }
   ],
   "source": [
    "#Distribución de micronegocios según uso del servicio de internet (porcentaje). uso_internet_tipo\n",
    "emicron23['Tiene Acceso a Internet'] = emicron23['P2524'].replace({\n",
    "    1: 'Sí',\n",
    "    2: 'No'\n",
    "})\n",
    "def calcular_porcentajes(df, clase_te=None):\n",
    "    if clase_te is not None:\n",
    "        df = df[df['CLASE_TE'] == clase_te]\n",
    "    tabla = df.groupby('Tiene Acceso a Internet')['F_EXP'].sum()\n",
    "    tabla_porcentajes = (tabla / tabla.sum()) * 100\n",
    "    return tabla_porcentajes.round(1)\n",
    "porcentajes_cabeceras = calcular_porcentajes(emicron23, clase_te=1)\n",
    "porcentajes_rural = calcular_porcentajes(emicron23, clase_te=2)\n",
    "porcentajes_nacional = calcular_porcentajes(emicron23)\n",
    "uso_internet_tipo_2023 = pd.DataFrame({\n",
    "    'Cabeceras Municipales (%)': porcentajes_cabeceras,\n",
    "    'Centros Poblados y Rural Disperso (%)': porcentajes_rural,\n",
    "    'Total Nacional (%)': porcentajes_nacional\n",
    "})\n",
    "print(uso_internet_tipo_2023)"
   ]
  },
  {
   "cell_type": "markdown",
   "id": "c3b9c590-ba54-4a60-b7b3-fbb8e16d21a2",
   "metadata": {},
   "source": [
    "# Ciudades principales y áreas metropolitanas"
   ]
  },
  {
   "cell_type": "code",
   "execution_count": 33,
   "id": "dafc1128-dd8f-40f4-ab38-a3daf989a581",
   "metadata": {},
   "outputs": [
    {
     "name": "stdout",
     "output_type": "stream",
     "text": [
      "Área Metropolitana / Ciudad  Porcentaje del Valor Agregado Anual (%)\n",
      "                     Bogotá                                     33.7\n",
      "                Medellín AM                                     18.6\n",
      "            Barranquilla AM                                      9.0\n",
      "                    Cali AM                                      7.7\n",
      "             Bucaramanga AM                                      5.7\n",
      "                  Cartagena                                      3.7\n",
      "                  Cúcuta AM                                      2.7\n",
      "                     Ibagué                                      1.9\n",
      "                 Valledupar                                      1.8\n",
      "                 Pereira AM                                      1.7\n",
      "              Villavicencio                                      1.6\n",
      "               Manizales AM                                      1.6\n",
      "                Santa Marta                                      1.5\n",
      "                      Neiva                                      1.4\n",
      "                   Montería                                      1.2\n",
      "                  Sincelejo                                      1.2\n",
      "                      Pasto                                      1.1\n",
      "                    Armenia                                      1.0\n",
      "                    Popayán                                      0.9\n",
      "                      Tunja                                      0.7\n",
      "                   Riohacha                                      0.7\n",
      "                  Florencia                                      0.4\n",
      "                 San Andrés                                      0.2\n",
      "                     Quibdó                                      0.1\n"
     ]
    }
   ],
   "source": [
    "#Distribución del valor agregado por ciudad 24 Ciudades y áreas metropolitanas. valor_agreg_ciudades\n",
    "emicron23['VALOR_AGREGADO'] = pd.to_numeric(emicron23['VALOR_AGREGADO'], errors='coerce')\n",
    "emicron23['F_EXP'] = pd.to_numeric(emicron23['F_EXP'], errors='coerce')  \n",
    "emicron23['VALOR_AGREGADO_ANUAL'] = emicron23['VALOR_AGREGADO'] * 12 * emicron23['F_EXP']  \n",
    "ciudades_codigos = {\n",
    "    5.0: 'Medellín AM',\n",
    "    8.0: 'Barranquilla AM',\n",
    "    11.0: 'Bogotá',\n",
    "    13.0: 'Cartagena',\n",
    "    15.0: 'Tunja',\n",
    "    17.0: 'Manizales AM',\n",
    "    18.0: 'Florencia',\n",
    "    19.0: 'Popayán',\n",
    "    20.0: 'Valledupar',\n",
    "    23.0: 'Montería',\n",
    "    27.0: 'Quibdó',\n",
    "    41.0: 'Neiva',\n",
    "    44.0: 'Riohacha',\n",
    "    47.0: 'Santa Marta',\n",
    "    50.0: 'Villavicencio',\n",
    "    52.0: 'Pasto',\n",
    "    54.0: 'Cúcuta AM',\n",
    "    63.0: 'Armenia',\n",
    "    66.0: 'Pereira AM',\n",
    "    68.0: 'Bucaramanga AM',\n",
    "    70.0: 'Sincelejo',\n",
    "    73.0: 'Ibagué',\n",
    "    76.0: 'Cali AM',\n",
    "    88.0: 'San Andrés'\n",
    "}\n",
    "df_ciudades = emicron23[emicron23['AREA'].isin(ciudades_codigos.keys())]\n",
    "total_nacional = df_ciudades['VALOR_AGREGADO_ANUAL'].sum()  \n",
    "resultado = df_ciudades.groupby('AREA')['VALOR_AGREGADO_ANUAL'].sum().reset_index()\n",
    "resultado['Área Metropolitana / Ciudad'] = resultado['AREA'].map(ciudades_codigos)\n",
    "resultado['Porcentaje del Valor Agregado Anual (%)'] = (resultado['VALOR_AGREGADO_ANUAL'] / total_nacional) * 100\n",
    "resultado['Porcentaje del Valor Agregado Anual (%)'] = resultado['Porcentaje del Valor Agregado Anual (%)'].round(1)\n",
    "valor_agreg_ciudades_2023 = resultado[['Área Metropolitana / Ciudad', 'Porcentaje del Valor Agregado Anual (%)']]\n",
    "valor_agreg_ciudades_2023.sort_values(by='Porcentaje del Valor Agregado Anual (%)', ascending=False, inplace=True)\n",
    "print(valor_agreg_ciudades_2023.to_string(index=False))"
   ]
  },
  {
   "cell_type": "code",
   "execution_count": 34,
   "id": "b3b19d3e-0704-48a2-9e80-e143b8c07593",
   "metadata": {},
   "outputs": [
    {
     "name": "stdout",
     "output_type": "stream",
     "text": [
      "         Ciudad  Distribucion de micronegocios %\n",
      "         Bogotá                             22.0\n",
      "    Medellín AM                             16.6\n",
      "Barranquilla AM                             11.7\n",
      "        Cali AM                             11.7\n",
      "      Cartagena                              6.2\n",
      " Bucaramanga AM                              5.5\n",
      "      Cúcuta AM                              3.5\n",
      "    Santa Marta                              2.5\n",
      "     Valledupar                              2.2\n",
      "     Pereira AM                              2.1\n",
      "  Villavicencio                              2.0\n",
      "       Montería                              1.9\n",
      "      Sincelejo                              1.9\n",
      "          Pasto                              1.6\n",
      "   Manizales AM                              1.5\n",
      "         Ibagué                              1.3\n",
      "        Armenia                              1.3\n",
      "          Neiva                              1.2\n",
      "        Popayán                              1.0\n",
      "       Riohacha                              0.8\n",
      "      Florencia                              0.6\n",
      "          Tunja                              0.6\n",
      "         Quibdó                              0.3\n",
      "     San Andrés                              0.1\n"
     ]
    }
   ],
   "source": [
    "#Distribución de la cantidad de micronegocios según ciudad 24 Ciudades y áreas metropolitanas. micron_ciudades\n",
    "area_ciudades = {\n",
    "    5: 'Medellín AM', \n",
    "    8: 'Barranquilla AM', \n",
    "    11: 'Bogotá', \n",
    "    13: 'Cartagena', \n",
    "    15: 'Tunja', \n",
    "    17: 'Manizales AM', \n",
    "    18: 'Florencia', \n",
    "    19: 'Popayán', \n",
    "    20: 'Valledupar', \n",
    "    23: 'Montería', \n",
    "    27: 'Quibdó', \n",
    "    41: 'Neiva', \n",
    "    44: 'Riohacha', \n",
    "    47: 'Santa Marta', \n",
    "    50: 'Villavicencio', \n",
    "    52: 'Pasto', \n",
    "    54: 'Cúcuta AM', \n",
    "    63: 'Armenia', \n",
    "    66: 'Pereira AM', \n",
    "    68: 'Bucaramanga AM', \n",
    "    70: 'Sincelejo', \n",
    "    73: 'Ibagué', \n",
    "    76: 'Cali AM', \n",
    "    88: 'San Andrés'\n",
    "}\n",
    "distribucion = emicron23.groupby('AREA')['F_EXP'].sum()\n",
    "total_f_exp = distribucion.sum()\n",
    "distribucion_porcentaje = (distribucion / total_f_exp) * 100\n",
    "distribucion_porcentaje = distribucion_porcentaje.round(1)\n",
    "distribucion_porcentaje.index = distribucion_porcentaje.index.map(area_ciudades)\n",
    "distribucion_df = distribucion_porcentaje.reset_index()\n",
    "distribucion_df.columns = ['Ciudad', 'Distribucion de micronegocios %']\n",
    "micron_ciudades_2023 = distribucion_df.sort_values(by='Distribucion de micronegocios %', ascending=False).to_string(index=False)\n",
    "print(micron_ciudades_2023)"
   ]
  },
  {
   "cell_type": "code",
   "execution_count": 35,
   "id": "ed1b398b-9e1d-4483-a2b1-41e40c36f5bd",
   "metadata": {},
   "outputs": [
    {
     "name": "stdout",
     "output_type": "stream",
     "text": [
      "         Ciudad  Patrón o empleador (%)  Trabajador por cuenta propia (%)\n",
      "     San Andrés                    19.9                              80.1\n",
      "         Ibagué                    19.4                              80.6\n",
      "          Tunja                    15.9                              84.1\n",
      "        Popayán                    13.2                              86.8\n",
      "         Bogotá                    12.1                              87.9\n",
      "      Cúcuta AM                    11.4                              88.6\n",
      "       Riohacha                    10.8                              89.2\n",
      "     Valledupar                    10.6                              89.4\n",
      "  Villavicencio                    10.0                              90.0\n",
      "Barranquilla AM                    10.0                              90.0\n",
      "    Medellín AM                     9.4                              90.6\n",
      "          Neiva                     9.4                              90.6\n",
      "        Armenia                     9.2                              90.8\n",
      "          Pasto                     8.4                              91.6\n",
      "   Manizales AM                     8.3                              91.7\n",
      "       Montería                     8.3                              91.7\n",
      " Bucaramanga AM                     7.9                              92.1\n",
      "     Pereira AM                     6.6                              93.4\n",
      "        Cali AM                     5.7                              94.3\n",
      "      Cartagena                     4.6                              95.4\n",
      "         Quibdó                     4.6                              95.4\n",
      "      Florencia                     4.5                              95.5\n",
      "    Santa Marta                     2.9                              97.1\n",
      "      Sincelejo                     1.8                              98.2\n"
     ]
    }
   ],
   "source": [
    "#Distribución de micronegocios según situación en el empleo del propietario (porcentaje) 24 Ciudades y áreas metropolitanas.\n",
    "#prop_situa_ciudades\n",
    "emicron23['P3033'] = pd.to_numeric(emicron23['P3033'], errors='coerce')\n",
    "emicron23['F_EXP'] = pd.to_numeric(emicron23['F_EXP'], errors='coerce')\n",
    "area_ciudades = {\n",
    "    5.0: 'Medellín AM', \n",
    "    8.0: 'Barranquilla AM', \n",
    "    11.0: 'Bogotá', \n",
    "    13.0: 'Cartagena', \n",
    "    15.0: 'Tunja', \n",
    "    17.0: 'Manizales AM', \n",
    "    18.0: 'Florencia', \n",
    "    19.0: 'Popayán', \n",
    "    20.0: 'Valledupar', \n",
    "    23.0: 'Montería', \n",
    "    27.0: 'Quibdó', \n",
    "    41.0: 'Neiva', \n",
    "    44.0: 'Riohacha', \n",
    "    47.0: 'Santa Marta', \n",
    "    50.0: 'Villavicencio', \n",
    "    52.0: 'Pasto', \n",
    "    54.0: 'Cúcuta AM', \n",
    "    63.0: 'Armenia', \n",
    "    66.0: 'Pereira AM', \n",
    "    68.0: 'Bucaramanga AM', \n",
    "    70.0: 'Sincelejo', \n",
    "    73.0: 'Ibagué', \n",
    "    76.0: 'Cali AM', \n",
    "    88.0: 'San Andrés'\n",
    "}\n",
    "df_ciudades = emicron23[emicron23['AREA'].isin(area_ciudades.keys())]\n",
    "distribucion = df_ciudades.groupby(['AREA', 'P3033'])['F_EXP'].sum().unstack(fill_value=0)\n",
    "total_por_area = distribucion.sum(axis=1)\n",
    "distribucion_porcentajes = distribucion.div(total_por_area, axis=0) * 100\n",
    "distribucion_porcentajes = distribucion_porcentajes.round(1)\n",
    "distribucion_porcentajes['Ciudad'] = distribucion_porcentajes.index.map(area_ciudades)\n",
    "distribucion_porcentajes = distribucion_porcentajes[['Ciudad', 1.0, 2.0]]\n",
    "distribucion_porcentajes.columns = ['Ciudad', 'Patrón o empleador (%)', 'Trabajador por cuenta propia (%)']\n",
    "prop_situa_ciudades_2023 = distribucion_porcentajes.sort_values(by='Ciudad')\n",
    "print(prop_situa_ciudades_2023.sort_values(by='Patrón o empleador (%)', ascending=False).to_string(index=False))"
   ]
  },
  {
   "cell_type": "code",
   "execution_count": 36,
   "id": "45557423-de4a-4400-a52c-8365f8af5816",
   "metadata": {},
   "outputs": [
    {
     "name": "stdout",
     "output_type": "stream",
     "text": [
      "         Ciudad  Porcentaje de micronegocios en Servicios (%)\n",
      "      Cartagena                                          66.0\n",
      "      Sincelejo                                          65.2\n",
      "     San Andrés                                          64.2\n",
      "    Santa Marta                                          63.3\n",
      "         Quibdó                                          62.8\n",
      "     Valledupar                                          62.7\n",
      "       Montería                                          62.4\n",
      "        Cali AM                                          60.5\n",
      "Barranquilla AM                                          58.7\n",
      "    Medellín AM                                          57.7\n",
      "     Pereira AM                                          57.1\n",
      "       Riohacha                                          56.7\n",
      "         Bogotá                                          55.8\n",
      "        Armenia                                          55.3\n",
      "  Villavicencio                                          55.1\n",
      "   Manizales AM                                          55.0\n",
      "          Tunja                                          54.6\n",
      "          Neiva                                          54.5\n",
      "        Popayán                                          53.9\n",
      " Bucaramanga AM                                          53.1\n",
      "      Florencia                                          52.6\n",
      "      Cúcuta AM                                          51.9\n",
      "          Pasto                                          51.1\n",
      "         Ibagué                                          46.6\n"
     ]
    }
   ],
   "source": [
    "#Porcentaje de micronegocios que desarrollan actividades de servicios (porcentaje) 24 Ciudades y áreas metropolitanas.\n",
    "#micron_serv_ciudades\n",
    "emicron23['GRUPOS4'] = pd.to_numeric(emicron23['GRUPOS4'], errors='coerce')\n",
    "emicron23['F_EXP'] = pd.to_numeric(emicron23['F_EXP'], errors='coerce')\n",
    "area_ciudades = {\n",
    "    5.0: 'Medellín AM', \n",
    "    8.0: 'Barranquilla AM', \n",
    "    11.0: 'Bogotá', \n",
    "    13.0: 'Cartagena', \n",
    "    15.0: 'Tunja', \n",
    "    17.0: 'Manizales AM', \n",
    "    18.0: 'Florencia', \n",
    "    19.0: 'Popayán', \n",
    "    20.0: 'Valledupar', \n",
    "    23.0: 'Montería', \n",
    "    27.0: 'Quibdó', \n",
    "    41.0: 'Neiva', \n",
    "    44.0: 'Riohacha', \n",
    "    47.0: 'Santa Marta', \n",
    "    50.0: 'Villavicencio', \n",
    "    52.0: 'Pasto', \n",
    "    54.0: 'Cúcuta AM', \n",
    "    63.0: 'Armenia', \n",
    "    66.0: 'Pereira AM', \n",
    "    68.0: 'Bucaramanga AM', \n",
    "    70.0: 'Sincelejo', \n",
    "    73.0: 'Ibagué', \n",
    "    76.0: 'Cali AM', \n",
    "    88.0: 'San Andrés'\n",
    "}\n",
    "emicron23['Ciudad'] = emicron23['AREA'].map(area_ciudades)\n",
    "df_ciudades = emicron23[emicron23['Ciudad'].notna()]\n",
    "df_servicios = df_ciudades[df_ciudades['GRUPOS4'] == 4]\n",
    "total_servicios = df_servicios.groupby('Ciudad')['F_EXP'].sum()\n",
    "total_micronegocios = df_ciudades.groupby('Ciudad')['F_EXP'].sum()\n",
    "porcentaje_servicios = (total_servicios / total_micronegocios) * 100\n",
    "porcentaje_servicios = porcentaje_servicios.round(1)\n",
    "resultado = pd.DataFrame({\n",
    "    'Porcentaje de micronegocios en Servicios (%)': porcentaje_servicios\n",
    "}).reset_index()\n",
    "micron_serv_ciudades_2023 = resultado.sort_values(by='Porcentaje de micronegocios en Servicios (%)', ascending=False)\n",
    "print(micron_serv_ciudades_2023.to_string(index=False))"
   ]
  },
  {
   "cell_type": "code",
   "execution_count": 37,
   "id": "8703732c-ac62-44e1-acef-0f208c0dded8",
   "metadata": {},
   "outputs": [
    {
     "name": "stdout",
     "output_type": "stream",
     "text": [
      "         Ciudad  Porcentaje de micronegocios en Comercio (%)\n",
      "         Ibagué                                         39.1\n",
      "      Florencia                                         35.3\n",
      " Bucaramanga AM                                         35.1\n",
      "          Pasto                                         34.7\n",
      "      Cúcuta AM                                         34.1\n",
      "          Tunja                                         34.0\n",
      "   Manizales AM                                         33.1\n",
      "        Armenia                                         33.0\n",
      "        Popayán                                         32.3\n",
      "          Neiva                                         32.3\n",
      "         Bogotá                                         32.1\n",
      "     Pereira AM                                         31.8\n",
      "  Villavicencio                                         31.2\n",
      "Barranquilla AM                                         29.8\n",
      "    Medellín AM                                         28.9\n",
      "        Cali AM                                         27.8\n",
      "       Riohacha                                         27.0\n",
      "     Valledupar                                         26.8\n",
      "       Montería                                         26.3\n",
      "    Santa Marta                                         25.3\n",
      "      Cartagena                                         24.6\n",
      "      Sincelejo                                         23.8\n",
      "         Quibdó                                         23.1\n",
      "     San Andrés                                         22.2\n"
     ]
    }
   ],
   "source": [
    "#Porcentaje de micronegocios que desarrollan actividades de comercio (porcentaje) 24 Ciudades y áreas metropolitanas.\n",
    "#micron_comerc_ciudades\n",
    "emicron23['GRUPOS4'] = pd.to_numeric(emicron23['GRUPOS4'], errors='coerce')\n",
    "emicron23['F_EXP'] = pd.to_numeric(emicron23['F_EXP'], errors='coerce')\n",
    "area_ciudades = {\n",
    "    5.0: 'Medellín AM', \n",
    "    8.0: 'Barranquilla AM', \n",
    "    11.0: 'Bogotá', \n",
    "    13.0: 'Cartagena', \n",
    "    15.0: 'Tunja', \n",
    "    17.0: 'Manizales AM', \n",
    "    18.0: 'Florencia', \n",
    "    19.0: 'Popayán', \n",
    "    20.0: 'Valledupar', \n",
    "    23.0: 'Montería', \n",
    "    27.0: 'Quibdó', \n",
    "    41.0: 'Neiva', \n",
    "    44.0: 'Riohacha', \n",
    "    47.0: 'Santa Marta', \n",
    "    50.0: 'Villavicencio', \n",
    "    52.0: 'Pasto', \n",
    "    54.0: 'Cúcuta AM', \n",
    "    63.0: 'Armenia', \n",
    "    66.0: 'Pereira AM', \n",
    "    68.0: 'Bucaramanga AM', \n",
    "    70.0: 'Sincelejo', \n",
    "    73.0: 'Ibagué', \n",
    "    76.0: 'Cali AM', \n",
    "    88.0: 'San Andrés'\n",
    "}\n",
    "emicron23['Ciudad'] = emicron23['AREA'].map(area_ciudades)\n",
    "df_ciudades = emicron23[emicron23['Ciudad'].notna()]\n",
    "df_comercio = df_ciudades[df_ciudades['GRUPOS4'] == 3]\n",
    "total_comercio = df_comercio.groupby('Ciudad')['F_EXP'].sum()\n",
    "total_micronegocios = df_ciudades.groupby('Ciudad')['F_EXP'].sum()\n",
    "porcentaje_comercio = (total_comercio / total_micronegocios) * 100\n",
    "porcentaje_comercio = porcentaje_comercio.round(1)\n",
    "resultado = pd.DataFrame({\n",
    "    'Porcentaje de micronegocios en Comercio (%)': porcentaje_comercio\n",
    "}).reset_index()\n",
    "micron_comerc_ciudades_2023 = resultado.sort_values(by='Porcentaje de micronegocios en Comercio (%)', ascending=False)\n",
    "print(micron_comerc_ciudades_2023.to_string(index=False))"
   ]
  },
  {
   "cell_type": "code",
   "execution_count": 38,
   "id": "5b0e8ead-6565-455c-9776-81fdea39d8bd",
   "metadata": {},
   "outputs": [
    {
     "name": "stdout",
     "output_type": "stream",
     "text": [
      "         Ciudad  Porcentaje de micronegocios en Manufactura (%)\n",
      "       Riohacha                                            14.7\n",
      "    Medellín AM                                            12.9\n",
      "      Cúcuta AM                                            12.7\n",
      "         Ibagué                                            12.2\n",
      "          Pasto                                            12.1\n",
      "         Bogotá                                            11.6\n",
      "        Popayán                                            11.6\n",
      "  Villavicencio                                            11.5\n",
      "        Cali AM                                            11.3\n",
      "          Neiva                                            11.2\n",
      "Barranquilla AM                                            11.0\n",
      " Bucaramanga AM                                            11.0\n",
      "        Armenia                                            10.4\n",
      "   Manizales AM                                            10.3\n",
      "     Pereira AM                                            10.0\n",
      "    Santa Marta                                             9.8\n",
      "       Montería                                             9.7\n",
      "      Florencia                                             9.6\n",
      "     Valledupar                                             9.6\n",
      "     San Andrés                                             9.1\n",
      "          Tunja                                             8.9\n",
      "      Cartagena                                             8.7\n",
      "      Sincelejo                                             8.7\n",
      "         Quibdó                                             6.9\n"
     ]
    }
   ],
   "source": [
    "#Porcentaje de micronegocios que desarrollan actividades de industria manufacturera (porcentaje) 24 Ciudades y áreas metropolitanas.\n",
    "#micron_manuf_ciudades\n",
    "emicron23['GRUPOS4'] = pd.to_numeric(emicron23['GRUPOS4'], errors='coerce')\n",
    "emicron23['F_EXP'] = pd.to_numeric(emicron23['F_EXP'], errors='coerce')\n",
    "area_ciudades = {\n",
    "    5.0: 'Medellín AM', \n",
    "    8.0: 'Barranquilla AM', \n",
    "    11.0: 'Bogotá', \n",
    "    13.0: 'Cartagena', \n",
    "    15.0: 'Tunja', \n",
    "    17.0: 'Manizales AM', \n",
    "    18.0: 'Florencia', \n",
    "    19.0: 'Popayán', \n",
    "    20.0: 'Valledupar', \n",
    "    23.0: 'Montería', \n",
    "    27.0: 'Quibdó', \n",
    "    41.0: 'Neiva', \n",
    "    44.0: 'Riohacha', \n",
    "    47.0: 'Santa Marta', \n",
    "    50.0: 'Villavicencio', \n",
    "    52.0: 'Pasto', \n",
    "    54.0: 'Cúcuta AM', \n",
    "    63.0: 'Armenia', \n",
    "    66.0: 'Pereira AM', \n",
    "    68.0: 'Bucaramanga AM', \n",
    "    70.0: 'Sincelejo', \n",
    "    73.0: 'Ibagué', \n",
    "    76.0: 'Cali AM', \n",
    "    88.0: 'San Andrés'\n",
    "}\n",
    "emicron23['Ciudad'] = emicron23['AREA'].map(area_ciudades)\n",
    "df_ciudades = emicron23[emicron23['Ciudad'].notna()]\n",
    "df_manuf = df_ciudades[df_ciudades['GRUPOS4'] == 2]\n",
    "total_manuf = df_manuf.groupby('Ciudad')['F_EXP'].sum()\n",
    "total_micronegocios = df_ciudades.groupby('Ciudad')['F_EXP'].sum()\n",
    "porcentaje_manuf = (total_manuf / total_micronegocios) * 100\n",
    "porcentaje_manuf = porcentaje_manuf.round(1)\n",
    "resultado = pd.DataFrame({\n",
    "    'Porcentaje de micronegocios en Manufactura (%)': porcentaje_manuf\n",
    "}).reset_index()\n",
    "micron_manuf_ciudades_2023 = resultado.sort_values(by='Porcentaje de micronegocios en Manufactura (%)', ascending=False)\n",
    "print(micron_manuf_ciudades_2023.to_string(index=False))"
   ]
  },
  {
   "cell_type": "code",
   "execution_count": null,
   "id": "edef9759-b8b4-4f60-85c0-08fe95bd54fd",
   "metadata": {},
   "outputs": [],
   "source": [
    "!jupyter nbconvert --to script Indicators_2023.ipynb"
   ]
  }
 ],
 "metadata": {
  "kernelspec": {
   "display_name": "Python 3 (ipykernel)",
   "language": "python",
   "name": "python3"
  },
  "language_info": {
   "codemirror_mode": {
    "name": "ipython",
    "version": 3
   },
   "file_extension": ".py",
   "mimetype": "text/x-python",
   "name": "python",
   "nbconvert_exporter": "python",
   "pygments_lexer": "ipython3",
   "version": "3.12.7"
  }
 },
 "nbformat": 4,
 "nbformat_minor": 5
}
