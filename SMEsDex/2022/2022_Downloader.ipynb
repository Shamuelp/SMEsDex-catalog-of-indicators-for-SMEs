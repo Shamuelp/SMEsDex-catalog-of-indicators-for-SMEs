{
 "cells": [
  {
   "cell_type": "markdown",
   "id": "abc0ecaa-722c-4a1c-9c09-ba08ed2f3081",
   "metadata": {},
   "source": [
    "# En el \"Downloader\" podrás descargar todos los archivos necesarios para el ejercicio.\n",
    "Ten presente:\n",
    "- Descargar e importar las librerias necesarias.\n",
    "- Verificar el año para el que vas a trabajar la encuesta, en este caso es 2022."
   ]
  },
  {
   "cell_type": "code",
   "execution_count": 1,
   "id": "034e3595-4b10-420f-8e77-96c551616757",
   "metadata": {},
   "outputs": [
    {
     "name": "stdout",
     "output_type": "stream",
     "text": [
      "zip_files: C:/Users/shamu/Documents/Jupyter/SMEsDex/2022\n",
      "ruta_destino: C:/Users/shamu/Documents/Jupyter/SMEsDex/2022/2022_data\n",
      "carpeta_factores: C:/Users/shamu/Documents/Jupyter/SMEsDex/2022/2022_data/Factores de expansion departamentales 2022\n"
     ]
    }
   ],
   "source": [
    "#PATHS\n",
    "import os\n",
    "#Ruta base para guardar los archivos ZIP\n",
    "zip_files = os.path.normpath(os.getcwd()).replace(\"\\\\\", \"/\")\n",
    "#Ruta base para extraer los ZIP\n",
    "ruta_destino = os.path.normpath(os.getcwd() + \"/2022_data\").replace(\"\\\\\", \"/\")\n",
    "#Ruta de la carpeta \"Factores de expansión departamentales 2023\"\n",
    "carpeta_factores = os.path.normpath(os.getcwd() + \"/2022_data/Factores de expansion departamentales 2022\").replace(\"\\\\\", \"/\")\n",
    "#Mostrar las rutas\n",
    "print(f\"zip_files: {zip_files}\")\n",
    "print(f\"ruta_destino: {ruta_destino}\")\n",
    "print(f\"carpeta_factores: {carpeta_factores}\")"
   ]
  },
  {
   "cell_type": "code",
   "execution_count": 2,
   "id": "c7388b26-5cc3-4d92-be46-64045c212d36",
   "metadata": {},
   "outputs": [],
   "source": [
    "#Librerias\n",
    "import requests\n",
    "import zipfile\n",
    "import os\n",
    "import shutil"
   ]
  },
  {
   "cell_type": "code",
   "execution_count": 3,
   "id": "7cd8ba18-19eb-4b35-96ec-9d3009d6ad78",
   "metadata": {},
   "outputs": [
    {
     "name": "stdout",
     "output_type": "stream",
     "text": [
      "Procesando modulo_capital_social.zip...\n",
      "Descargado: modulo_capital_social.zip\n",
      "Extraído en: C:/Users/shamu/Documents/Jupyter/SMEsDex/2022/2022_data\n",
      "Archivo ZIP 'modulo_capital_social.zip' eliminado.\n",
      "Procesando modulo_caracteristicas_micronegocio.zip...\n",
      "Descargado: modulo_caracteristicas_micronegocio.zip\n",
      "Extraído en: C:/Users/shamu/Documents/Jupyter/SMEsDex/2022/2022_data\n",
      "Archivo ZIP 'modulo_caracteristicas_micronegocio.zip' eliminado.\n",
      "Procesando modulo_costos_gastos_activos.zip...\n",
      "Descargado: modulo_costos_gastos_activos.zip\n",
      "Extraído en: C:/Users/shamu/Documents/Jupyter/SMEsDex/2022/2022_data\n",
      "Archivo ZIP 'modulo_costos_gastos_activos.zip' eliminado.\n",
      "Procesando modulo_emprendimiento.zip...\n",
      "Descargado: modulo_emprendimiento.zip\n",
      "Extraído en: C:/Users/shamu/Documents/Jupyter/SMEsDex/2022/2022_data\n",
      "Archivo ZIP 'modulo_emprendimiento.zip' eliminado.\n",
      "Procesando modulo_identificacion.zip...\n",
      "Descargado: modulo_identificacion.zip\n",
      "Extraído en: C:/Users/shamu/Documents/Jupyter/SMEsDex/2022/2022_data\n",
      "Archivo ZIP 'modulo_identificacion.zip' eliminado.\n",
      "Procesando modulo_inclusion_financiera.zip...\n",
      "Descargado: modulo_inclusion_financiera.zip\n",
      "Extraído en: C:/Users/shamu/Documents/Jupyter/SMEsDex/2022/2022_data\n",
      "Archivo ZIP 'modulo_inclusion_financiera.zip' eliminado.\n",
      "Procesando modulo_personal_ocupado.zip...\n",
      "Descargado: modulo_personal_ocupado.zip\n",
      "Extraído en: C:/Users/shamu/Documents/Jupyter/SMEsDex/2022/2022_data\n",
      "Archivo ZIP 'modulo_personal_ocupado.zip' eliminado.\n",
      "Procesando modulo_sitio_ubicacion.zip...\n",
      "Descargado: modulo_sitio_ubicacion.zip\n",
      "Extraído en: C:/Users/shamu/Documents/Jupyter/SMEsDex/2022/2022_data\n",
      "Archivo ZIP 'modulo_sitio_ubicacion.zip' eliminado.\n",
      "Procesando modulo_tic.zip...\n",
      "Descargado: modulo_tic.zip\n",
      "Extraído en: C:/Users/shamu/Documents/Jupyter/SMEsDex/2022/2022_data\n",
      "Archivo ZIP 'modulo_tic.zip' eliminado.\n",
      "Procesando modulo_ventas_ingresos.zip...\n",
      "Descargado: modulo_ventas_ingresos.zip\n",
      "Extraído en: C:/Users/shamu/Documents/Jupyter/SMEsDex/2022/2022_data\n",
      "Archivo ZIP 'modulo_ventas_ingresos.zip' eliminado.\n",
      "Procesando modulo_personal_ocupado_propietario.zip...\n",
      "Descargado: modulo_personal_ocupado_propietario.zip\n",
      "Extraído en: C:/Users/shamu/Documents/Jupyter/SMEsDex/2022/2022_data\n",
      "Archivo ZIP 'modulo_personal_ocupado_propietario.zip' eliminado.\n",
      "Procesando factores_expansion_departamentales_2023.zip...\n",
      "Descargado: factores_expansion_departamentales_2023.zip\n",
      "Extraído en: C:/Users/shamu/Documents/Jupyter/SMEsDex/2022/2022_data\n",
      "Archivo ZIP 'factores_expansion_departamentales_2023.zip' eliminado.\n",
      "Proceso completado para todos los módulos.\n"
     ]
    }
   ],
   "source": [
    "#Lista de los nombres de los módulos y sus URLs\n",
    "modulos = {\n",
    "    \"modulo_capital_social.zip\": \"https://microdatos.dane.gov.co/index.php/catalog/796/download/22671\",\n",
    "    \"modulo_caracteristicas_micronegocio.zip\": \"https://microdatos.dane.gov.co/index.php/catalog/796/download/22672\",\n",
    "    \"modulo_costos_gastos_activos.zip\": \"https://microdatos.dane.gov.co/index.php/catalog/796/download/22673\",\n",
    "    \"modulo_emprendimiento.zip\": \"https://microdatos.dane.gov.co/index.php/catalog/796/download/22674\",\n",
    "    \"modulo_identificacion.zip\": \"https://microdatos.dane.gov.co/index.php/catalog/796/download/22675\",\n",
    "    \"modulo_inclusion_financiera.zip\": \"https://microdatos.dane.gov.co/index.php/catalog/796/download/22676\",\n",
    "    \"modulo_personal_ocupado.zip\": \"https://microdatos.dane.gov.co/index.php/catalog/796/download/22677\",\n",
    "    \"modulo_sitio_ubicacion.zip\": \"https://microdatos.dane.gov.co/index.php/catalog/796/download/22678\",\n",
    "    \"modulo_tic.zip\": \"https://microdatos.dane.gov.co/index.php/catalog/796/download/22679\",\n",
    "    \"modulo_ventas_ingresos.zip\": \"https://microdatos.dane.gov.co/index.php/catalog/796/download/22680\",\n",
    "    \"modulo_personal_ocupado_propietario.zip\": \"https://microdatos.dane.gov.co/index.php/catalog/796/download/22681\",\n",
    "    \"factores_expansion_departamentales_2023.zip\": \"https://microdatos.dane.gov.co/index.php/catalog/796/download/23114\"\n",
    "}\n",
    "\n",
    "#Check de que si existan\n",
    "os.makedirs(zip_files, exist_ok=True)\n",
    "os.makedirs(ruta_destino, exist_ok=True)\n",
    "\n",
    "#Descargar, extraer y eliminar los archivos ZIP\n",
    "def procesar_modulo(nombre_zip, url):\n",
    "    print(f\"Procesando {nombre_zip}...\")\n",
    "\n",
    "    #Descargar el archivo ZIP\n",
    "    zip_path = os.path.join(zip_files, nombre_zip)\n",
    "    response = requests.get(url)\n",
    "    \n",
    "    with open(zip_path, 'wb') as file:\n",
    "        file.write(response.content)\n",
    "    print(f\"Descargado: {nombre_zip}\")\n",
    "\n",
    "    #Extraer el contenido del archivo ZIP\n",
    "    with zipfile.ZipFile(zip_path, 'r') as zip_ref:\n",
    "        zip_ref.extractall(ruta_destino)\n",
    "    print(f\"Extraído en: {ruta_destino}\")\n",
    "\n",
    "    #Eliminar el archivo ZIP\n",
    "    if os.path.exists(zip_path):\n",
    "        os.remove(zip_path)\n",
    "        print(f\"Archivo ZIP '{nombre_zip}' eliminado.\")\n",
    "    else:\n",
    "        print(f\"El archivo ZIP '{nombre_zip}' no existe.\")\n",
    "\n",
    "#Procesar todos los módulos\n",
    "for nombre_zip, url in modulos.items():\n",
    "    procesar_modulo(nombre_zip, url)\n",
    "\n",
    "print(\"Proceso completado para todos los módulos.\")"
   ]
  },
  {
   "cell_type": "code",
   "execution_count": 4,
   "id": "15cc12b3-82c8-4131-abb4-c545087f336d",
   "metadata": {
    "jupyter": {
     "source_hidden": true
    }
   },
   "outputs": [],
   "source": [
    "#Los factores de expansión quedan dentro de otra carpeta, los sacamos y borramos esa carpeta\n",
    "#Mover todos los archivos de la carpeta \"Factores de expansion departamentales 2023\" a la carpeta \"data\"\n",
    "#for archivo in os.listdir(carpeta_factores):\n",
    "#    archivo_path = os.path.join(carpeta_factores, archivo)\n",
    "#    \n",
    "#    # Verificar si es un archivo (no un directorio) y moverlo a la carpeta principal\n",
    "#    if os.path.isfile(archivo_path):\n",
    "#        shutil.move(archivo_path, ruta_destino)\n",
    "#        print(f\"Archivo movido: {archivo}\")\n",
    "\n",
    "#Eliminar la carpeta \"Factores de expansion departamentales 2023\" vacía\n",
    "#os.rmdir(carpeta_factores)\n",
    "#print(f\"Carpeta '{carpeta_factores}' eliminada.\")"
   ]
  },
  {
   "cell_type": "code",
   "execution_count": 5,
   "id": "eddcf5b2-b87e-4a93-b409-a2e78569ed56",
   "metadata": {},
   "outputs": [
    {
     "name": "stdout",
     "output_type": "stream",
     "text": [
      "Archivo eliminado: factores_departamental_2022_proy_2018.dta\n",
      "Archivo eliminado: factores_departamental_2022_proy_2018.sav\n",
      "Archivo eliminado: Módulo de capital social.dta\n",
      "Archivo eliminado: Módulo de capital social.sav\n",
      "Archivo eliminado: Módulo de características del micronegocio.dta\n",
      "Archivo eliminado: Módulo de características del micronegocio.sav\n",
      "Archivo eliminado: Módulo de costos, gastos y activos.dta\n",
      "Archivo eliminado: Módulo de costos, gastos y activos.sav\n",
      "Archivo eliminado: Módulo de emprendimiento.dta\n",
      "Archivo eliminado: Módulo de emprendimiento.sav\n",
      "Archivo eliminado: Módulo de identificación.dta\n",
      "Archivo eliminado: Módulo de identificación.sav\n",
      "Archivo eliminado: Módulo de inclusión financiera.dta\n",
      "Archivo eliminado: Módulo de inclusión financiera.sav\n",
      "Archivo eliminado: Módulo de personal ocupado.dta\n",
      "Archivo eliminado: Módulo de personal ocupado.sav\n",
      "Archivo eliminado: Módulo de sitio o ubicación.dta\n",
      "Archivo eliminado: Módulo de sitio o ubicación.sav\n",
      "Archivo eliminado: Módulo de TIC.dta\n",
      "Archivo eliminado: Módulo de TIC.sav\n",
      "Archivo eliminado: Módulo de ventas o ingresos.dta\n",
      "Archivo eliminado: Módulo de ventas o ingresos.sav\n",
      "Archivo eliminado: Módulo personal ocupado (propietario(a)).dta\n",
      "Archivo eliminado: Módulo personal ocupado (propietario(a)).sav\n",
      "Proceso completado. Todos los archivos que no son .csv han sido eliminados.\n"
     ]
    }
   ],
   "source": [
    "#Recorrer todos los archivos de la carpeta\n",
    "for archivo in os.listdir(ruta_destino):\n",
    "    archivo_path = os.path.join(ruta_destino, archivo)\n",
    "    \n",
    "    #Verificar si es un archivo (no un directorio) y si su extensión no es .csv ya que los demás no los ocupamos\n",
    "    if os.path.isfile(archivo_path) and not archivo.endswith('.csv'):\n",
    "        os.remove(archivo_path)\n",
    "        print(f\"Archivo eliminado: {archivo}\")\n",
    "\n",
    "print(\"Proceso completado. Todos los archivos que no son .csv han sido eliminados.\")"
   ]
  },
  {
   "cell_type": "code",
   "execution_count": 6,
   "id": "19748243-0bf2-4e8c-be72-8b56f21cc619",
   "metadata": {},
   "outputs": [
    {
     "name": "stdout",
     "output_type": "stream",
     "text": [
      "PDF guardado en: C:\\Users\\shamu\\Documents\\Jupyter\\SMEsDex\\2022\\2022_documentation.pdf\n"
     ]
    }
   ],
   "source": [
    "#Descarga la documentación\n",
    "url = \"https://microdatos.dane.gov.co/index.php/catalog/796/pdf-documentation\"\n",
    "response = requests.get(url)\n",
    "if response.status_code == 200:\n",
    "    current_directory = os.getcwd()\n",
    "    pdf_path = os.path.join(current_directory, \"2022_documentation.pdf\")\n",
    "    with open(pdf_path, 'wb') as file:\n",
    "        file.write(response.content)\n",
    "    print(f\"PDF guardado en: {pdf_path}\")\n",
    "else:\n",
    "    print(\"Error al descargar el PDF:\", response.status_code)"
   ]
  },
  {
   "cell_type": "code",
   "execution_count": 8,
   "id": "4c7a7061-72e9-47b2-b6cb-324298da769a",
   "metadata": {},
   "outputs": [],
   "source": [
    "import unicodedata\n",
    "\n",
    "# Función para normalizar nombres de archivos\n",
    "def normalize_filename(filename):\n",
    "    # Elimina los caracteres especiales y tildes\n",
    "    normalized = unicodedata.normalize('NFKD', filename)\n",
    "    normalized = normalized.encode('ascii', 'ignore').decode('utf-8')\n",
    "    return normalized\n",
    "ruta_destino = os.path.normpath(os.getcwd() + \"/2022_data\").replace(\"\\\\\", \"/\")\n",
    "for filename in os.listdir(ruta_destino):\n",
    "    old_file_path = os.path.join(ruta_destino, filename)\n",
    "    if os.path.isfile(old_file_path):\n",
    "        new_filename = normalize_filename(filename)\n",
    "        new_file_path = os.path.join(ruta_destino, new_filename)\n",
    "        if old_file_path != new_file_path:  # Solo renombrar si el nombre ha cambiado\n",
    "            os.rename(old_file_path, new_file_path)\n",
    "            print(f\"Renombrado: '{filename}' a '{new_filename}'\")"
   ]
  },
  {
   "cell_type": "code",
   "execution_count": null,
   "id": "b276637e-0434-4555-bb40-6dee56e68973",
   "metadata": {},
   "outputs": [],
   "source": []
  }
 ],
 "metadata": {
  "kernelspec": {
   "display_name": "Python 3 (ipykernel)",
   "language": "python",
   "name": "python3"
  },
  "language_info": {
   "codemirror_mode": {
    "name": "ipython",
    "version": 3
   },
   "file_extension": ".py",
   "mimetype": "text/x-python",
   "name": "python",
   "nbconvert_exporter": "python",
   "pygments_lexer": "ipython3",
   "version": "3.12.7"
  }
 },
 "nbformat": 4,
 "nbformat_minor": 5
}
