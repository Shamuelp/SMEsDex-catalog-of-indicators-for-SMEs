{
 "cells": [
  {
   "cell_type": "markdown",
   "id": "70e00641-9e7f-455a-bda1-da5bf81231a5",
   "metadata": {},
   "source": [
    "# Nociones iniciales"
   ]
  },
  {
   "cell_type": "code",
   "execution_count": 1,
   "id": "55bb1033-2795-4014-8d46-d9b1469af9a4",
   "metadata": {},
   "outputs": [],
   "source": [
    "import os\n",
    "import pandas as pd"
   ]
  },
  {
   "cell_type": "code",
   "execution_count": 2,
   "id": "5809e6ae-50ad-496b-a638-040dc479495d",
   "metadata": {},
   "outputs": [],
   "source": [
    "pd.options.mode.chained_assignment = None  # Desactiva las advertencias"
   ]
  },
  {
   "cell_type": "code",
   "execution_count": 3,
   "id": "92768ea0-9e9c-4a58-8d8f-d7e7b918cf44",
   "metadata": {},
   "outputs": [],
   "source": [
    "emicron22_path = os.path.normpath(os.getcwd() + \"/emicron22.csv\").replace(\"\\\\\", \"/\")\n",
    "emicron22 = pd.read_csv(emicron22_path)"
   ]
  },
  {
   "cell_type": "code",
   "execution_count": 4,
   "id": "586a421a-30c8-45ac-b48c-f53d6034de78",
   "metadata": {
    "jupyter": {
     "source_hidden": true
    }
   },
   "outputs": [
    {
     "name": "stdout",
     "output_type": "stream",
     "text": [
      "['DIRECTORIO', 'SECUENCIA_P', 'SECUENCIA_ENCUESTA', 'P3002', 'P3003_1', 'P3003_2', 'P3003_3', 'P3003_4', 'P3003_5', 'P3003_6']\n",
      "['P3003_7', 'P3003_8', 'P3004', 'P3005_1', 'P3005_2', 'P3005_3', 'P3005_4', 'P3005_5', 'P3005_6', 'P3005_7']\n",
      "['P3005_8', 'P3006', 'P3007_1', 'P3007_2', 'P3007_3', 'P3007_4', 'P3007_5', 'P3007_6', 'P3007_7', 'P3007_8']\n",
      "['P3008', 'P3009_1', 'P3009_2', 'P3009_3', 'P3009_4', 'P3009_5', 'P3009_6', 'P3009_7', 'P3009_8', 'P3010']\n",
      "['P3011_1', 'P3011_2', 'P3011_3', 'P3011_4', 'P3011_5', 'P3011_6', 'P3011_7', 'P3011_8', 'P3012', 'P3013_1']\n",
      "['P3013_2', 'P3013_3', 'P3013_4', 'P3013_5', 'P3013_6', 'P3013_7', 'P3013_8', 'P3022', 'P3015_1', 'P3015_2']\n",
      "['P3015_3', 'P3015_4', 'P3015_5', 'P3015_6', 'P3015_7', 'P3015_8', 'P3016', 'P3021_1', 'P3021_2', 'P3021_3']\n",
      "['P3021_4', 'P3021_5', 'P3021_6', 'P3021_7', 'P3021_8', 'P4003', 'CLASE_TE', 'COD_DEPTO', 'AREA', 'F_EXP']\n",
      "['P3057', 'P3058', 'P3059', 'P3060', 'P3061', 'P3062', 'P4002', 'P3063', 'P3064', 'P3065']\n",
      "['P3066', 'P3067', 'P3092', 'P3093', 'P4036', 'P4005', 'P4006', 'P4007', 'P4008', 'P4009']\n",
      "['P4010', 'P4011', 'P4012', 'P4013', 'P4014', 'P4015', 'P4016', 'P4017', 'P4018', 'P4037']\n",
      "['P3068_ENE', 'P3068_FEB', 'P3068_MAR', 'P3068_ABR', 'P3068_MAY', 'P3068_JUN', 'P3068_JUL', 'P3068_AGO', 'P3068_SEP', 'P3068_OCT']\n",
      "['P3068_NOV', 'P3068_DIC', 'P3068_TOD', 'P3068_NIN', 'P4019', 'P4020', 'P4021', 'P4022', 'P4023', 'P4024']\n",
      "['P4025', 'P4026', 'P4027', 'P4028', 'P4029', 'P4030', 'P4031', 'P4032', 'P4038', 'P3072']\n",
      "['VENTAS_MES_ANTERIOR', 'VENTAS_MES_ANIO_ANTERIOR', 'VENTAS_ANIO_ANTERIOR', 'VALOR_AGREGADO', 'INGRESO_MIXTO', 'CLASE_TE_dup', 'COD_DEPTO_dup', 'AREA_dup', 'F_EXP_dup', 'P1633']\n",
      "['P986', 'P640', 'P4000', 'P1055', 'P1056', 'P661', 'P1057', 'P4004', 'P2991', 'P2992']\n",
      "['P2993', 'CLASE_TE_dup.1', 'COD_DEPTO_dup.1', 'AREA_dup.1', 'F_EXP_dup.1', 'P3056_A', 'P3056_B', 'P3056_C', 'P3056_D', 'P3056_E']\n",
      "['P3057_A', 'P3057_B', 'P3057_C', 'P3057_D', 'P3057_E', 'P3017_A', 'P3017_B', 'P3017_C', 'P3017_D', 'P3017_E']\n",
      "['P3017_F', 'P3017_G', 'P3017_H', 'P3017_K', 'P3017_I', 'P3017_J', 'P3017_L', 'P3018_1', 'P3018_2', 'P3018_3']\n",
      "['P3018_4', 'P3018_5', 'P3018_6', 'P3018_7', 'P3018_A', 'P3018_B', 'P3018_C', 'P3018_D', 'P3018_E', 'P3018_F']\n",
      "['P3019', 'COSTOS_MES_ANTERIOR', 'COSTOS_ANIO_ANTERIOR', 'GASTOS_MES', 'CONSUMO_INTERMEDIO', 'CLASE_TE_dup.2', 'COD_DEPTO_dup.2', 'AREA_dup.2', 'F_EXP_dup.2', 'P3050']\n",
      "['P3051', 'P639', 'P3052', 'CLASE_TE_dup.3', 'COD_DEPTO_dup.3', 'AREA_dup.3', 'F_EXP_dup.3', 'COD_DEPTO_dup.4', 'AREA_dup.4', 'CLASE_TE_dup.4']\n",
      "['P35', 'P241', 'MES_REF', 'P3031', 'P3032_1', 'P3032_2', 'P3032_3', 'P3033', 'P3034', 'P3035']\n",
      "['P3000', 'GRUPOS4', 'GRUPOS12', 'F_EXP_dup.4', 'P1764_1', 'P1764_2', 'P1764_3', 'P1764_4', 'P1764_5', 'P1764_6']\n",
      "['P1764_7', 'P1765', 'P1567', 'P1569', 'P1568', 'P1571_1', 'P1571_2', 'P1571_3', 'P1571_4', 'P1571_5']\n",
      "['P1571_6', 'P1570', 'P1570_1', 'P1570_2', 'P1572_1', 'P1572_2', 'P1572_3', 'P1572_4', 'P1572_5', 'P1572_6']\n",
      "['P3014', 'P1573_1', 'P1573_2', 'P1573_3', 'P1573_4', 'P1573_5', 'P1573_6', 'P1574', 'P1771', 'CLASE_TE_dup.5']\n",
      "['COD_DEPTO_dup.5', 'AREA_dup.5', 'F_EXP_dup.5', 'P3053', 'P3095', 'P3096', 'P3097', 'P3098', 'P3054', 'P3055']\n",
      "['P469', 'CLASE_TE_dup.6', 'COD_DEPTO_dup.6', 'AREA_dup.6', 'F_EXP_dup.6', 'P4001', 'P1087', 'P1088', 'P977', 'P976']\n",
      "['P978', 'P979', 'P994', 'P2532', 'P1559', 'P2524', 'P1093', 'P2528', 'P1095', 'P980']\n",
      "['P1006_1', 'P1006_2', 'P1006_3', 'P1006_4', 'P1006_5', 'P1006_6', 'P1006_7', 'P1006_8', 'P1006_9', 'P1006_10']\n",
      "['P1006_11', 'P1006_12', 'P1006_13', 'CLASE_TE_dup.7', 'COD_DEPTO_dup.7', 'AREA_dup.7', 'F_EXP_dup.7', 'P3088', 'P3089', 'P3090']\n",
      "['P2989', 'P3091', 'SUELDOS', 'PRESTACIONES', 'REMUNERACION_TOTAL', 'CLASE_TE_dup.8', 'COD_DEPTO_dup.8', 'AREA_dup.8', 'F_EXP_dup.8', 'FEX_MICRO_DPTO']\n"
     ]
    }
   ],
   "source": [
    "columns = emicron22.columns\n",
    "for i in range(0, len(columns), 10):\n",
    "    print(columns[i:i+10].tolist())"
   ]
  },
  {
   "cell_type": "markdown",
   "id": "e6f8727b-9edf-4f6c-b8b2-e4b77eca3894",
   "metadata": {},
   "source": [
    "# Indicadores Principales"
   ]
  },
  {
   "cell_type": "code",
   "execution_count": 5,
   "id": "5ef27f39-eb65-45ab-8a04-0962d52389aa",
   "metadata": {},
   "outputs": [
    {
     "name": "stdout",
     "output_type": "stream",
     "text": [
      "Hay un total de 5,150,956 micronegocios\n"
     ]
    }
   ],
   "source": [
    "#Total de micronegocios. total_micronegocios_nacional\n",
    "total_micronegocios_nacional_2022 = int(emicron22['F_EXP'].sum())\n",
    "print(f\"Hay un total de {total_micronegocios_nacional_2022:,} micronegocios\")"
   ]
  },
  {
   "cell_type": "code",
   "execution_count": 6,
   "id": "c5bfb876-9b19-4b30-846a-9274f824c4d8",
   "metadata": {},
   "outputs": [
    {
     "name": "stdout",
     "output_type": "stream",
     "text": [
      "Se generaron 56,558 billones en valor agregado en el año\n"
     ]
    }
   ],
   "source": [
    "#Generación de valor agregado. valor_agregado_nacional_billones\n",
    "valor_agregado_micronegocios_nacional_2022 = int((((emicron22['VALOR_AGREGADO']*emicron22['F_EXP']).sum())*12)/1000000000)\n",
    "valor_agregado_nacional_billones_2022 = f\"Se generaron {valor_agregado_micronegocios_nacional_2022:,} billones en valor agregado en el año\"\n",
    "print(valor_agregado_nacional_billones_2022)"
   ]
  },
  {
   "cell_type": "code",
   "execution_count": 7,
   "id": "f8d41d51-ce85-41f8-9316-140894242e16",
   "metadata": {},
   "outputs": [
    {
     "name": "stdout",
     "output_type": "stream",
     "text": [
      "                                                                              Nombre_Grupo  Porcentaje\n",
      "                             Comercio y reparación de vehículos automotores y motocicletas   30.143038\n",
      "                                        Agricultura, ganadería, caza, silvicultura y pesca   13.799900\n",
      "                                                               Transporte y almacenamiento   10.539299\n",
      "                                                                   Industria manufacturera    9.704092\n",
      "                      Actividades inmobiliarias, profesionales y servicios administrativos    8.784760\n",
      "                                                         Alojamiento y servicios de comida    8.169522\n",
      "                                                                              Construcción    8.066296\n",
      "Actividades artísticas, de entretenimiento, de recreación y otras actividades de servicios    6.458416\n",
      "                          Actividades de atención a la salud humana y de asistencia social    1.947343\n",
      "                                                              Información y comunicaciones    1.109869\n",
      "                                                                                   Minería    0.834792\n",
      "                                                                                 Educación    0.438707\n",
      "                                                                                       NaN    0.003966\n",
      "                                                                                       NaN    0.000000\n"
     ]
    }
   ],
   "source": [
    "#Participación de valor agregado por actividad económica  (porcentaje). participacion_valor_agregado_por_grupo\n",
    "nombres_grupos_2022 = {\n",
    "    \"1.0\": 'Agricultura, ganadería, caza, silvicultura y pesca',\n",
    "    '2.0': 'Minería',\n",
    "    '3.0': 'Industria manufacturera',\n",
    "    '4.0': 'Construcción',\n",
    "    '5.0': 'Comercio y reparación de vehículos automotores y motocicletas',\n",
    "    '6.0': 'Transporte y almacenamiento',\n",
    "    '7.0': 'Alojamiento y servicios de comida',\n",
    "    '8.0': 'Información y comunicaciones',\n",
    "    '9.0': 'Actividades inmobiliarias, profesionales y servicios administrativos',\n",
    "    '10.0': 'Educación',\n",
    "    '11.0': 'Actividades de atención a la salud humana y de asistencia social',\n",
    "    '12.0': 'Actividades artísticas, de entretenimiento, de recreación y otras actividades de servicios'\n",
    "}\n",
    "emicron22['GRUPOS12'] = emicron22['GRUPOS12'].astype(str).str.zfill(2)\n",
    "valor_agregado_total_2022 = (emicron22['VALOR_AGREGADO'] * emicron22['F_EXP']).sum()\n",
    "valor_agregado_por_grupo_2022 = emicron22.groupby('GRUPOS12').agg(\n",
    "    Valor_Agregado_2022=('VALOR_AGREGADO', lambda x: (x * emicron22.loc[x.index, 'F_EXP']).sum())\n",
    ").reset_index()\n",
    "valor_agregado_por_grupo_2022['Porcentaje'] = (valor_agregado_por_grupo_2022['Valor_Agregado_2022'] / valor_agregado_total_2022) * 100\n",
    "valor_agregado_por_grupo_2022['Nombre_Grupo'] = valor_agregado_por_grupo_2022['GRUPOS12'].map(nombres_grupos_2022)\n",
    "participacion_valor_agregado_por_grupo_2022 = valor_agregado_por_grupo_2022[['Nombre_Grupo', 'Porcentaje']]\n",
    "participacion_valor_agregado_por_grupo_2022 = participacion_valor_agregado_por_grupo_2022.sort_values(by='Porcentaje', ascending=False)\n",
    "print(participacion_valor_agregado_por_grupo_2022.to_string(index=False))"
   ]
  },
  {
   "cell_type": "code",
   "execution_count": 8,
   "id": "6d56c810-ab72-4784-96d0-fe76cbeb6444",
   "metadata": {},
   "outputs": [
    {
     "name": "stdout",
     "output_type": "stream",
     "text": [
      "                                                                              Nombre_Grupo  Porcentaje\n",
      "                             Comercio y reparación de vehículos automotores y motocicletas   25.589060\n",
      "                                        Agricultura, ganadería, caza, silvicultura y pesca   21.062375\n",
      "                                                               Transporte y almacenamiento   11.036197\n",
      "                                                                   Industria manufacturera   10.837104\n",
      "Actividades artísticas, de entretenimiento, de recreación y otras actividades de servicios    9.009469\n",
      "                                                         Alojamiento y servicios de comida    8.014245\n",
      "                                                                              Construcción    6.187939\n",
      "                      Actividades inmobiliarias, profesionales y servicios administrativos    4.756407\n",
      "                          Actividades de atención a la salud humana y de asistencia social    1.087546\n",
      "                                                                                   Minería    1.039762\n",
      "                                                                                 Educación    0.709776\n",
      "                                                              Información y comunicaciones    0.644817\n",
      "                                                                                       NaN    0.025303\n",
      "                                                                                       NaN    0.000000\n"
     ]
    }
   ],
   "source": [
    "#Distribución de micro negocios según actividad económica (porcentaje). micronegocios_por_grupo\n",
    "conteo_por_grupo_2022 = emicron22.groupby('GRUPOS12').agg(Cantidad=('F_EXP', 'sum')).reset_index()\n",
    "total_micronegocios_2022 = conteo_por_grupo_2022['Cantidad'].sum()\n",
    "conteo_por_grupo_2022['Porcentaje'] = (conteo_por_grupo_2022['Cantidad'] / total_micronegocios_2022) * 100\n",
    "conteo_por_grupo_2022['Nombre_Grupo'] = conteo_por_grupo_2022['GRUPOS12'].map(nombres_grupos_2022)\n",
    "micronegocios_por_grupo_2022 = conteo_por_grupo_2022[['Nombre_Grupo', 'Porcentaje']]\n",
    "micronegocios_por_grupo_2022 = micronegocios_por_grupo_2022.sort_values(by='Porcentaje', ascending=False)\n",
    "print(micronegocios_por_grupo_2022.to_string(index=False))"
   ]
  },
  {
   "cell_type": "markdown",
   "id": "6e7729de-4bdb-46eb-b009-bb90a54eaa84",
   "metadata": {},
   "source": [
    "# Resultados total nacional - cabeceras municipales - centros poblados y rural disperso"
   ]
  },
  {
   "cell_type": "code",
   "execution_count": 9,
   "id": "cdf31e90-a7d0-4107-9386-587ef3d2501f",
   "metadata": {},
   "outputs": [
    {
     "name": "stdout",
     "output_type": "stream",
     "text": [
      "                                   Propietario  Trabajador  Total_Clase  \\\n",
      "Cabeceras Municipales                 392149.7   3196125.7    3588275.4   \n",
      "Centros Poblados y Rural Disperso     162843.3   1399837.7    1562680.9   \n",
      "Total Nacional                        554992.9   4595963.4    5150956.3   \n",
      "\n",
      "                                   %_Propietarios  %_Trabajadores  \n",
      "Cabeceras Municipales                        10.9            89.1  \n",
      "Centros Poblados y Rural Disperso            10.4            89.6  \n",
      "Total Nacional                               10.8            89.2  \n"
     ]
    }
   ],
   "source": [
    "#Micronegocios según situación en el empleo del propietario(a). micronegocios_segun_situacion_empleo_propietario\n",
    "df_filtered = emicron22[['P3033', 'CLASE_TE', 'F_EXP']]\n",
    "grouped = df_filtered.groupby(['CLASE_TE', 'P3033']).sum().reset_index()\n",
    "pivot_table = grouped.pivot_table(index='CLASE_TE', columns='P3033', values='F_EXP', aggfunc='sum')\n",
    "pivot_table.columns = ['Propietario', 'Trabajador']\n",
    "pivot_table['Total_Clase'] = pivot_table['Propietario'] + pivot_table['Trabajador']\n",
    "pivot_table['%_Propietarios'] = (pivot_table['Propietario'] / pivot_table['Total_Clase']) * 100\n",
    "pivot_table['%_Trabajadores'] = (pivot_table['Trabajador'] / pivot_table['Total_Clase']) * 100\n",
    "total_propietario_2022 = df_filtered[df_filtered['P3033'] == 1]['F_EXP'].sum()\n",
    "total_trabajador_2022 = df_filtered[df_filtered['P3033'] == 2]['F_EXP'].sum()\n",
    "total_general_2022 = total_propietario_2022 + total_trabajador_2022\n",
    "total_df = pd.DataFrame({\n",
    "    'Propietario': [total_propietario_2022],\n",
    "    'Trabajador': [total_trabajador_2022],\n",
    "    'Total_Clase': [total_general_2022],\n",
    "    '%_Propietarios': [(total_propietario_2022 / total_general_2022) * 100],\n",
    "    '%_Trabajadores': [(total_trabajador_2022 / total_general_2022) * 100]\n",
    "})\n",
    "micronegocios_segun_situacion_empleo_propietario_2022 = pd.concat([pivot_table, total_df], axis=0)\n",
    "micronegocios_segun_situacion_empleo_propietario_2022.index = ['Cabeceras Municipales', 'Centros Poblados y Rural Disperso', 'Total Nacional']\n",
    "print(micronegocios_segun_situacion_empleo_propietario_2022.round(1))"
   ]
  },
  {
   "cell_type": "code",
   "execution_count": 10,
   "id": "850918ae-f4d3-4c86-a7ce-d2fdbbf9f32f",
   "metadata": {},
   "outputs": [
    {
     "name": "stdout",
     "output_type": "stream",
     "text": [
      "                                   Hombres  Mujeres\n",
      "CLASE_TE                                           \n",
      "Cabeceras Municipales                 62.7     37.3\n",
      "Centros Poblados y Rural Disperso     71.0     29.0\n",
      "Total Nacional                        65.2     34.8\n"
     ]
    }
   ],
   "source": [
    "#Propietarios de micronegocios según sexo (porcentaje). propietarios_sex\n",
    "conteo_expansion = emicron22.groupby(['CLASE_TE', 'P35'])['F_EXP'].sum().unstack(fill_value=0)\n",
    "conteo_expansion.columns = ['Hombres', 'Mujeres']\n",
    "conteo_expansion.index = conteo_expansion.index.map({\n",
    "    1: 'Cabeceras Municipales',\n",
    "    2: 'Centros Poblados y Rural Disperso'\n",
    "})\n",
    "total_nacional_expansion_2022 = conteo_expansion.sum()\n",
    "conteo_expansion.loc['Total Nacional'] = total_nacional_expansion_2022\n",
    "propietarios_sex_2022 = conteo_expansion.div(conteo_expansion.sum(axis=1), axis=0) * 100\n",
    "print(propietarios_sex_2022.round(1))"
   ]
  },
  {
   "cell_type": "code",
   "execution_count": 11,
   "id": "2993319d-c027-4173-9401-dc30b6b2a8d9",
   "metadata": {},
   "outputs": [
    {
     "name": "stdout",
     "output_type": "stream",
     "text": [
      "Rango_Personal_Ocupado             1 persona  2-3 personas  4-9 personas\n",
      "CLASE_TE                                                                \n",
      "Cabeceras Municipales                   82.2          15.2           2.6\n",
      "Centros Poblados y Rural Disperso       77.9          19.0           3.1\n",
      "Total Nacional                          80.9          16.3           2.8\n",
      "NO empleamos los datos expandidos con proyecciones con base en los resultados del CNPV 2018\n"
     ]
    }
   ],
   "source": [
    "#Micronegocios según rangos de personal ocupado (porcentaje). rangos_personal_ocup\n",
    "bins = [0, 1, 3, 9] \n",
    "labels = ['1 persona', '2-3 personas', '4-9 personas']  \n",
    "emicron22['Rango_Personal_Ocupado'] = pd.cut(emicron22['P3091'], bins=bins, labels=labels, right=True)\n",
    "conteo_expansion = emicron22.groupby(['CLASE_TE', 'Rango_Personal_Ocupado'], observed=False)['F_EXP'].sum().unstack(fill_value=0)\n",
    "conteo_expansion.index = conteo_expansion.index.map({\n",
    "    1: 'Cabeceras Municipales',\n",
    "    2: 'Centros Poblados y Rural Disperso'\n",
    "})\n",
    "total_nacional_expansion_2022 = conteo_expansion.sum()\n",
    "conteo_expansion.loc['Total Nacional'] = total_nacional_expansion_2022\n",
    "rangos_personal_ocup_2022 = conteo_expansion.div(conteo_expansion.sum(axis=1), axis=0) * 100\n",
    "print(rangos_personal_ocup_2022.round(1))\n",
    "print(\"NO empleamos los datos expandidos con proyecciones con base en los resultados del CNPV 2018\")"
   ]
  },
  {
   "cell_type": "markdown",
   "id": "73d0d452-1013-4fc3-adfa-2f6f76f9f066",
   "metadata": {},
   "source": [
    "# Formalidad"
   ]
  },
  {
   "cell_type": "code",
   "execution_count": 12,
   "id": "e8378a14-d5b7-47c1-b211-94685c1637e6",
   "metadata": {},
   "outputs": [
    {
     "name": "stdout",
     "output_type": "stream",
     "text": [
      "En Colombia, el 22.5% de los micronegocios cuentan con RUT.\n"
     ]
    }
   ],
   "source": [
    "#Formalidad empresarial (Registro único tributario RUT). formalidad\n",
    "total_exp = emicron22['F_EXP'].sum()\n",
    "rut_exp = emicron22[emicron22['P1633'] == 1]['F_EXP'].sum()\n",
    "porcentaje_rut = (rut_exp / total_exp) * 100\n",
    "formalidad_2022 = round(porcentaje_rut, 1)\n",
    "print(f\"En Colombia, el {formalidad_2022}% de los micronegocios cuentan con RUT.\")"
   ]
  },
  {
   "cell_type": "code",
   "execution_count": 13,
   "id": "e525eb31-4087-4889-a3a3-9c40ec542b97",
   "metadata": {},
   "outputs": [
    {
     "name": "stdout",
     "output_type": "stream",
     "text": [
      "                                   Porcentaje con RUT  Porcentaje sin RUT\n",
      "Total Nacional                                   22.5                77.5\n",
      "Cabeceras Municipales                            29.4                70.6\n",
      "Centros Poblados y Rural Disperso                 6.6                93.4\n"
     ]
    }
   ],
   "source": [
    "#Distribución según tenencia de RUT (porcentaje). formalidad_rut_tipo\n",
    "cabeceras = emicron22[emicron22['CLASE_TE'] == 1]\n",
    "centros_poblados = emicron22[emicron22['CLASE_TE'] == 2]\n",
    "def calcular_porcentaje_rut_comparacion(sub_df):\n",
    "    total_exp = sub_df['F_EXP'].sum()\n",
    "    rut_si_exp = sub_df[sub_df['P1633'] == 1]['F_EXP'].sum()  # Negocios con RUT\n",
    "    rut_no_exp = sub_df[sub_df['P1633'] == 2]['F_EXP'].sum()  # Negocios sin RUT   \n",
    "    porcentaje_rut_si = (rut_si_exp / total_exp) * 100\n",
    "    porcentaje_rut_no = (rut_no_exp / total_exp) * 100    \n",
    "    return round(porcentaje_rut_si, 1), round(porcentaje_rut_no, 1)\n",
    "porcentaje_rut_si_no_cabeceras = calcular_porcentaje_rut_comparacion(cabeceras)\n",
    "porcentaje_rut_si_no_centros = calcular_porcentaje_rut_comparacion(centros_poblados)\n",
    "total_nacional = pd.concat([cabeceras, centros_poblados])\n",
    "porcentaje_rut_si_no_nacional = calcular_porcentaje_rut_comparacion(total_nacional)\n",
    "formalidad_rut_tipo_2022 = pd.DataFrame({\n",
    "    'Porcentaje con RUT': [porcentaje_rut_si_no_nacional[0], porcentaje_rut_si_no_cabeceras[0], porcentaje_rut_si_no_centros[0]],\n",
    "    'Porcentaje sin RUT': [porcentaje_rut_si_no_nacional[1], porcentaje_rut_si_no_cabeceras[1], porcentaje_rut_si_no_centros[1]]\n",
    "}, index=['Total Nacional', 'Cabeceras Municipales', 'Centros Poblados y Rural Disperso'])\n",
    "print(formalidad_rut_tipo_2022)"
   ]
  },
  {
   "cell_type": "code",
   "execution_count": 14,
   "id": "7c609da0-10ce-4d4e-bc2a-8e1ad25f6320",
   "metadata": {},
   "outputs": [
    {
     "name": "stdout",
     "output_type": "stream",
     "text": [
      "                                   Porcentaje con Cámara de Comercio  \\\n",
      "Total Nacional                                                  10.8   \n",
      "Cabeceras Municipales                                           14.4   \n",
      "Centros Poblados y Rural Disperso                                2.4   \n",
      "\n",
      "                                   Porcentaje sin Cámara de Comercio  \n",
      "Total Nacional                                                  89.2  \n",
      "Cabeceras Municipales                                           85.6  \n",
      "Centros Poblados y Rural Disperso                               97.6  \n"
     ]
    }
   ],
   "source": [
    "#Distribución según tenencia de registro en Cámara de Comercio (porcentaje). formalidad_rcc_tipo\n",
    "cabeceras = emicron22[emicron22['CLASE_TE'] == 1]\n",
    "centros_poblados = emicron22[emicron22['CLASE_TE'] == 2]\n",
    "def calcular_porcentaje_camara_comercio_comparacion(sub_df):\n",
    "    total_exp = sub_df['F_EXP'].sum()\n",
    "    camara_comercio_si_exp = sub_df[sub_df['P1055'] == 1]['F_EXP'].sum()  # Negocios registrados en Cámara de Comercio\n",
    "    camara_comercio_no_exp = sub_df[sub_df['P1055'] == 2]['F_EXP'].sum()  # Negocios no registrados en Cámara de Comercio   \n",
    "    porcentaje_camara_comercio_si = (camara_comercio_si_exp / total_exp) * 100 if total_exp > 0 else 0\n",
    "    porcentaje_camara_comercio_no = (camara_comercio_no_exp / total_exp) * 100 if total_exp > 0 else 0    \n",
    "    return round(porcentaje_camara_comercio_si, 1), round(porcentaje_camara_comercio_no, 1)\n",
    "porcentaje_camara_comercio_si_no_cabeceras = calcular_porcentaje_camara_comercio_comparacion(cabeceras)\n",
    "porcentaje_camara_comercio_si_no_centros = calcular_porcentaje_camara_comercio_comparacion(centros_poblados)\n",
    "total_nacional = pd.concat([cabeceras, centros_poblados])\n",
    "porcentaje_camara_comercio_si_no_nacional = calcular_porcentaje_camara_comercio_comparacion(total_nacional)\n",
    "formalidad_rcc_tipo_2022 = pd.DataFrame({\n",
    "    'Porcentaje con Cámara de Comercio': [porcentaje_camara_comercio_si_no_nacional[0], porcentaje_camara_comercio_si_no_cabeceras[0], porcentaje_camara_comercio_si_no_centros[0]],\n",
    "    'Porcentaje sin Cámara de Comercio': [porcentaje_camara_comercio_si_no_nacional[1], porcentaje_camara_comercio_si_no_cabeceras[1], porcentaje_camara_comercio_si_no_centros[1]]\n",
    "}, index=['Total Nacional', 'Cabeceras Municipales', 'Centros Poblados y Rural Disperso'])\n",
    "print(formalidad_rcc_tipo_2022)"
   ]
  },
  {
   "cell_type": "code",
   "execution_count": 15,
   "id": "52d91048-cd9b-475f-95bc-aaba819743e2",
   "metadata": {},
   "outputs": [
    {
     "name": "stdout",
     "output_type": "stream",
     "text": [
      "                                   Porcentaje que pagó salud y pensión  \\\n",
      "Total Nacional                                                     8.2   \n",
      "Cabeceras Municipales                                             11.3   \n",
      "Centros Poblados y Rural Disperso                                  1.2   \n",
      "\n",
      "                                   Porcentaje que no pagó  \\\n",
      "Total Nacional                                       88.4   \n",
      "Cabeceras Municipales                                84.3   \n",
      "Centros Poblados y Rural Disperso                    97.9   \n",
      "\n",
      "                                   Porcentaje que solo pagó salud  \\\n",
      "Total Nacional                                                3.2   \n",
      "Cabeceras Municipales                                         4.2   \n",
      "Centros Poblados y Rural Disperso                             0.8   \n",
      "\n",
      "                                   Porcentaje que solo pagó pensión  \n",
      "Total Nacional                                                  0.1  \n",
      "Cabeceras Municipales                                           0.1  \n",
      "Centros Poblados y Rural Disperso                               0.1  \n"
     ]
    }
   ],
   "source": [
    "#Distribución de propietarios según aportes a salud y pensión (porcentaje). prop_aport_salud_pens_tipo\n",
    "cabeceras = emicron22[emicron22['CLASE_TE'] == 1]\n",
    "centros_poblados = emicron22[emicron22['CLASE_TE'] == 2]\n",
    "def calcular_porcentaje_salud_pension_comparacion(sub_df):\n",
    "    total_exp = sub_df['F_EXP'].sum()\n",
    "    pagado_exp = sub_df[sub_df['P3088'] == 1]['F_EXP'].sum()  # Pagó salud y pensión\n",
    "    no_pagado_exp = sub_df[sub_df['P3088'] == 2]['F_EXP'].sum()  # No pagó\n",
    "    solo_salud_exp = sub_df[sub_df['P3088'] == 3]['F_EXP'].sum()  # Solo pagó salud\n",
    "    solo_pension_exp = sub_df[sub_df['P3088'] == 4]['F_EXP'].sum()  # Solo pagó pensión\n",
    "    porcentaje_pagado = (pagado_exp / total_exp) * 100 if total_exp > 0 else 0\n",
    "    porcentaje_no_pagado = (no_pagado_exp / total_exp) * 100 if total_exp > 0 else 0\n",
    "    porcentaje_solo_salud = (solo_salud_exp / total_exp) * 100 if total_exp > 0 else 0\n",
    "    porcentaje_solo_pension = (solo_pension_exp / total_exp) * 100 if total_exp > 0 else 0\n",
    "    return round(porcentaje_pagado, 1), round(porcentaje_no_pagado, 1), round(porcentaje_solo_salud, 1), round(porcentaje_solo_pension, 1)\n",
    "porcentaje_salud_y_pension_cabeceras = calcular_porcentaje_salud_pension_comparacion(cabeceras)\n",
    "porcentaje_salud_y_pension_centros = calcular_porcentaje_salud_pension_comparacion(centros_poblados)\n",
    "total_nacional = pd.concat([cabeceras, centros_poblados])\n",
    "porcentaje_salud_y_pension_nacional = calcular_porcentaje_salud_pension_comparacion(total_nacional)\n",
    "prop_aport_salud_pens_tipo_2022 = pd.DataFrame({\n",
    "    'Porcentaje que pagó salud y pensión': [porcentaje_salud_y_pension_nacional[0], porcentaje_salud_y_pension_cabeceras[0], porcentaje_salud_y_pension_centros[0]],\n",
    "    'Porcentaje que no pagó': [porcentaje_salud_y_pension_nacional[1], porcentaje_salud_y_pension_cabeceras[1], porcentaje_salud_y_pension_centros[1]],\n",
    "    'Porcentaje que solo pagó salud': [porcentaje_salud_y_pension_nacional[2], porcentaje_salud_y_pension_cabeceras[2], porcentaje_salud_y_pension_centros[2]],\n",
    "    'Porcentaje que solo pagó pensión': [porcentaje_salud_y_pension_nacional[3], porcentaje_salud_y_pension_cabeceras[3], porcentaje_salud_y_pension_centros[3]]\n",
    "}, index=['Total Nacional', 'Cabeceras Municipales', 'Centros Poblados y Rural Disperso'])\n",
    "print(prop_aport_salud_pens_tipo_2022)"
   ]
  },
  {
   "cell_type": "code",
   "execution_count": 16,
   "id": "4affd7e0-b048-4af2-9100-0fbe938cdf00",
   "metadata": {},
   "outputs": [
    {
     "name": "stdout",
     "output_type": "stream",
     "text": [
      "                                   Porcentaje que pagó ARL  \\\n",
      "Total Nacional                                         6.1   \n",
      "Cabeceras Municipales                                  8.3   \n",
      "Centros Poblados y Rural Disperso                      0.9   \n",
      "\n",
      "                                   Porcentaje que no pagó ARL  \n",
      "Total Nacional                                           93.9  \n",
      "Cabeceras Municipales                                    91.7  \n",
      "Centros Poblados y Rural Disperso                        99.1  \n"
     ]
    }
   ],
   "source": [
    "#Distribución de propietarios según aportes a ARL (porcentaje). prop_aport_arl_tipo\n",
    "cabeceras = emicron22[emicron22['CLASE_TE'] == 1]\n",
    "centros_poblados = emicron22[emicron22['CLASE_TE'] == 2]\n",
    "def calcular_porcentaje_arl_comparacion(sub_df):\n",
    "    total_exp = sub_df['F_EXP'].sum()\n",
    "    arl_pagado_exp = sub_df[sub_df['P3090'] == 1]['F_EXP'].sum()  # Pagó ARL\n",
    "    arl_no_pagado_exp = sub_df[sub_df['P3090'] == 2]['F_EXP'].sum()  # No pagó ARL\n",
    "    porcentaje_arl_pagado = (arl_pagado_exp / total_exp) * 100 if total_exp > 0 else 0\n",
    "    porcentaje_arl_no_pagado = (arl_no_pagado_exp / total_exp) * 100 if total_exp > 0 else 0\n",
    "    return round(porcentaje_arl_pagado, 1), round(porcentaje_arl_no_pagado, 1)\n",
    "porcentaje_arl_cabeceras = calcular_porcentaje_arl_comparacion(cabeceras)\n",
    "porcentaje_arl_centros = calcular_porcentaje_arl_comparacion(centros_poblados)\n",
    "total_nacional = pd.concat([cabeceras, centros_poblados])\n",
    "porcentaje_arl_nacional = calcular_porcentaje_arl_comparacion(total_nacional)\n",
    "prop_aport_arl_tipo_2022 = pd.DataFrame({\n",
    "    'Porcentaje que pagó ARL': [porcentaje_arl_nacional[0], porcentaje_arl_cabeceras[0], porcentaje_arl_centros[0]],\n",
    "    'Porcentaje que no pagó ARL': [porcentaje_arl_nacional[1], porcentaje_arl_cabeceras[1], porcentaje_arl_centros[1]]\n",
    "}, index=['Total Nacional', 'Cabeceras Municipales', 'Centros Poblados y Rural Disperso'])\n",
    "print(prop_aport_arl_tipo_2022)"
   ]
  },
  {
   "cell_type": "code",
   "execution_count": 17,
   "id": "232f5ad9-19be-4c73-8e79-cc133fcb9ce2",
   "metadata": {
    "scrolled": true
   },
   "outputs": [
    {
     "name": "stdout",
     "output_type": "stream",
     "text": [
      "                                   No Renovó (%)  Renovó (%)\n",
      "Cabeceras Municipales                       72.8        27.2\n",
      "Centros Poblados y Rural Disperso           70.5        29.5\n",
      "Total Nacional                              72.6        27.4\n"
     ]
    }
   ],
   "source": [
    "#Distribución de la cantidad de micronegocios según solicitud o renovación del registro ante Cámara de Comercio durante el año 2022 (porcentaje). \n",
    "#solicitud_rcc_tipo\n",
    "emicron22['peso'] = emicron22['F_EXP']\n",
    "resultados = emicron22.groupby(['CLASE_TE', 'P661'])['peso'].sum().unstack(fill_value=0)\n",
    "resultados['Total'] = resultados.sum(axis=1)\n",
    "resultados_percentage = resultados.div(resultados['Total'], axis=0) * 100\n",
    "total_nacional_no_renovo = resultados.loc[:, 2].sum()  # Suma de quienes NO renovaron (P661 == 2)\n",
    "total_nacional_renovo = resultados.loc[:, 1].sum()    # Suma de quienes RENOVARON (P661 == 1)\n",
    "total_nacional = pd.Series({\n",
    "    1: total_nacional_renovo,\n",
    "    2: total_nacional_no_renovo\n",
    "})\n",
    "total_nacional_percentage = total_nacional / total_nacional.sum() * 100\n",
    "resultados_percentage.loc['Total Nacional'] = total_nacional_percentage\n",
    "resultados_percentage = resultados_percentage.drop(columns='Total')\n",
    "resultados_percentage.index = ['Cabeceras Municipales', 'Centros Poblados y Rural Disperso', 'Total Nacional']\n",
    "resultados_percentage.columns = ['No Renovó (%)', 'Renovó (%)']\n",
    "solicitud_rcc_tipo_2022 = resultados_percentage.round(1)\n",
    "print(solicitud_rcc_tipo_2022)"
   ]
  },
  {
   "cell_type": "code",
   "execution_count": 18,
   "id": "1c52932a-8575-4f25-814f-afbb0512c988",
   "metadata": {},
   "outputs": [
    {
     "name": "stdout",
     "output_type": "stream",
     "text": [
      "                                   Balance General o P&G (%)  \\\n",
      "Cabeceras Municipales                                    3.2   \n",
      "Centros Poblados y Rural Disperso                        0.4   \n",
      "Total Nacional                                           2.3   \n",
      "\n",
      "                                   Libro de Registro Diario (%)  \\\n",
      "Cabeceras Municipales                                       3.9   \n",
      "Centros Poblados y Rural Disperso                           0.6   \n",
      "Total Nacional                                              2.9   \n",
      "\n",
      "                                   Otro Tipo de Cuentas (%)  \\\n",
      "Cabeceras Municipales                                  33.4   \n",
      "Centros Poblados y Rural Disperso                      17.3   \n",
      "Total Nacional                                         28.5   \n",
      "\n",
      "                                   Informes Financieros (%)  \\\n",
      "Cabeceras Municipales                                   0.2   \n",
      "Centros Poblados y Rural Disperso                       0.0   \n",
      "Total Nacional                                          0.2   \n",
      "\n",
      "                                   No Lleva Registros (%)  \n",
      "Cabeceras Municipales                                59.3  \n",
      "Centros Poblados y Rural Disperso                    81.7  \n",
      "Total Nacional                                       66.1  \n"
     ]
    }
   ],
   "source": [
    "#Distribución de micronegocios según tipo de registro contable (porcentaje). registro_contable_tipo\n",
    "emicron22['peso'] = emicron22['F_EXP']\n",
    "resultados = emicron22.groupby(['CLASE_TE', 'P640'])['peso'].sum().unstack(fill_value=0)\n",
    "resultados['Total'] = resultados.sum(axis=1)\n",
    "resultados_percentage = resultados.div(resultados['Total'], axis=0) * 100\n",
    "total_nacional_1 = resultados.loc[:, 1].sum()  # Suma de Balance general o P&G\n",
    "total_nacional_2 = resultados.loc[:, 2].sum()  # Suma de Libro de registro diario\n",
    "total_nacional_3 = resultados.loc[:, 3].sum()  # Suma de Otro tipo de cuentas\n",
    "total_nacional_4 = resultados.loc[:, 4].sum()  # Suma de Informes financieros\n",
    "total_nacional_5 = resultados.loc[:, 5].sum()  # Suma de No lleva registros\n",
    "total_nacional = pd.Series({\n",
    "    1: total_nacional_1,\n",
    "    2: total_nacional_2,\n",
    "    3: total_nacional_3,\n",
    "    4: total_nacional_4,\n",
    "    5: total_nacional_5\n",
    "})\n",
    "total_nacional_percentage = total_nacional / total_nacional.sum() * 100\n",
    "resultados_percentage.loc['Total Nacional'] = total_nacional_percentage\n",
    "resultados_percentage = resultados_percentage.drop(columns='Total')\n",
    "resultados_percentage.index = ['Cabeceras Municipales', 'Centros Poblados y Rural Disperso', 'Total Nacional']\n",
    "resultados_percentage.columns = ['Balance General o P&G (%)', 'Libro de Registro Diario (%)', \n",
    "                                 'Otro Tipo de Cuentas (%)', 'Informes Financieros (%)', 'No Lleva Registros (%)']\n",
    "registro_contable_tipo_2022 = resultados_percentage.round(1)\n",
    "print(registro_contable_tipo_2022)"
   ]
  },
  {
   "cell_type": "code",
   "execution_count": 19,
   "id": "ff20f511-c8f8-4806-8dbb-86fc6d6f9cef",
   "metadata": {},
   "outputs": [
    {
     "name": "stdout",
     "output_type": "stream",
     "text": [
      "Sí (%)              21.4\n",
      "No (%)              19.3\n",
      "No Responsable (%)  56.4\n",
      "No Informa (%)       3.0\n"
     ]
    }
   ],
   "source": [
    "#Micronegocios según declaración de impuestos renta (porcentaje). declaracion_tx\n",
    "emicron22['peso'] = emicron22['F_EXP']\n",
    "resultados = emicron22.groupby('P2991')['peso'].sum()\n",
    "resultados_percentage = (resultados / resultados.sum()) * 100\n",
    "resultados_percentage.index = ['Sí (%)', 'No (%)', 'No Responsable (%)', 'No Informa (%)']\n",
    "resultados_percentage = resultados_percentage.round(1)\n",
    "declaracion_tx_2022 = pd.DataFrame(resultados_percentage)\n",
    "print(declaracion_tx_2022.to_string(header=False))"
   ]
  },
  {
   "cell_type": "code",
   "execution_count": 20,
   "id": "535cbec4-1c66-4946-b318-bba41b895967",
   "metadata": {},
   "outputs": [
    {
     "name": "stdout",
     "output_type": "stream",
     "text": [
      "Sí (%)               6.4\n",
      "No (%)               1.2\n",
      "No Responsable (%)  91.9\n",
      "No Informa (%)       0.5\n"
     ]
    }
   ],
   "source": [
    "#Micronegocios según declaración de impuestos iva (porcentaje). declaracion_iva\n",
    "emicron22['peso'] = emicron22['F_EXP']\n",
    "resultados = emicron22.groupby('P2992')['peso'].sum()\n",
    "resultados_percentage = (resultados / resultados.sum()) * 100\n",
    "resultados_percentage.index = ['Sí (%)', 'No (%)', 'No Responsable (%)', 'No Informa (%)']\n",
    "resultados_percentage = resultados_percentage.round(1)\n",
    "declaracion_iva_2022 = pd.DataFrame(resultados_percentage)\n",
    "print(declaracion_iva_2022.to_string(header=False))"
   ]
  },
  {
   "cell_type": "code",
   "execution_count": 21,
   "id": "beb3558f-b99a-4a53-86e2-ce39ea8d30ff",
   "metadata": {
    "scrolled": true
   },
   "outputs": [
    {
     "name": "stdout",
     "output_type": "stream",
     "text": [
      "Sí (%)              19.2\n",
      "No (%)              16.2\n",
      "No Responsable (%)  61.1\n",
      "No Informa (%)       3.5\n"
     ]
    }
   ],
   "source": [
    "#Micronegocios según declaración de impuestos ica (porcentaje). declaracion_ica\n",
    "emicron22['peso'] = emicron22['F_EXP']\n",
    "resultados = emicron22.groupby('P2993')['peso'].sum()\n",
    "resultados_percentage = (resultados / resultados.sum()) * 100\n",
    "resultados_percentage.index = ['Sí (%)', 'No (%)', 'No Responsable (%)', 'No Informa (%)']\n",
    "resultados_percentage = resultados_percentage.round(1)\n",
    "declaracion_ica_2022 = pd.DataFrame(resultados_percentage)\n",
    "print(declaracion_ica_2022.to_string(header=False))"
   ]
  },
  {
   "cell_type": "markdown",
   "id": "3a370786-f53a-4a31-8af6-f33c7c42f490",
   "metadata": {},
   "source": [
    "# Emprendimiento"
   ]
  },
  {
   "cell_type": "code",
   "execution_count": 22,
   "id": "e37e4558-9b5f-4945-b913-5e9c4161d0ed",
   "metadata": {},
   "outputs": [
    {
     "name": "stdout",
     "output_type": "stream",
     "text": [
      "                                      Cabeceras Municipales (%)  \\\n",
      "Contitucion                                                       \n",
      "Otras personas, un familiar y otro                          1.9   \n",
      "Usted solo                                                 86.1   \n",
      "Usted y otras personas no familiares                        2.6   \n",
      "Usted y otros familiares                                    9.3   \n",
      "\n",
      "                                      Centros Poblados y Rural Disperso (%)  \\\n",
      "Contitucion                                                                   \n",
      "Otras personas, un familiar y otro                                      5.1   \n",
      "Usted solo                                                             76.9   \n",
      "Usted y otras personas no familiares                                    1.9   \n",
      "Usted y otros familiares                                               16.0   \n",
      "\n",
      "                                      Total Nacional (%)  \n",
      "Contitucion                                               \n",
      "Otras personas, un familiar y otro                   2.9  \n",
      "Usted solo                                          83.3  \n",
      "Usted y otras personas no familiares                 2.4  \n",
      "Usted y otros familiares                            11.4  \n"
     ]
    }
   ],
   "source": [
    "#Distribución de micronegocios según quién creó o constituyó el negocio (porcentaje). const_micron_tipo\n",
    "emicron22['Contitucion'] = emicron22['P3050'].replace({4: 'Otras personas, un familiar y otro',\n",
    "                                                           5: 'Otras personas, un familiar y otro',\n",
    "                                                           6: 'Otras personas, un familiar y otro'})\n",
    "emicron22['Contitucion'] = emicron22['Contitucion'].replace({1: 'Usted solo',\n",
    "                                                                   2: 'Usted y otros familiares',\n",
    "                                                                   3: 'Usted y otras personas no familiares'})\n",
    "def calcular_porcentajes(df, clase_te=None):\n",
    "    if clase_te is not None:\n",
    "        df = df[df['CLASE_TE'] == clase_te]\n",
    "    tabla = df.groupby('Contitucion')['F_EXP'].sum()\n",
    "    tabla_porcentajes = (tabla / tabla.sum()) * 100  \n",
    "    return tabla_porcentajes.round(1)\n",
    "porcentajes_cabeceras = calcular_porcentajes(emicron22, clase_te=1)\n",
    "porcentajes_rural = calcular_porcentajes(emicron22, clase_te=2)\n",
    "porcentajes_nacional = calcular_porcentajes(emicron22)\n",
    "const_micron_tipo_2022 = pd.DataFrame({\n",
    "    'Cabeceras Municipales (%)': porcentajes_cabeceras,\n",
    "    'Centros Poblados y Rural Disperso (%)': porcentajes_rural,\n",
    "    'Total Nacional (%)': porcentajes_nacional\n",
    "})\n",
    "print(const_micron_tipo_2022)"
   ]
  },
  {
   "cell_type": "code",
   "execution_count": 23,
   "id": "3c5ffa8a-ade2-44cb-85bd-a3400b569a15",
   "metadata": {},
   "outputs": [
    {
     "name": "stdout",
     "output_type": "stream",
     "text": [
      "                                             Cabeceras Municipales (%)  \\\n",
      "Motivo                                                                   \n",
      "Complementar o mejorar el ingreso familiar                         8.5   \n",
      "No experiencia o capacitación / Otro                               2.1   \n",
      "No tiene otra alternativa de ingresos                             37.9   \n",
      "Oportunidad de negocio en el mercado                              32.3   \n",
      "Para ejercer su oficio, carrera o profesión                       14.5   \n",
      "Por tradición familiar o lo heredó                                 4.8   \n",
      "\n",
      "                                             Centros Poblados y Rural Disperso (%)  \\\n",
      "Motivo                                                                               \n",
      "Complementar o mejorar el ingreso familiar                                     6.6   \n",
      "No experiencia o capacitación / Otro                                           2.8   \n",
      "No tiene otra alternativa de ingresos                                         37.8   \n",
      "Oportunidad de negocio en el mercado                                          23.8   \n",
      "Para ejercer su oficio, carrera o profesión                                    3.5   \n",
      "Por tradición familiar o lo heredó                                            25.5   \n",
      "\n",
      "                                             Total Nacional (%)  \n",
      "Motivo                                                           \n",
      "Complementar o mejorar el ingreso familiar                  7.9  \n",
      "No experiencia o capacitación / Otro                        2.3  \n",
      "No tiene otra alternativa de ingresos                      37.8  \n",
      "Oportunidad de negocio en el mercado                       29.7  \n",
      "Para ejercer su oficio, carrera o profesión                11.2  \n",
      "Por tradición familiar o lo heredó                         11.1  \n"
     ]
    }
   ],
   "source": [
    "#Distribución de micronegocios según motivo principal para la creación o constitución del negocio (porcentaje). motivo_const_tipo\n",
    "emicron22['Motivo'] = emicron22['P3051'].replace({6: 'No experiencia o capacitación / Otro',\n",
    "                                                           7: 'No experiencia o capacitación / Otro'})\n",
    "emicron22['Motivo'] = emicron22['Motivo'].replace({\n",
    "    1: 'No tiene otra alternativa de ingresos',\n",
    "    2: 'Oportunidad de negocio en el mercado',\n",
    "    3: 'Por tradición familiar o lo heredó',\n",
    "    4: 'Complementar o mejorar el ingreso familiar',\n",
    "    5: 'Para ejercer su oficio, carrera o profesión'\n",
    "})\n",
    "def calcular_porcentajes(df, clase_te=None):\n",
    "    if clase_te is not None:\n",
    "        df = df[df['CLASE_TE'] == clase_te]\n",
    "    tabla = df.groupby('Motivo')['F_EXP'].sum()\n",
    "    tabla_porcentajes = (tabla / tabla.sum()) * 100   \n",
    "    return tabla_porcentajes.round(1)\n",
    "porcentajes_cabeceras = calcular_porcentajes(emicron22, clase_te=1)\n",
    "porcentajes_rural = calcular_porcentajes(emicron22, clase_te=2)\n",
    "porcentajes_nacional = calcular_porcentajes(emicron22)\n",
    "motivo_const_tipo_2022 = pd.DataFrame({\n",
    "    'Cabeceras Municipales (%)': porcentajes_cabeceras,\n",
    "    'Centros Poblados y Rural Disperso (%)': porcentajes_rural,\n",
    "    'Total Nacional (%)': porcentajes_nacional\n",
    "})\n",
    "print(motivo_const_tipo_2022)"
   ]
  },
  {
   "cell_type": "code",
   "execution_count": 24,
   "id": "c855d05a-645f-4237-844b-9811093bef04",
   "metadata": {},
   "outputs": [
    {
     "name": "stdout",
     "output_type": "stream",
     "text": [
      "                         Cabeceras Municipales (%)  \\\n",
      "Tiempo                                               \n",
      "10 años y más                                 40.9   \n",
      "De 1 a menos de 3 años                        16.6   \n",
      "De 3 a menos de 5 años                        14.0   \n",
      "De 5 a menos de 10 años                       18.5   \n",
      "Menos de un año                               10.0   \n",
      "\n",
      "                         Centros Poblados y Rural Disperso (%)  \\\n",
      "Tiempo                                                           \n",
      "10 años y más                                             58.0   \n",
      "De 1 a menos de 3 años                                    10.9   \n",
      "De 3 a menos de 5 años                                     9.4   \n",
      "De 5 a menos de 10 años                                   15.0   \n",
      "Menos de un año                                            6.6   \n",
      "\n",
      "                         Total Nacional (%)  \n",
      "Tiempo                                       \n",
      "10 años y más                          46.1  \n",
      "De 1 a menos de 3 años                 14.9  \n",
      "De 3 a menos de 5 años                 12.6  \n",
      "De 5 a menos de 10 años                17.5  \n",
      "Menos de un año                         9.0  \n"
     ]
    }
   ],
   "source": [
    "#Distribución de micronegocios según tiempo de funcionamiento (porcentaje). micron_t_tipo\n",
    "emicron22['Tiempo'] = emicron22['P639'].replace({\n",
    "    1: 'Menos de un año',\n",
    "    2: 'De 1 a menos de 3 años',\n",
    "    3: 'De 3 a menos de 5 años',\n",
    "    4: 'De 5 a menos de 10 años',\n",
    "    5: '10 años y más'\n",
    "})\n",
    "def calcular_porcentajes(df, clase_te=None):\n",
    "    if clase_te is not None:\n",
    "        df = df[df['CLASE_TE'] == clase_te]\n",
    "    tabla = df.groupby('Tiempo')['F_EXP'].sum()\n",
    "    tabla_porcentajes = (tabla / tabla.sum()) * 100   \n",
    "    return tabla_porcentajes.round(1)\n",
    "porcentajes_cabeceras = calcular_porcentajes(emicron22, clase_te=1)\n",
    "porcentajes_rural = calcular_porcentajes(emicron22, clase_te=2)\n",
    "porcentajes_nacional = calcular_porcentajes(emicron22)\n",
    "micron_t_tipo_2022 = pd.DataFrame({\n",
    "    'Cabeceras Municipales (%)': porcentajes_cabeceras,\n",
    "    'Centros Poblados y Rural Disperso (%)': porcentajes_rural,\n",
    "    'Total Nacional (%)': porcentajes_nacional\n",
    "})\n",
    "print(micron_t_tipo_2022)"
   ]
  },
  {
   "cell_type": "code",
   "execution_count": 25,
   "id": "1b350bb8-7134-4bed-8996-cfba9b8f1093",
   "metadata": {},
   "outputs": [
    {
     "name": "stdout",
     "output_type": "stream",
     "text": [
      "                                  Cabeceras Municipales (%)  \\\n",
      "Fuente                                                        \n",
      "Ahorros personales                                     59.2   \n",
      "Capital semilla / No sabe / Otro                        1.4   \n",
      "No requirió financiación                               15.8   \n",
      "Prestamistas                                            3.4   \n",
      "Préstamos bancarios                                     8.6   \n",
      "Préstamos familiares                                   11.7   \n",
      "\n",
      "                                  Centros Poblados y Rural Disperso (%)  \\\n",
      "Fuente                                                                    \n",
      "Ahorros personales                                                 62.6   \n",
      "Capital semilla / No sabe / Otro                                    1.9   \n",
      "No requirió financiación                                           14.1   \n",
      "Prestamistas                                                        1.6   \n",
      "Préstamos bancarios                                                 9.9   \n",
      "Préstamos familiares                                                9.8   \n",
      "\n",
      "                                  Total Nacional (%)  \n",
      "Fuente                                                \n",
      "Ahorros personales                              60.2  \n",
      "Capital semilla / No sabe / Otro                 1.5  \n",
      "No requirió financiación                        15.3  \n",
      "Prestamistas                                     2.9  \n",
      "Préstamos bancarios                              9.0  \n",
      "Préstamos familiares                            11.1  \n"
     ]
    }
   ],
   "source": [
    "#Distribución de micronegocios según mayor fuente de recursos para la creación o constitución del negocio  (porcentaje). micron_financ\n",
    "emicron22['Fuente'] = emicron22['P3052'].replace({\n",
    "    5: 'Capital semilla / No sabe / Otro',\n",
    "    7: 'Capital semilla / No sabe / Otro',\n",
    "    8: 'Capital semilla / No sabe / Otro'\n",
    "})\n",
    "emicron22['Fuente'] = emicron22['Fuente'].replace({\n",
    "    1: 'Ahorros personales',\n",
    "    2: 'Préstamos familiares',\n",
    "    3: 'Préstamos bancarios',\n",
    "    4: 'Prestamistas',\n",
    "    6: 'No requirió financiación'\n",
    "})\n",
    "def calcular_porcentajes(df, clase_te=None):\n",
    "    if clase_te is not None:\n",
    "        df = df[df['CLASE_TE'] == clase_te]\n",
    "    tabla = df.groupby('Fuente')['F_EXP'].sum()\n",
    "    tabla_porcentajes = (tabla / tabla.sum()) * 100\n",
    "    return tabla_porcentajes.round(1)\n",
    "porcentajes_cabeceras = calcular_porcentajes(emicron22, clase_te=1)\n",
    "porcentajes_rural = calcular_porcentajes(emicron22, clase_te=2)\n",
    "porcentajes_nacional = calcular_porcentajes(emicron22)\n",
    "micron_financ_2022 = pd.DataFrame({\n",
    "    'Cabeceras Municipales (%)': porcentajes_cabeceras,\n",
    "    'Centros Poblados y Rural Disperso (%)': porcentajes_rural,\n",
    "    'Total Nacional (%)': porcentajes_nacional\n",
    "})\n",
    "print(micron_financ_2022)"
   ]
  },
  {
   "cell_type": "markdown",
   "id": "01bd9cd9-e561-43b5-814a-a7677b4b3152",
   "metadata": {},
   "source": [
    "# Sitio o Ubicación"
   ]
  },
  {
   "cell_type": "code",
   "execution_count": 26,
   "id": "acf96825-86ef-4abc-a93a-fd20f5677259",
   "metadata": {},
   "outputs": [
    {
     "name": "stdout",
     "output_type": "stream",
     "text": [
      "                                                    Cabeceras Municipales (%)  \\\n",
      "Ubicacion                                                                       \n",
      "Ambulante - sitio al descubierto                                         11.1   \n",
      "De puerta en puerta (a domicilio)                                        21.3   \n",
      "En su vivienda o en otra vivienda                                        30.1   \n",
      "Finca                                                                     2.9   \n",
      "Local, tienda, taller, fábrica, oficina, consul...                       16.4   \n",
      "Obra y construcción                                                       3.1   \n",
      "Otra                                                                      1.4   \n",
      "Vehículo con o sin motor                                                 13.6   \n",
      "\n",
      "                                                    Centros Poblados y Rural Disperso (%)  \\\n",
      "Ubicacion                                                                                   \n",
      "Ambulante - sitio al descubierto                                                      3.9   \n",
      "De puerta en puerta (a domicilio)                                                    17.5   \n",
      "En su vivienda o en otra vivienda                                                    21.4   \n",
      "Finca                                                                                40.9   \n",
      "Local, tienda, taller, fábrica, oficina, consul...                                    3.4   \n",
      "Obra y construcción                                                                   1.4   \n",
      "Otra                                                                                  6.8   \n",
      "Vehículo con o sin motor                                                              4.7   \n",
      "\n",
      "                                                    Total Nacional (%)  \n",
      "Ubicacion                                                               \n",
      "Ambulante - sitio al descubierto                                   8.9  \n",
      "De puerta en puerta (a domicilio)                                 20.2  \n",
      "En su vivienda o en otra vivienda                                 27.5  \n",
      "Finca                                                             14.4  \n",
      "Local, tienda, taller, fábrica, oficina, consul...                12.5  \n",
      "Obra y construcción                                                2.5  \n",
      "Otra                                                               3.0  \n",
      "Vehículo con o sin motor                                          10.9  \n"
     ]
    }
   ],
   "source": [
    "#Distribución de micronegocios según sitio o ubicación (porcentaje). emicron_ubic_tipo\n",
    "emicron22['Ubicacion'] = emicron22['P3053'].replace({\n",
    "    1: 'En su vivienda o en otra vivienda',\n",
    "    2: 'Local, tienda, taller, fábrica, oficina, consultorio',\n",
    "    3: 'De puerta en puerta (a domicilio)',\n",
    "    4: 'Ambulante - sitio al descubierto',\n",
    "    5: 'Vehículo con o sin motor',\n",
    "    6: 'Obra y construcción',\n",
    "    7: 'Finca',\n",
    "    8: 'Otra'\n",
    "})\n",
    "def calcular_porcentajes(df, clase_te=None):\n",
    "    if clase_te is not None:\n",
    "        df = df[df['CLASE_TE'] == clase_te]\n",
    "    tabla = df.groupby('Ubicacion')['F_EXP'].sum()\n",
    "    tabla_porcentajes = (tabla / tabla.sum()) * 100   \n",
    "    return tabla_porcentajes.round(1)\n",
    "porcentajes_cabeceras = calcular_porcentajes(emicron22, clase_te=1)\n",
    "porcentajes_rural = calcular_porcentajes(emicron22, clase_te=2)\n",
    "porcentajes_nacional = calcular_porcentajes(emicron22)\n",
    "emicron_ubic_tipo_2022 = pd.DataFrame({\n",
    "    'Cabeceras Municipales (%)': porcentajes_cabeceras,\n",
    "    'Centros Poblados y Rural Disperso (%)': porcentajes_rural,\n",
    "    'Total Nacional (%)': porcentajes_nacional\n",
    "})\n",
    "print(emicron_ubic_tipo_2022)"
   ]
  },
  {
   "cell_type": "markdown",
   "id": "c818b8f3-92d8-42be-bc80-b463f97f038e",
   "metadata": {},
   "source": [
    "# Tecnologías de la Información y la Comunicación"
   ]
  },
  {
   "cell_type": "code",
   "execution_count": 27,
   "id": "b7da1608-f2ed-4409-ac6b-c9d4475e3a7a",
   "metadata": {},
   "outputs": [
    {
     "name": "stdout",
     "output_type": "stream",
     "text": [
      "                                  Cabeceras Municipales (%)  \\\n",
      "Uso de Dispositivos Electronicos                              \n",
      "No                                                     85.3   \n",
      "Sí                                                     14.7   \n",
      "\n",
      "                                  Centros Poblados y Rural Disperso (%)  \\\n",
      "Uso de Dispositivos Electronicos                                          \n",
      "No                                                                 98.5   \n",
      "Sí                                                                  1.5   \n",
      "\n",
      "                                  Total Nacional (%)  \n",
      "Uso de Dispositivos Electronicos                      \n",
      "No                                              89.3  \n",
      "Sí                                              10.7  \n"
     ]
    }
   ],
   "source": [
    "#Distribución de micronegocios según uso de dispositivos electrónicos (porcentaje). uso_electr_tipo\n",
    "emicron22['Uso de Dispositivos Electronicos'] = emicron22['P4001'].replace({\n",
    "    1: 'Sí',\n",
    "    2: 'No'\n",
    "})\n",
    "def calcular_porcentajes(df, clase_te=None):\n",
    "    if clase_te is not None:\n",
    "        df = df[df['CLASE_TE'] == clase_te]\n",
    "    tabla = df.groupby('Uso de Dispositivos Electronicos')['F_EXP'].sum()\n",
    "    tabla_porcentajes = (tabla / tabla.sum()) * 100  \n",
    "    return tabla_porcentajes.round(1)\n",
    "porcentajes_cabeceras = calcular_porcentajes(emicron22, clase_te=1)\n",
    "porcentajes_rural = calcular_porcentajes(emicron22, clase_te=2)\n",
    "porcentajes_nacional = calcular_porcentajes(emicron22)\n",
    "uso_electr_tipo_2022 = pd.DataFrame({\n",
    "    'Cabeceras Municipales (%)': porcentajes_cabeceras,\n",
    "    'Centros Poblados y Rural Disperso (%)': porcentajes_rural,\n",
    "    'Total Nacional (%)': porcentajes_nacional\n",
    "})\n",
    "print(uso_electr_tipo_2022)"
   ]
  },
  {
   "cell_type": "code",
   "execution_count": 28,
   "id": "d8dfacaf-e368-4f9b-8217-149e7a226378",
   "metadata": {},
   "outputs": [
    {
     "name": "stdout",
     "output_type": "stream",
     "text": [
      "                         Cabeceras Municipales (%)  \\\n",
      "Uso de Telefono Celular                              \n",
      "No                                            25.6   \n",
      "Sí                                            74.4   \n",
      "\n",
      "                         Centros Poblados y Rural Disperso (%)  \\\n",
      "Uso de Telefono Celular                                          \n",
      "No                                                        55.3   \n",
      "Sí                                                        44.7   \n",
      "\n",
      "                         Total Nacional (%)  \n",
      "Uso de Telefono Celular                      \n",
      "No                                     34.6  \n",
      "Sí                                     65.4  \n"
     ]
    }
   ],
   "source": [
    "#Distribución de micronegocios según uso del teléfono celular (porcentaje). uso_cel_tipo\n",
    "emicron22['Uso de Telefono Celular'] = emicron22['P976'].replace({\n",
    "    1: 'Sí',\n",
    "    2: 'No'\n",
    "})\n",
    "def calcular_porcentajes(df, clase_te=None):\n",
    "    if clase_te is not None:\n",
    "        df = df[df['CLASE_TE'] == clase_te]\n",
    "    tabla = df.groupby('Uso de Telefono Celular')['F_EXP'].sum()\n",
    "    tabla_porcentajes = (tabla / tabla.sum()) * 100\n",
    "    return tabla_porcentajes.round(1)\n",
    "porcentajes_cabeceras = calcular_porcentajes(emicron22, clase_te=1)\n",
    "porcentajes_rural = calcular_porcentajes(emicron22, clase_te=2)\n",
    "porcentajes_nacional = calcular_porcentajes(emicron22)\n",
    "uso_cel_tipo_2022 = pd.DataFrame({\n",
    "    'Cabeceras Municipales (%)': porcentajes_cabeceras,\n",
    "    'Centros Poblados y Rural Disperso (%)': porcentajes_rural,\n",
    "    'Total Nacional (%)': porcentajes_nacional\n",
    "})\n",
    "print(uso_cel_tipo_2022)"
   ]
  },
  {
   "cell_type": "code",
   "execution_count": 29,
   "id": "afb0787a-ca73-4667-8e42-df0d88582d65",
   "metadata": {},
   "outputs": [
    {
     "name": "stdout",
     "output_type": "stream",
     "text": [
      "                         Cabeceras Municipales (%)  \\\n",
      "Tiene Acceso a Internet                              \n",
      "No                                            48.7   \n",
      "Sí                                            51.3   \n",
      "\n",
      "                         Centros Poblados y Rural Disperso (%)  \\\n",
      "Tiene Acceso a Internet                                          \n",
      "No                                                        85.2   \n",
      "Sí                                                        14.8   \n",
      "\n",
      "                         Total Nacional (%)  \n",
      "Tiene Acceso a Internet                      \n",
      "No                                     59.8  \n",
      "Sí                                     40.2  \n"
     ]
    }
   ],
   "source": [
    "#Distribución de micronegocios según uso del servicio de internet (porcentaje). uso_internet_tipo\n",
    "emicron22['Tiene Acceso a Internet'] = emicron22['P2524'].replace({\n",
    "    1: 'Sí',\n",
    "    2: 'No'\n",
    "})\n",
    "def calcular_porcentajes(df, clase_te=None):\n",
    "    if clase_te is not None:\n",
    "        df = df[df['CLASE_TE'] == clase_te]\n",
    "    tabla = df.groupby('Tiene Acceso a Internet')['F_EXP'].sum()\n",
    "    tabla_porcentajes = (tabla / tabla.sum()) * 100\n",
    "    return tabla_porcentajes.round(1)\n",
    "porcentajes_cabeceras = calcular_porcentajes(emicron22, clase_te=1)\n",
    "porcentajes_rural = calcular_porcentajes(emicron22, clase_te=2)\n",
    "porcentajes_nacional = calcular_porcentajes(emicron22)\n",
    "uso_internet_tipo_2022 = pd.DataFrame({\n",
    "    'Cabeceras Municipales (%)': porcentajes_cabeceras,\n",
    "    'Centros Poblados y Rural Disperso (%)': porcentajes_rural,\n",
    "    'Total Nacional (%)': porcentajes_nacional\n",
    "})\n",
    "print(uso_internet_tipo_2022)"
   ]
  },
  {
   "cell_type": "markdown",
   "id": "c3b9c590-ba54-4a60-b7b3-fbb8e16d21a2",
   "metadata": {},
   "source": [
    "# Ciudades principales y áreas metropolitanas"
   ]
  },
  {
   "cell_type": "code",
   "execution_count": 30,
   "id": "dafc1128-dd8f-40f4-ab38-a3daf989a581",
   "metadata": {},
   "outputs": [
    {
     "name": "stdout",
     "output_type": "stream",
     "text": [
      "Área Metropolitana / Ciudad  Porcentaje del Valor Agregado Anual (%)\n",
      "                Medellín AM                                     23.5\n",
      "                     Bogotá                                     23.2\n",
      "            Barranquilla AM                                      9.2\n",
      "                    Cali AM                                      8.6\n",
      "             Bucaramanga AM                                      6.3\n",
      "                  Cartagena                                      4.0\n",
      "              Villavicencio                                      3.7\n",
      "                  Cúcuta AM                                      2.8\n",
      "                 Pereira AM                                      2.5\n",
      "                Santa Marta                                      2.5\n",
      "               Manizales AM                                      2.4\n",
      "                     Ibagué                                      2.1\n",
      "                 Valledupar                                      1.7\n",
      "                      Neiva                                      1.5\n",
      "                      Pasto                                      1.3\n",
      "                  Sincelejo                                      1.0\n",
      "                    Armenia                                      0.9\n",
      "                   Riohacha                                      0.7\n",
      "                  Florencia                                      0.7\n",
      "                      Tunja                                      0.4\n",
      "                    Popayán                                      0.4\n",
      "                     Quibdó                                      0.2\n",
      "                 San Andrés                                      0.2\n"
     ]
    }
   ],
   "source": [
    "#Distribución del valor agregado por ciudad 24 Ciudades y áreas metropolitanas. valor_agreg_ciudades\n",
    "emicron22['VALOR_AGREGADO'] = pd.to_numeric(emicron22['VALOR_AGREGADO'], errors='coerce')\n",
    "emicron22['F_EXP'] = pd.to_numeric(emicron22['F_EXP'], errors='coerce')  \n",
    "emicron22['VALOR_AGREGADO_ANUAL'] = emicron22['VALOR_AGREGADO'] * 12 * emicron22['F_EXP']  \n",
    "ciudades_codigos = {\n",
    "    5.0: 'Medellín AM',\n",
    "    8.0: 'Barranquilla AM',\n",
    "    11.0: 'Bogotá',\n",
    "    13.0: 'Cartagena',\n",
    "    15.0: 'Tunja',\n",
    "    17.0: 'Manizales AM',\n",
    "    18.0: 'Florencia',\n",
    "    19.0: 'Popayán',\n",
    "    20.0: 'Valledupar',\n",
    "    22.0: 'Montería',\n",
    "    27.0: 'Quibdó',\n",
    "    41.0: 'Neiva',\n",
    "    44.0: 'Riohacha',\n",
    "    47.0: 'Santa Marta',\n",
    "    50.0: 'Villavicencio',\n",
    "    52.0: 'Pasto',\n",
    "    54.0: 'Cúcuta AM',\n",
    "    63.0: 'Armenia',\n",
    "    66.0: 'Pereira AM',\n",
    "    68.0: 'Bucaramanga AM',\n",
    "    70.0: 'Sincelejo',\n",
    "    73.0: 'Ibagué',\n",
    "    76.0: 'Cali AM',\n",
    "    88.0: 'San Andrés'\n",
    "}\n",
    "df_ciudades = emicron22[emicron22['AREA'].isin(ciudades_codigos.keys())]\n",
    "total_nacional = df_ciudades['VALOR_AGREGADO_ANUAL'].sum()  \n",
    "resultado = df_ciudades.groupby('AREA')['VALOR_AGREGADO_ANUAL'].sum().reset_index()\n",
    "resultado['Área Metropolitana / Ciudad'] = resultado['AREA'].map(ciudades_codigos)\n",
    "resultado['Porcentaje del Valor Agregado Anual (%)'] = (resultado['VALOR_AGREGADO_ANUAL'] / total_nacional) * 100\n",
    "resultado['Porcentaje del Valor Agregado Anual (%)'] = resultado['Porcentaje del Valor Agregado Anual (%)'].round(1)\n",
    "valor_agreg_ciudades_2022 = resultado[['Área Metropolitana / Ciudad', 'Porcentaje del Valor Agregado Anual (%)']]\n",
    "valor_agreg_ciudades_2022.sort_values(by='Porcentaje del Valor Agregado Anual (%)', ascending=False, inplace=True)\n",
    "print(valor_agreg_ciudades_2022.to_string(index=False))"
   ]
  },
  {
   "cell_type": "code",
   "execution_count": 31,
   "id": "b3b19d3e-0704-48a2-9e80-e143b8c07593",
   "metadata": {},
   "outputs": [
    {
     "name": "stdout",
     "output_type": "stream",
     "text": [
      "         Ciudad  Distribucion de micronegocios %\n",
      "         Bogotá                             21.2\n",
      "    Medellín AM                             18.0\n",
      "Barranquilla AM                             11.1\n",
      "        Cali AM                             11.1\n",
      " Bucaramanga AM                              6.1\n",
      "      Cartagena                              5.5\n",
      "      Cúcuta AM                              3.5\n",
      "    Santa Marta                              3.1\n",
      "  Villavicencio                              2.4\n",
      "     Pereira AM                              2.2\n",
      "     Valledupar                              2.2\n",
      "            NaN                              1.8\n",
      "      Sincelejo                              1.7\n",
      "   Manizales AM                              1.6\n",
      "         Ibagué                              1.5\n",
      "          Pasto                              1.4\n",
      "          Neiva                              1.1\n",
      "        Armenia                              1.0\n",
      "      Florencia                              0.8\n",
      "        Popayán                              0.8\n",
      "       Riohacha                              0.8\n",
      "          Tunja                              0.5\n",
      "         Quibdó                              0.3\n",
      "     San Andrés                              0.1\n"
     ]
    }
   ],
   "source": [
    "#Distribución de la cantidad de micronegocios según ciudad 24 Ciudades y áreas metropolitanas. micron_ciudades\n",
    "area_ciudades = {\n",
    "    5: 'Medellín AM', \n",
    "    8: 'Barranquilla AM', \n",
    "    11: 'Bogotá', \n",
    "    13: 'Cartagena', \n",
    "    15: 'Tunja', \n",
    "    17: 'Manizales AM', \n",
    "    18: 'Florencia', \n",
    "    19: 'Popayán', \n",
    "    20: 'Valledupar', \n",
    "    22: 'Montería', \n",
    "    27: 'Quibdó', \n",
    "    41: 'Neiva', \n",
    "    44: 'Riohacha', \n",
    "    47: 'Santa Marta', \n",
    "    50: 'Villavicencio', \n",
    "    52: 'Pasto', \n",
    "    54: 'Cúcuta AM', \n",
    "    63: 'Armenia', \n",
    "    66: 'Pereira AM', \n",
    "    68: 'Bucaramanga AM', \n",
    "    70: 'Sincelejo', \n",
    "    73: 'Ibagué', \n",
    "    76: 'Cali AM', \n",
    "    88: 'San Andrés'\n",
    "}\n",
    "distribucion = emicron22.groupby('AREA')['F_EXP'].sum()\n",
    "total_f_exp = distribucion.sum()\n",
    "distribucion_porcentaje = (distribucion / total_f_exp) * 100\n",
    "distribucion_porcentaje = distribucion_porcentaje.round(1)\n",
    "distribucion_porcentaje.index = distribucion_porcentaje.index.map(area_ciudades)\n",
    "distribucion_df = distribucion_porcentaje.reset_index()\n",
    "distribucion_df.columns = ['Ciudad', 'Distribucion de micronegocios %']\n",
    "micron_ciudades_2022 = distribucion_df.sort_values(by='Distribucion de micronegocios %', ascending=False).to_string(index=False)\n",
    "print(micron_ciudades_2022)"
   ]
  },
  {
   "cell_type": "code",
   "execution_count": 32,
   "id": "ed1b398b-9e1d-4483-a2b1-41e40c36f5bd",
   "metadata": {},
   "outputs": [
    {
     "name": "stdout",
     "output_type": "stream",
     "text": [
      "         Ciudad  Patrón o empleador (%)  Trabajador por cuenta propia (%)\n",
      "     San Andrés                    22.4                              77.6\n",
      "          Tunja                    16.8                              83.2\n",
      "         Bogotá                    16.2                              83.8\n",
      "        Popayán                    14.9                              85.1\n",
      "  Villavicencio                    12.2                              87.8\n",
      "        Armenia                    11.5                              88.5\n",
      "          Neiva                    11.5                              88.5\n",
      "   Manizales AM                    10.8                              89.2\n",
      "          Pasto                    10.6                              89.4\n",
      "    Medellín AM                     9.6                              90.4\n",
      "Barranquilla AM                     9.4                              90.6\n",
      "         Ibagué                     9.1                              90.9\n",
      "     Valledupar                     8.4                              91.6\n",
      "        Cali AM                     7.6                              92.4\n",
      "      Cúcuta AM                     7.4                              92.6\n",
      "         Quibdó                     7.1                              92.9\n",
      " Bucaramanga AM                     6.7                              93.3\n",
      "     Pereira AM                     6.2                              93.8\n",
      "       Riohacha                     6.0                              94.0\n",
      "      Florencia                     5.5                              94.5\n",
      "    Santa Marta                     4.1                              95.9\n",
      "      Cartagena                     3.6                              96.4\n",
      "      Sincelejo                     1.8                              98.2\n"
     ]
    }
   ],
   "source": [
    "#Distribución de micronegocios según situación en el empleo del propietario (porcentaje) 24 Ciudades y áreas metropolitanas.\n",
    "#prop_situa_ciudades\n",
    "emicron22['P3033'] = pd.to_numeric(emicron22['P3033'], errors='coerce')\n",
    "emicron22['F_EXP'] = pd.to_numeric(emicron22['F_EXP'], errors='coerce')\n",
    "area_ciudades = {\n",
    "    5.0: 'Medellín AM', \n",
    "    8.0: 'Barranquilla AM', \n",
    "    11.0: 'Bogotá', \n",
    "    13.0: 'Cartagena', \n",
    "    15.0: 'Tunja', \n",
    "    17.0: 'Manizales AM', \n",
    "    18.0: 'Florencia', \n",
    "    19.0: 'Popayán', \n",
    "    20.0: 'Valledupar', \n",
    "    22.0: 'Montería', \n",
    "    27.0: 'Quibdó', \n",
    "    41.0: 'Neiva', \n",
    "    44.0: 'Riohacha', \n",
    "    47.0: 'Santa Marta', \n",
    "    50.0: 'Villavicencio', \n",
    "    52.0: 'Pasto', \n",
    "    54.0: 'Cúcuta AM', \n",
    "    63.0: 'Armenia', \n",
    "    66.0: 'Pereira AM', \n",
    "    68.0: 'Bucaramanga AM', \n",
    "    70.0: 'Sincelejo', \n",
    "    73.0: 'Ibagué', \n",
    "    76.0: 'Cali AM', \n",
    "    88.0: 'San Andrés'\n",
    "}\n",
    "df_ciudades = emicron22[emicron22['AREA'].isin(area_ciudades.keys())]\n",
    "distribucion = df_ciudades.groupby(['AREA', 'P3033'])['F_EXP'].sum().unstack(fill_value=0)\n",
    "total_por_area = distribucion.sum(axis=1)\n",
    "distribucion_porcentajes = distribucion.div(total_por_area, axis=0) * 100\n",
    "distribucion_porcentajes = distribucion_porcentajes.round(1)\n",
    "distribucion_porcentajes['Ciudad'] = distribucion_porcentajes.index.map(area_ciudades)\n",
    "distribucion_porcentajes = distribucion_porcentajes[['Ciudad', 1.0, 2.0]]\n",
    "distribucion_porcentajes.columns = ['Ciudad', 'Patrón o empleador (%)', 'Trabajador por cuenta propia (%)']\n",
    "prop_situa_ciudades_2022 = distribucion_porcentajes.sort_values(by='Ciudad')\n",
    "print(prop_situa_ciudades_2022.sort_values(by='Patrón o empleador (%)', ascending=False).to_string(index=False))"
   ]
  },
  {
   "cell_type": "code",
   "execution_count": 33,
   "id": "45557423-de4a-4400-a52c-8365f8af5816",
   "metadata": {},
   "outputs": [
    {
     "name": "stdout",
     "output_type": "stream",
     "text": [
      "         Ciudad  Porcentaje de micronegocios en Servicios (%)\n",
      "      Cartagena                                          63.0\n",
      "     San Andrés                                          62.2\n",
      "    Santa Marta                                          62.0\n",
      "     Valledupar                                          62.0\n",
      "         Quibdó                                          58.8\n",
      "      Sincelejo                                          58.5\n",
      "        Cali AM                                          58.2\n",
      "       Riohacha                                          57.9\n",
      "Barranquilla AM                                          55.7\n",
      "    Medellín AM                                          55.5\n",
      "          Tunja                                          55.5\n",
      "        Armenia                                          55.1\n",
      "   Manizales AM                                          54.9\n",
      "          Neiva                                          54.9\n",
      "        Popayán                                          54.5\n",
      " Bucaramanga AM                                          53.3\n",
      "         Bogotá                                          53.1\n",
      "     Pereira AM                                          52.9\n",
      "      Florencia                                          52.4\n",
      "  Villavicencio                                          51.6\n",
      "          Pasto                                          50.4\n",
      "      Cúcuta AM                                          50.1\n",
      "         Ibagué                                          45.1\n"
     ]
    }
   ],
   "source": [
    "#Porcentaje de micronegocios que desarrollan actividades de servicios (porcentaje) 24 Ciudades y áreas metropolitanas.\n",
    "#micron_serv_ciudades\n",
    "emicron22['GRUPOS4'] = pd.to_numeric(emicron22['GRUPOS4'], errors='coerce')\n",
    "emicron22['F_EXP'] = pd.to_numeric(emicron22['F_EXP'], errors='coerce')\n",
    "area_ciudades = {\n",
    "    5.0: 'Medellín AM', \n",
    "    8.0: 'Barranquilla AM', \n",
    "    11.0: 'Bogotá', \n",
    "    13.0: 'Cartagena', \n",
    "    15.0: 'Tunja', \n",
    "    17.0: 'Manizales AM', \n",
    "    18.0: 'Florencia', \n",
    "    19.0: 'Popayán', \n",
    "    20.0: 'Valledupar', \n",
    "    22.0: 'Montería', \n",
    "    27.0: 'Quibdó', \n",
    "    41.0: 'Neiva', \n",
    "    44.0: 'Riohacha', \n",
    "    47.0: 'Santa Marta', \n",
    "    50.0: 'Villavicencio', \n",
    "    52.0: 'Pasto', \n",
    "    54.0: 'Cúcuta AM', \n",
    "    63.0: 'Armenia', \n",
    "    66.0: 'Pereira AM', \n",
    "    68.0: 'Bucaramanga AM', \n",
    "    70.0: 'Sincelejo', \n",
    "    73.0: 'Ibagué', \n",
    "    76.0: 'Cali AM', \n",
    "    88.0: 'San Andrés'\n",
    "}\n",
    "emicron22['Ciudad'] = emicron22['AREA'].map(area_ciudades)\n",
    "df_ciudades = emicron22[emicron22['Ciudad'].notna()]\n",
    "df_servicios = df_ciudades[df_ciudades['GRUPOS4'] == 4]\n",
    "total_servicios = df_servicios.groupby('Ciudad')['F_EXP'].sum()\n",
    "total_micronegocios = df_ciudades.groupby('Ciudad')['F_EXP'].sum()\n",
    "porcentaje_servicios = (total_servicios / total_micronegocios) * 100\n",
    "porcentaje_servicios = porcentaje_servicios.round(1)\n",
    "resultado = pd.DataFrame({\n",
    "    'Porcentaje de micronegocios en Servicios (%)': porcentaje_servicios\n",
    "}).reset_index()\n",
    "micron_serv_ciudades_2022 = resultado.sort_values(by='Porcentaje de micronegocios en Servicios (%)', ascending=False)\n",
    "print(micron_serv_ciudades_2022.to_string(index=False))"
   ]
  },
  {
   "cell_type": "code",
   "execution_count": 34,
   "id": "8703732c-ac62-44e1-acef-0f208c0dded8",
   "metadata": {},
   "outputs": [
    {
     "name": "stdout",
     "output_type": "stream",
     "text": [
      "         Ciudad  Porcentaje de micronegocios en Comercio (%)\n",
      "         Ibagué                                         39.8\n",
      "      Cúcuta AM                                         39.6\n",
      "  Villavicencio                                         35.8\n",
      "     Pereira AM                                         35.0\n",
      "          Pasto                                         34.8\n",
      "        Armenia                                         33.7\n",
      "   Manizales AM                                         33.6\n",
      "      Florencia                                         33.5\n",
      "         Bogotá                                         33.0\n",
      "        Popayán                                         32.6\n",
      " Bucaramanga AM                                         32.5\n",
      "Barranquilla AM                                         32.3\n",
      "          Tunja                                         31.7\n",
      "          Neiva                                         31.1\n",
      "    Medellín AM                                         30.1\n",
      "        Cali AM                                         29.9\n",
      "      Cartagena                                         28.8\n",
      "      Sincelejo                                         28.4\n",
      "       Riohacha                                         27.5\n",
      "     Valledupar                                         27.3\n",
      "    Santa Marta                                         27.2\n",
      "     San Andrés                                         25.6\n",
      "         Quibdó                                         25.1\n"
     ]
    }
   ],
   "source": [
    "#Porcentaje de micronegocios que desarrollan actividades de comercio (porcentaje) 24 Ciudades y áreas metropolitanas.\n",
    "#micron_comerc_ciudades\n",
    "emicron22['GRUPOS4'] = pd.to_numeric(emicron22['GRUPOS4'], errors='coerce')\n",
    "emicron22['F_EXP'] = pd.to_numeric(emicron22['F_EXP'], errors='coerce')\n",
    "area_ciudades = {\n",
    "    5.0: 'Medellín AM', \n",
    "    8.0: 'Barranquilla AM', \n",
    "    11.0: 'Bogotá', \n",
    "    13.0: 'Cartagena', \n",
    "    15.0: 'Tunja', \n",
    "    17.0: 'Manizales AM', \n",
    "    18.0: 'Florencia', \n",
    "    19.0: 'Popayán', \n",
    "    20.0: 'Valledupar', \n",
    "    22.0: 'Montería', \n",
    "    27.0: 'Quibdó', \n",
    "    41.0: 'Neiva', \n",
    "    44.0: 'Riohacha', \n",
    "    47.0: 'Santa Marta', \n",
    "    50.0: 'Villavicencio', \n",
    "    52.0: 'Pasto', \n",
    "    54.0: 'Cúcuta AM', \n",
    "    63.0: 'Armenia', \n",
    "    66.0: 'Pereira AM', \n",
    "    68.0: 'Bucaramanga AM', \n",
    "    70.0: 'Sincelejo', \n",
    "    73.0: 'Ibagué', \n",
    "    76.0: 'Cali AM', \n",
    "    88.0: 'San Andrés'\n",
    "}\n",
    "emicron22['Ciudad'] = emicron22['AREA'].map(area_ciudades)\n",
    "df_ciudades = emicron22[emicron22['Ciudad'].notna()]\n",
    "df_comercio = df_ciudades[df_ciudades['GRUPOS4'] == 3]\n",
    "total_comercio = df_comercio.groupby('Ciudad')['F_EXP'].sum()\n",
    "total_micronegocios = df_ciudades.groupby('Ciudad')['F_EXP'].sum()\n",
    "porcentaje_comercio = (total_comercio / total_micronegocios) * 100\n",
    "porcentaje_comercio = porcentaje_comercio.round(1)\n",
    "resultado = pd.DataFrame({\n",
    "    'Porcentaje de micronegocios en Comercio (%)': porcentaje_comercio\n",
    "}).reset_index()\n",
    "micron_comerc_ciudades_2022 = resultado.sort_values(by='Porcentaje de micronegocios en Comercio (%)', ascending=False)\n",
    "print(micron_comerc_ciudades_2022.to_string(index=False))"
   ]
  },
  {
   "cell_type": "code",
   "execution_count": 35,
   "id": "5b0e8ead-6565-455c-9776-81fdea39d8bd",
   "metadata": {},
   "outputs": [
    {
     "name": "stdout",
     "output_type": "stream",
     "text": [
      "         Ciudad  Porcentaje de micronegocios en Manufactura (%)\n",
      "         Ibagué                                            13.8\n",
      "    Medellín AM                                            13.8\n",
      "         Bogotá                                            13.3\n",
      "       Riohacha                                            13.3\n",
      "          Pasto                                            13.3\n",
      " Bucaramanga AM                                            13.1\n",
      "          Neiva                                            12.7\n",
      "Barranquilla AM                                            11.5\n",
      "        Cali AM                                            11.0\n",
      "      Sincelejo                                            10.7\n",
      "      Florencia                                            10.6\n",
      "        Popayán                                            10.5\n",
      "     Pereira AM                                            10.5\n",
      "        Armenia                                            10.2\n",
      "     Valledupar                                             9.8\n",
      "  Villavicencio                                             9.7\n",
      "          Tunja                                             9.7\n",
      "   Manizales AM                                             9.6\n",
      "      Cúcuta AM                                             9.5\n",
      "    Santa Marta                                             9.4\n",
      "     San Andrés                                             8.6\n",
      "      Cartagena                                             7.6\n",
      "         Quibdó                                             5.9\n"
     ]
    }
   ],
   "source": [
    "#Porcentaje de micronegocios que desarrollan actividades de industria manufacturera (porcentaje) 24 Ciudades y áreas metropolitanas.\n",
    "#micron_manuf_ciudades\n",
    "emicron22['GRUPOS4'] = pd.to_numeric(emicron22['GRUPOS4'], errors='coerce')\n",
    "emicron22['F_EXP'] = pd.to_numeric(emicron22['F_EXP'], errors='coerce')\n",
    "area_ciudades = {\n",
    "    5.0: 'Medellín AM', \n",
    "    8.0: 'Barranquilla AM', \n",
    "    11.0: 'Bogotá', \n",
    "    13.0: 'Cartagena', \n",
    "    15.0: 'Tunja', \n",
    "    17.0: 'Manizales AM', \n",
    "    18.0: 'Florencia', \n",
    "    19.0: 'Popayán', \n",
    "    20.0: 'Valledupar', \n",
    "    22.0: 'Montería', \n",
    "    27.0: 'Quibdó', \n",
    "    41.0: 'Neiva', \n",
    "    44.0: 'Riohacha', \n",
    "    47.0: 'Santa Marta', \n",
    "    50.0: 'Villavicencio', \n",
    "    52.0: 'Pasto', \n",
    "    54.0: 'Cúcuta AM', \n",
    "    63.0: 'Armenia', \n",
    "    66.0: 'Pereira AM', \n",
    "    68.0: 'Bucaramanga AM', \n",
    "    70.0: 'Sincelejo', \n",
    "    73.0: 'Ibagué', \n",
    "    76.0: 'Cali AM', \n",
    "    88.0: 'San Andrés'\n",
    "}\n",
    "emicron22['Ciudad'] = emicron22['AREA'].map(area_ciudades)\n",
    "df_ciudades = emicron22[emicron22['Ciudad'].notna()]\n",
    "df_manuf = df_ciudades[df_ciudades['GRUPOS4'] == 2]\n",
    "total_manuf = df_manuf.groupby('Ciudad')['F_EXP'].sum()\n",
    "total_micronegocios = df_ciudades.groupby('Ciudad')['F_EXP'].sum()\n",
    "porcentaje_manuf = (total_manuf / total_micronegocios) * 100\n",
    "porcentaje_manuf = porcentaje_manuf.round(1)\n",
    "resultado = pd.DataFrame({\n",
    "    'Porcentaje de micronegocios en Manufactura (%)': porcentaje_manuf\n",
    "}).reset_index()\n",
    "micron_manuf_ciudades_2022 = resultado.sort_values(by='Porcentaje de micronegocios en Manufactura (%)', ascending=False)\n",
    "print(micron_manuf_ciudades_2022.to_string(index=False))"
   ]
  },
  {
   "cell_type": "code",
   "execution_count": 36,
   "id": "e317c8ce-af64-4346-80db-bb0c0f6ffd74",
   "metadata": {},
   "outputs": [
    {
     "name": "stderr",
     "output_type": "stream",
     "text": [
      "[NbConvertApp] Converting notebook Indicators_2022.ipynb to script\n",
      "[NbConvertApp] Writing 36491 bytes to Indicators_2022.py\n"
     ]
    }
   ],
   "source": [
    "!jupyter nbconvert --to script Indicators_2022.ipynb"
   ]
  }
 ],
 "metadata": {
  "kernelspec": {
   "display_name": "Python 3 (ipykernel)",
   "language": "python",
   "name": "python3"
  },
  "language_info": {
   "codemirror_mode": {
    "name": "ipython",
    "version": 3
   },
   "file_extension": ".py",
   "mimetype": "text/x-python",
   "name": "python",
   "nbconvert_exporter": "python",
   "pygments_lexer": "ipython3",
   "version": "3.12.7"
  }
 },
 "nbformat": 4,
 "nbformat_minor": 5
}
