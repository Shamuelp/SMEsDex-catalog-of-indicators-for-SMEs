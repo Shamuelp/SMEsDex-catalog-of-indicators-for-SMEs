{
 "cells": [
  {
   "cell_type": "code",
   "execution_count": null,
   "id": "1094f116-01bf-4fbd-95e4-735c489a2dd2",
   "metadata": {
    "jupyter": {
     "source_hidden": true
    }
   },
   "outputs": [],
   "source": [
    "import os\n",
    "import shutil\n",
    "paths_to_delete = [\n",
    "    os.path.normpath(os.getcwd() + \"/emicron22.csv\").replace(\"\\\\\", \"/\"),\n",
    "    os.path.normpath(os.getcwd() + \"/emicron23.csv\").replace(\"\\\\\", \"/\"),\n",
    "    os.path.normpath(os.getcwd() + \"/Indicators_2022.py\").replace(\"\\\\\", \"/\"),\n",
    "    os.path.normpath(os.getcwd() + \"/Indicators_2023.py\").replace(\"\\\\\", \"/\"),\n",
    "    os.path.normpath(os.getcwd() + \"/status.txt\").replace(\"\\\\\", \"/\"),\n",
    "    # Folder 2022\n",
    "    os.path.normpath(os.getcwd() + \"/2022/2022_data\").replace(\"\\\\\", \"/\"),\n",
    "    os.path.normpath(os.getcwd() + \"/2022/2022_documentation.pdf\").replace(\"\\\\\", \"/\"),\n",
    "    os.path.normpath(os.getcwd() + \"/2022/emicron22.csv\").replace(\"\\\\\", \"/\"),\n",
    "    os.path.normpath(os.getcwd() + \"/2022/Indicators_2022.py\").replace(\"\\\\\", \"/\"),\n",
    "    os.path.normpath(os.getcwd() + \"/2022/Plots_2022.py\").replace(\"\\\\\", \"/\"),\n",
    "    # Folder 2023\n",
    "    os.path.normpath(os.getcwd() + \"/2023/2023_data\").replace(\"\\\\\", \"/\"),\n",
    "    os.path.normpath(os.getcwd() + \"/2023/2023_documentation.pdf\").replace(\"\\\\\", \"/\"),\n",
    "    os.path.normpath(os.getcwd() + \"/2023/emicron23.csv\").replace(\"\\\\\", \"/\"),\n",
    "    os.path.normpath(os.getcwd() + \"/2023/Indicators_2023.py\").replace(\"\\\\\", \"/\"),\n",
    "    os.path.normpath(os.getcwd() + \"/2023/Plots_2023.py\").replace(\"\\\\\", \"/\")\n",
    "]\n",
    "for path in paths_to_delete:\n",
    "    if os.path.exists(path):\n",
    "        try:\n",
    "            if os.path.isdir(path):\n",
    "                shutil.rmtree(path)\n",
    "                print(f\"Carpeta '{path}' y su contenido fueron borrados con éxito.\")\n",
    "            else:\n",
    "                os.remove(path)\n",
    "                print(f\"Archivo '{path}' borrado con éxito.\")\n",
    "        except Exception as e:\n",
    "            print(f\"Error al intentar borrar '{path}': {e}\")\n",
    "    else:\n",
    "        print(f\"El archivo o carpeta '{path}' no existe.\")"
   ]
  },
  {
   "cell_type": "code",
   "execution_count": null,
   "id": "5210d161-a80c-4ce3-ae02-f1b75526c327",
   "metadata": {},
   "outputs": [],
   "source": []
  }
 ],
 "metadata": {
  "kernelspec": {
   "display_name": "Python 3 (ipykernel)",
   "language": "python",
   "name": "python3"
  },
  "language_info": {
   "codemirror_mode": {
    "name": "ipython",
    "version": 3
   },
   "file_extension": ".py",
   "mimetype": "text/x-python",
   "name": "python",
   "nbconvert_exporter": "python",
   "pygments_lexer": "ipython3",
   "version": "3.12.7"
  }
 },
 "nbformat": 4,
 "nbformat_minor": 5
}
