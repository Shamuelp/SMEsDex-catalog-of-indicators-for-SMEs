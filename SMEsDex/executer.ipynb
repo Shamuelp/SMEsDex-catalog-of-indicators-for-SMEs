{
 "cells": [
  {
   "cell_type": "markdown",
   "id": "9777e7e7-0fb5-4ef1-b277-1a319e366004",
   "metadata": {},
   "source": [
    "# Libraries"
   ]
  },
  {
   "cell_type": "code",
   "execution_count": null,
   "id": "1b1cd3bc-a92b-41b3-be62-7a15699558e9",
   "metadata": {
    "jupyter": {
     "source_hidden": true
    }
   },
   "outputs": [],
   "source": [
    "import subprocess\n",
    "import sys\n",
    "libraries = [\n",
    "    \"nbformat\",\n",
    "    \"nbconvert\",\n",
    "    \"pandas\",\n",
    "    \"tqdm\",\n",
    "    \"shutil\",  # shutil es parte de la biblioteca estándar, no se necesita instalar\n",
    "    \"requests\",\n",
    "    \"zipfile\",  # zipfile es parte de la biblioteca estándar, no se necesita instalar\n",
    "    \"unicodedata\",  # unicodedata es parte de la biblioteca estándar, no se necesita instalar\n",
    "    \"numpy\",\n",
    "    \"pathlib\",  # pathlib es parte de la biblioteca estándar desde Python 3.4\n",
    "    \"matplotlib\",\n",
    "    \"ipywidgets\",\n",
    "]\n",
    "def check_and_install(library):\n",
    "    try:\n",
    "        __import__(library)  # Intenta importar la biblioteca\n",
    "    except ImportError:  # Si no está instalada, se genera una excepción\n",
    "        print(f\"{library} no está instalado. Instalando...\")\n",
    "        subprocess.check_call([sys.executable, \"-m\", \"pip\", \"install\", library])  # Instala la biblioteca\n",
    "        print(f\"{library} ha sido instalado.\")\n",
    "    else:\n",
    "        print(f\"{library} ya está instalado.\")\n",
    "for lib in libraries:\n",
    "    if lib not in [\"shutil\", \"zipfile\", \"unicodedata\", \"pathlib\"]:  # Estas no necesitan instalación\n",
    "        check_and_install(lib)\n",
    "print(\"Verificación e instalación de bibliotecas completa.\")"
   ]
  },
  {
   "cell_type": "code",
   "execution_count": null,
   "id": "59f5cdaa-3bde-4052-b465-d4084e01fa87",
   "metadata": {
    "jupyter": {
     "source_hidden": true
    }
   },
   "outputs": [],
   "source": [
    "import nbformat\n",
    "from nbconvert.preprocessors import ExecutePreprocessor\n",
    "import pandas as pd\n",
    "import time\n",
    "import os\n",
    "from tqdm.notebook import tqdm\n",
    "import shutil\n",
    "import requests\n",
    "import zipfile\n",
    "import unicodedata\n",
    "import numpy as np\n",
    "from pathlib import Path\n",
    "import matplotlib.pyplot as plt\n",
    "import warnings"
   ]
  },
  {
   "cell_type": "markdown",
   "id": "2bac9de1-3484-49a8-9d05-e45e3f540606",
   "metadata": {},
   "source": [
    "# Executer"
   ]
  },
  {
   "cell_type": "code",
   "execution_count": null,
   "id": "e2611081-4694-4e56-bcff-340a3f3efdee",
   "metadata": {
    "jupyter": {
     "source_hidden": true
    }
   },
   "outputs": [],
   "source": [
    "def read_csv_with_encoding(filepath):\n",
    "    encodings = ['utf-8', 'latin-1']\n",
    "    for encoding in encodings:\n",
    "        try:\n",
    "            return pd.read_csv(filepath, encoding=encoding, sep=',', low_memory=False)\n",
    "        except Exception as e:\n",
    "            print(f\"Error leyendo {filepath} con codificación {encoding}: {e}\")\n",
    "    raise ValueError(f\"No se pudo leer el archivo {filepath} con las codificaciones disponibles.\")\n",
    "\n",
    "def run_notebook(path):\n",
    "    # Abrir el notebook con codificación utf-8\n",
    "    with open(path, encoding='utf-8') as f:\n",
    "        nb = nbformat.read(f, as_version=4)      \n",
    "    ep = ExecutePreprocessor(timeout=600, kernel_name='python3')  \n",
    "    # directorio notebook\n",
    "    resources = {'metadata': {'path': os.path.dirname(path)}}   \n",
    "    try:\n",
    "        ep.preprocess(nb, resources)\n",
    "        print(f\"Ejecutado {os.path.basename(path)}\")\n",
    "    except Exception as e:\n",
    "        print(f\"Error al ejecutar {os.path.basename(path)}: {e}\")\n",
    "\n",
    "# carpetas y notebooks\n",
    "folders = [\n",
    "    {\n",
    "        \"name\": \"2022\",\n",
    "        \"notebooks\": [\n",
    "            \"2022_Downloader.ipynb\",\n",
    "            \"2022_Data_Base_Creation.ipynb\",\n",
    "            \"Indicators_2022.ipynb\",\n",
    "            \"Plots_2022.ipynb\"\n",
    "        ],\n",
    "        \"check_file\": \"emicron22.csv\"\n",
    "    },\n",
    "    {\n",
    "        \"name\": \"2023\",\n",
    "        \"notebooks\": [\n",
    "            \"2023_Downloader.ipynb\",\n",
    "            \"2023_Data_Base_Creation.ipynb\",\n",
    "            \"Indicators_2023.ipynb\",\n",
    "            \"Plots_2023.ipynb\"\n",
    "        ],\n",
    "        \"check_file\": \"emicron23.csv\"\n",
    "    }\n",
    "]\n",
    "\n",
    "# ejecutar los notebooks solo si es necesario\n",
    "for folder in folders:\n",
    "    folder_path = os.path.join(os.getcwd(), folder[\"name\"])\n",
    "    check_file_path = os.path.join(folder_path, folder[\"check_file\"])\n",
    "\n",
    "    # Verificar si el archivo de referencia existe\n",
    "    if os.path.exists(check_file_path):\n",
    "        print(f\"El archivo '{check_file_path}' ya existe. Se omite la ejecución en la carpeta {folder['name']}.\")\n",
    "        continue  # Saltar a la siguiente carpeta\n",
    "\n",
    "    print(f\"Ejecutando notebooks en la carpeta: {folder['name']}\")\n",
    "    # barra de progreso\n",
    "    with tqdm(total=len(folder[\"notebooks\"]), desc=f\"Ejecución de {folder['name']}\") as pbar:\n",
    "        for notebook_name in folder[\"notebooks\"]:\n",
    "            notebook_path = os.path.join(folder_path, notebook_name)\n",
    "            run_notebook(notebook_path)\n",
    "            time.sleep(3)  # Pausa de 3 segundos entre notebooks (solo para estar seguros)\n",
    "            pbar.update(1)"
   ]
  },
  {
   "cell_type": "code",
   "execution_count": null,
   "id": "23b10a16-c31d-4806-84dc-832b5ac8c288",
   "metadata": {
    "jupyter": {
     "source_hidden": true
    }
   },
   "outputs": [],
   "source": [
    "def copiar_archivo(original_file, copy_file):\n",
    "    if not os.path.exists(copy_file):\n",
    "        shutil.copy(original_file, copy_file)\n",
    "        print(f\"Copia del archivo creada: {copy_file}\")\n",
    "    else:\n",
    "        print(f\"La copia del archivo ya existe: {copy_file}\")\n",
    "original_file_22 = os.path.normpath(os.path.join(os.getcwd(), \"2022\", \"emicron22.csv\")).replace(\"\\\\\", \"/\")\n",
    "copy_file_22 = os.path.normpath(os.path.join(os.getcwd(), \"emicron22.csv\")).replace(\"\\\\\", \"/\")\n",
    "copiar_archivo(original_file_22, copy_file_22)\n",
    "original_file_23 = os.path.normpath(os.path.join(os.getcwd(), \"2023\", \"emicron23.csv\")).replace(\"\\\\\", \"/\")\n",
    "copy_file_23 = os.path.normpath(os.path.join(os.getcwd(), \"emicron23.csv\")).replace(\"\\\\\", \"/\")\n",
    "copiar_archivo(original_file_23, copy_file_23)\n",
    "\n",
    "original_file_ind2 = os.path.normpath(os.path.join(os.getcwd(), \"2022\", \"Indicators_2022.py\")).replace(\"\\\\\", \"/\")\n",
    "copy_file_ind2 = os.path.normpath(os.path.join(os.getcwd(), \"Indicators_2022.py\")).replace(\"\\\\\", \"/\")\n",
    "copiar_archivo(original_file_ind2, copy_file_ind2)\n",
    "original_ind3 = os.path.normpath(os.path.join(os.getcwd(), \"2023\", \"Indicators_2023.py\")).replace(\"\\\\\", \"/\")\n",
    "copy_ind3 = os.path.normpath(os.path.join(os.getcwd(), \"Indicators_2023.py\")).replace(\"\\\\\", \"/\")\n",
    "copiar_archivo(original_ind3, copy_ind3)"
   ]
  },
  {
   "cell_type": "code",
   "execution_count": null,
   "id": "4d813b19-5c6e-49a1-808a-2c4776bff04b",
   "metadata": {
    "jupyter": {
     "source_hidden": true
    }
   },
   "outputs": [],
   "source": [
    "file_path = \"status.txt\"\n",
    "if os.path.exists(file_path):\n",
    "    os.remove(file_path)\n",
    "    print(f\"'{file_path}' Set True. Deleted.\")\n",
    "else:\n",
    "    print(f\"'{file_path}' Set False. Generating.\")"
   ]
  },
  {
   "cell_type": "code",
   "execution_count": null,
   "id": "e81f290a-3ff2-4ba5-96d7-f49a31f81e6f",
   "metadata": {
    "jupyter": {
     "source_hidden": true
    },
    "scrolled": true
   },
   "outputs": [],
   "source": [
    "# Nombre del archivo de estado\n",
    "status_file = os.path.normpath(os.path.join(os.getcwd(), \"status.txt\")).replace(\"\\\\\", \"/\")\n",
    "# Rutas de los scripts\n",
    "Ind_22 = os.path.normpath(os.getcwd() + \"/2022/Indicators_2022.py\").replace(\"\\\\\", \"/\")\n",
    "Plot_22 = os.path.normpath(os.getcwd() + \"/2022/Plots_2022.py\").replace(\"\\\\\", \"/\")\n",
    "Ind_23 = os.path.normpath(os.getcwd() + \"/2023/Indicators_2023.py\").replace(\"\\\\\", \"/\")\n",
    "Plot_23 = os.path.normpath(os.getcwd() + \"/2023/Plots_2023.py\").replace(\"\\\\\", \"/\")\n",
    "# Función para cargar y ejecutar los scripts en el entorno actual\n",
    "def load_script(script_path):\n",
    "    with open(script_path, \"r\", encoding=\"utf-8\") as file:\n",
    "        script_content = file.read()\n",
    "    exec(script_content, globals())\n",
    "# Verificar si el archivo de estado ya existe\n",
    "if not os.path.exists(status_file):\n",
    "    # Ejecutar los scripts para importar sus objetos en el entorno del notebook\n",
    "    load_script(Ind_22)\n",
    "    load_script(Plot_22)\n",
    "    load_script(Ind_23)\n",
    "    load_script(Plot_23)\n",
    "    # Crear el archivo de estado\n",
    "    with open(status_file, 'w') as f:\n",
    "        f.write('Ejecución completa. Los scripts se han ejecutado y los objetos han sido importados.')\n",
    "    print(f\"Los scripts se han ejecutado y se ha creado el archivo de estado: {status_file}\")\n",
    "else:\n",
    "    print(f\"Los scripts ya se han ejecutado previamente. Archivo de estado encontrado: {status_file}\")"
   ]
  },
  {
   "cell_type": "code",
   "execution_count": null,
   "id": "b755074c-47b5-48a5-80e2-cf6e96d4bce1",
   "metadata": {
    "jupyter": {
     "source_hidden": true
    }
   },
   "outputs": [],
   "source": [
    "# Diccionarios de indicadores organizados en categorías\n",
    "indicadores = {\n",
    "    '2022': {\n",
    "        'Indicadores Principales': {\n",
    "            \"Participación de valor agregado por actividad económica (porcentaje).\": (\"participacion_valor_agregado_por_grupo_2022\", \"participacion_valor_agregado_por_grupo_2022_plot\"),\n",
    "            \"Distribución de micro negocios según actividad económica (porcentaje).\": (\"micronegocios_por_grupo_2022\", \"micronegocios_por_grupo_2022_plot\"),\n",
    "        },\n",
    "        'Empleo': {\n",
    "            \"Micronegocios según situación en el empleo del propietario(a).\": (\"micronegocios_segun_situacion_empleo_propietario_2022\", \"micronegocios_segun_situacion_empleo_propietario_2022_plot\"),\n",
    "            \"Propietarios de micronegocios según sexo (porcentaje).\": (\"propietarios_sex_2022\", \"propietarios_sex_2022_plot\"),\n",
    "            \"Micronegocios según rangos de personal ocupado (porcentaje).\": (\"rangos_personal_ocup_2022\", \"rangos_personal_ocup_2022_plot\"),\n",
    "        },\n",
    "        'Formalidad': {\n",
    "            \"Distribución según tenencia de RUT (porcentaje).\": (\"formalidad_rut_tipo_2022\", \"formalidad_rut_tipo_2022_plot\"),\n",
    "            \"Distribución según tenencia de registro en Cámara de Comercio (porcentaje).\": (\"formalidad_rcc_tipo_2022\", \"formalidad_rcc_tipo_2022_plot\"),\n",
    "            \"Distribución de propietarios según aportes a salud y pensión (porcentaje).\": (\"prop_aport_salud_pens_tipo_2022\", \"prop_aport_salud_pens_tipo_2022_plot\"),\n",
    "            \"Distribución de propietarios según aportes a ARL (porcentaje).\": (\"prop_aport_arl_tipo_2022\", \"prop_aport_arl_tipo_2022_plot\"),\n",
    "            \"Distribución de la cantidad de micronegocios según solicitud o renovación del registro ante Cámara de Comercio durante el año (porcentaje).\": (\"solicitud_rcc_tipo_2022\", \"solicitud_rcc_tipo_2022_plot\"),\n",
    "            \"Distribución de micronegocios según tipo de registro contable (porcentaje).\": (\"registro_contable_tipo_2022\", \"registro_contable_tipo_2022_plot\"),\n",
    "            \"Micronegocios según declaración de impuestos renta (porcentaje).\": (\"declaracion_tx_2022\", \"declaracion_tx_2022_plot\"),\n",
    "            \"Micronegocios según declaración de impuestos iva (porcentaje).\": (\"declaracion_iva_2022\", \"declaracion_iva_2022_plot\"),\n",
    "            \"Micronegocios según declaración de impuestos ica (porcentaje).\": (\"declaracion_ica_2022\", \"declaracion_ica_2022_plot\"),\n",
    "            \"Distribución de micronegocios según quién creó o constituyó el negocio (porcentaje).\": (\"const_micron_tipo_2022\", \"const_micron_tipo_2022_plot\"),\n",
    "            \"Distribución de micronegocios según motivo principal para la creación o constitución del negocio (porcentaje).\": (\"motivo_const_tipo_2022\", \"motivo_const_tipo_2022_plot\"),\n",
    "            \"Distribución de micronegocios según tiempo de funcionamiento (porcentaje).\": (\"micron_t_tipo_2022\", \"micron_t_tipo_2022_plot\"),\n",
    "            \"Distribución de micronegocios según mayor fuente de recursos para la creación o constitución del negocio (porcentaje).\": (\"micron_financ_2022\", \"micron_financ_2022_plot\"),\n",
    "        },\n",
    "        'Ubicación': {\n",
    "            \"Distribución de micronegocios según sitio o ubicación (porcentaje).\": (\"emicron_ubic_tipo_2022\", \"emicron_ubic_tipo_2022_plot\"),\n",
    "        },\n",
    "        'Tecnologías de la información y comunicación': {\n",
    "            \"Distribución de micronegocios según uso de dispositivos electrónicos (porcentaje).\": (\"uso_electr_tipo_2022\", \"uso_electr_tipo_2022_plot\"),\n",
    "            \"Distribución de micronegocios según uso del teléfono celular (porcentaje).\": (\"uso_cel_tipo_2022\", \"uso_cel_tipo_2022_plot\"),\n",
    "            \"Distribución de micronegocios según uso del servicio de internet (porcentaje).\": (\"uso_internet_tipo_2022\", \"uso_internet_tipo_2022_plot\"),\n",
    "        },\n",
    "        'Ciudades Principales y Áreas Metropolitanas': {\n",
    "            \"Distribución del valor agregado por ciudad 24 Ciudades y áreas metropolitanas (porcentaje).\": (\"valor_agreg_ciudades_2022\", \"valor_agreg_ciudades_2022_plot\"),\n",
    "            \"Distribución de la cantidad de micronegocios según ciudad 24 Ciudades y áreas metropolitanas (porcentaje).\": (\"micron_ciudades_2022\", \"micron_ciudades_2022_plot\"),\n",
    "            \"Distribución de micronegocios según situación en el empleo del propietario (porcentaje) 24 Ciudades y áreas metropolitanas.\": (\"prop_situa_ciudades_2022\", \"prop_situa_ciudades_2022_plot\"),\n",
    "            \"Porcentaje de micronegocios que desarrollan actividades de servicios (porcentaje) 24 Ciudades y áreas metropolitanas.\": (\"micron_serv_ciudades_2022\", \"micron_serv_ciudades_2022_plot\"),\n",
    "            \"Porcentaje de micronegocios que desarrollan actividades de comercio (porcentaje) 24 Ciudades y áreas metropolitanas.\": (\"micron_comerc_ciudades_2022\", \"micron_comerc_ciudades_2022_plot\"),\n",
    "            \"Porcentaje de micronegocios que desarrollan actividades de industria manufacturera (porcentaje) 24 Ciudades y áreas metropolitanas.\": (\"micron_manuf_ciudades_2022\", \"micron_manuf_ciudades_2022_plot\"),\n",
    "        }\n",
    "    },\n",
    "     '2023': {\n",
    "        'Indicadores Principales': {\n",
    "            \"Participación de valor agregado por actividad económica (porcentaje).\": (\"participacion_valor_agregado_por_grupo_2023\", \"participacion_valor_agregado_por_grupo_2023_plot\"),\n",
    "            \"Distribución de micro negocios según actividad económica (porcentaje).\": (\"micronegocios_por_grupo_2023\", \"micronegocios_por_grupo_2023_plot\"),\n",
    "        },\n",
    "        'Empleo': {\n",
    "            \"Micronegocios según situación en el empleo del propietario(a).\": (\"micronegocios_segun_situacion_empleo_propietario_2023\", \"micronegocios_segun_situacion_empleo_propietario_2023_plot\"),\n",
    "            \"Propietarios de micronegocios según sexo (porcentaje).\": (\"propietarios_sex_2023\", \"propietarios_sex_2023_plot\"),\n",
    "            \"Micronegocios según rangos de personal ocupado (porcentaje).\": (\"rangos_personal_ocup_2023\", \"rangos_personal_ocup_2023_plot\"),\n",
    "        },\n",
    "        'Formalidad': {\n",
    "            \"Distribución según tenencia de RUT (porcentaje).\": (\"formalidad_rut_tipo_2023\", \"formalidad_rut_tipo_2023_plot\"),\n",
    "            \"Distribución según tenencia de registro en Cámara de Comercio (porcentaje).\": (\"formalidad_rcc_tipo_2023\", \"formalidad_rcc_tipo_2023_plot\"),\n",
    "            \"Distribución de propietarios según aportes a salud y pensión (porcentaje).\": (\"prop_aport_salud_pens_tipo_2023\", \"prop_aport_salud_pens_tipo_2023_plot\"),\n",
    "            \"Distribución de propietarios según aportes a ARL (porcentaje).\": (\"prop_aport_arl_tipo_2023\", \"prop_aport_arl_tipo_2023_plot\"),\n",
    "            \"Distribución de la cantidad de micronegocios según solicitud o renovación del registro ante Cámara de Comercio durante el año (porcentaje).\": (\"solicitud_rcc_tipo_2023\", \"solicitud_rcc_tipo_2023_plot\"),\n",
    "            \"Distribución de micronegocios según tipo de registro contable (porcentaje).\": (\"registro_contable_tipo_2023\", \"registro_contable_tipo_2023_plot\"),\n",
    "            \"Micronegocios según declaración de impuestos renta (porcentaje).\": (\"declaracion_tx_2023\", \"declaracion_tx_2023_plot\"),\n",
    "            \"Micronegocios según declaración de impuestos iva (porcentaje).\": (\"declaracion_iva_2023\", \"declaracion_iva_2023_plot\"),\n",
    "            \"Micronegocios según declaración de impuestos ica (porcentaje).\": (\"declaracion_ica_2023\", \"declaracion_ica_2023_plot\"),\n",
    "            \"Distribución de micronegocios según quién creó o constituyó el negocio (porcentaje).\": (\"const_micron_tipo_2023\", \"const_micron_tipo_2023_plot\"),\n",
    "            \"Distribución de micronegocios según motivo principal para la creación o constitución del negocio (porcentaje).\": (\"motivo_const_tipo_2023\", \"motivo_const_tipo_2023_plot\"),\n",
    "            \"Distribución de micronegocios según tiempo de funcionamiento (porcentaje).\": (\"micron_t_tipo_2023\", \"micron_t_tipo_2023_plot\"),\n",
    "            \"Distribución de micronegocios según mayor fuente de recursos para la creación o constitución del negocio (porcentaje).\": (\"micron_financ_2023\", \"micron_financ_2023_plot\"),\n",
    "        },\n",
    "        'Ubicación': {\n",
    "            \"Distribución de micronegocios según sitio o ubicación (porcentaje).\": (\"emicron_ubic_tipo_2023\", \"emicron_ubic_tipo_2023_plot\"),\n",
    "        },\n",
    "        'Tecnologías de la información y comunicación': {\n",
    "            \"Distribución de micronegocios según uso de dispositivos electrónicos (porcentaje).\": (\"uso_electr_tipo_2023\", \"uso_electr_tipo_2023_plot\"),\n",
    "            \"Distribución de micronegocios según uso del teléfono celular (porcentaje).\": (\"uso_cel_tipo_2023\", \"uso_cel_tipo_2023_plot\"),\n",
    "            \"Distribución de micronegocios según uso del servicio de internet (porcentaje).\": (\"uso_internet_tipo_2023\", \"uso_internet_tipo_2023_plot\"),\n",
    "        },\n",
    "        'Ciudades Principales y Áreas Metropolitanas': {\n",
    "            \"Distribución del valor agregado por ciudad 24 Ciudades y áreas metropolitanas (porcentaje).\": (\"valor_agreg_ciudades_2023\", \"valor_agreg_ciudades_2023_plot\"),\n",
    "            \"Distribución de la cantidad de micronegocios según ciudad 24 Ciudades y áreas metropolitanas (porcentaje).\": (\"micron_ciudades_2023\", \"micron_ciudades_2023_plot\"),\n",
    "            \"Distribución de micronegocios según situación en el empleo del propietario (porcentaje) 24 Ciudades y áreas metropolitanas.\": (\"prop_situa_ciudades_2023\", \"prop_situa_ciudades_2023_plot\"),\n",
    "            \"Porcentaje de micronegocios que desarrollan actividades de servicios (porcentaje) 24 Ciudades y áreas metropolitanas.\": (\"micron_serv_ciudades_2023\", \"micron_serv_ciudades_2023_plot\"),\n",
    "            \"Porcentaje de micronegocios que desarrollan actividades de comercio (porcentaje) 24 Ciudades y áreas metropolitanas.\": (\"micron_comerc_ciudades_2023\", \"micron_comerc_ciudades_2023_plot\"),\n",
    "            \"Porcentaje de micronegocios que desarrollan actividades de industria manufacturera (porcentaje) 24 Ciudades y áreas metropolitanas.\": (\"micron_manuf_ciudades_2023\", \"micron_manuf_ciudades_2023_plot\"),\n",
    "        }\n",
    "    }\n",
    "} "
   ]
  },
  {
   "cell_type": "markdown",
   "id": "d5c09036-5eb0-40d5-84c1-04fbd243d6bd",
   "metadata": {},
   "source": [
    "# Jupyter UI"
   ]
  },
  {
   "cell_type": "code",
   "execution_count": null,
   "id": "069c94d6-623d-40b2-824b-f4a07308aadc",
   "metadata": {
    "jupyter": {
     "source_hidden": true
    }
   },
   "outputs": [],
   "source": [
    "import ipywidgets as widgets\n",
    "from IPython.display import display, clear_output\n",
    "\n",
    "# Crear los Dropdowns para seleccionar año, categoría y el indicador\n",
    "year_selector = widgets.Dropdown(options=['2022', '2023'], description='Año:')\n",
    "category_selector = widgets.Dropdown(options=[], description='Categoría:')\n",
    "indicator_selector = widgets.Dropdown(options=[], description='Indicador:')\n",
    "\n",
    "# Crear el área de salida\n",
    "output = widgets.Output()\n",
    "\n",
    "# Función para actualizar las categorías según el año seleccionado\n",
    "def update_categories(change):\n",
    "    selected_year = change['new']\n",
    "    categories = list(indicadores[selected_year].keys())\n",
    "    category_selector.options = categories\n",
    "    category_selector.value = None  # Resetear la categoría seleccionada\n",
    "\n",
    "# Función para actualizar los indicadores según la categoría seleccionada\n",
    "def update_indicators(change):\n",
    "    selected_year = year_selector.value\n",
    "    selected_category = change['new']\n",
    "    if selected_category:\n",
    "        indicator_selector.options = list(indicadores[selected_year][selected_category].keys())\n",
    "    else:\n",
    "        indicator_selector.options = []\n",
    "    indicator_selector.value = None  # Resetear el indicador seleccionado\n",
    "\n",
    "# Función para manejar el cambio en el indicador\n",
    "def on_indicator_change(change):\n",
    "    with output:\n",
    "        clear_output(wait=True)\n",
    "        selected_year = year_selector.value\n",
    "        selected_category = category_selector.value\n",
    "        selected_indicator = change['new']\n",
    "        \n",
    "        if selected_category and selected_indicator:\n",
    "            table_name, plot_name = indicadores[selected_year][selected_category][selected_indicator]\n",
    "            table = globals().get(table_name)\n",
    "            plot = globals().get(plot_name)\n",
    "            display(table)\n",
    "            display(plot)\n",
    "\n",
    "# Asignar las funciones a los cambios en los Dropdowns\n",
    "year_selector.observe(update_categories, names='value')\n",
    "category_selector.observe(update_indicators, names='value')\n",
    "indicator_selector.observe(on_indicator_change, names='value')\n",
    "\n",
    "# Mostrar los widgets\n",
    "display(year_selector, category_selector, indicator_selector, output)\n"
   ]
  },
  {
   "cell_type": "code",
   "execution_count": null,
   "id": "2196977a-d7fb-45b9-90c9-c6caddf95add",
   "metadata": {},
   "outputs": [],
   "source": []
  }
 ],
 "metadata": {
  "kernelspec": {
   "display_name": "Python 3 (ipykernel)",
   "language": "python",
   "name": "python3"
  },
  "language_info": {
   "codemirror_mode": {
    "name": "ipython",
    "version": 3
   },
   "file_extension": ".py",
   "mimetype": "text/x-python",
   "name": "python",
   "nbconvert_exporter": "python",
   "pygments_lexer": "ipython3",
   "version": "3.12.7"
  }
 },
 "nbformat": 4,
 "nbformat_minor": 5
}
